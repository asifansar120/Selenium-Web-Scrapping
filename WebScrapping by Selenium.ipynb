{
 "cells": [
  {
   "cell_type": "markdown",
   "id": "ec9faad0",
   "metadata": {},
   "source": [
    "# Q1: Write a python program to scrape data for “Data Analyst” Job position in \n",
    "“Bangalore” location. You have to scrape the job-title, job-location, company_name,\n",
    "experience_required. You have to scrape first 10 jobs data."
   ]
  },
  {
   "cell_type": "code",
   "execution_count": 2,
   "id": "6cb62c56",
   "metadata": {},
   "outputs": [],
   "source": [
    "import selenium \n",
    "import pandas as pd\n",
    "from selenium import webdriver"
   ]
  },
  {
   "cell_type": "code",
   "execution_count": 27,
   "id": "616f4e2b",
   "metadata": {},
   "outputs": [
    {
     "data": {
      "text/plain": [
       "<selenium.webdriver.chrome.webdriver.WebDriver (session=\"39f45c0dfc7a84b43035a4ab10aae400\")>"
      ]
     },
     "execution_count": 27,
     "metadata": {},
     "output_type": "execute_result"
    }
   ],
   "source": [
    "driver=webdriver.Chrome('Chromedriver.exe')\n",
    "driver"
   ]
  },
  {
   "cell_type": "code",
   "execution_count": 48,
   "id": "c581ffca",
   "metadata": {},
   "outputs": [],
   "source": [
    "url='https://www.naukri.com/'\n",
    "driver.get(url)"
   ]
  },
  {
   "cell_type": "code",
   "execution_count": 49,
   "id": "3c4ff449",
   "metadata": {},
   "outputs": [
    {
     "data": {
      "text/plain": [
       "<selenium.webdriver.remote.webelement.WebElement (session=\"38eefb7f22a4d450add736ff44755913\", element=\"0f184602-8f12-4203-8039-8a73b14cc353\")>"
      ]
     },
     "execution_count": 49,
     "metadata": {},
     "output_type": "execute_result"
    }
   ],
   "source": [
    "search_job=driver.find_element_by_id(\"qsb-keyword-sugg\")\n",
    "search_job"
   ]
  },
  {
   "cell_type": "code",
   "execution_count": 50,
   "id": "b078f61c",
   "metadata": {},
   "outputs": [],
   "source": [
    "search_job.send_keys(\"Data Analyst\")"
   ]
  },
  {
   "cell_type": "code",
   "execution_count": 51,
   "id": "4163f4c0",
   "metadata": {},
   "outputs": [],
   "source": [
    "job_loc=driver.find_element_by_id(\"qsb-location-sugg\")"
   ]
  },
  {
   "cell_type": "code",
   "execution_count": 52,
   "id": "4ad889f4",
   "metadata": {},
   "outputs": [],
   "source": [
    "job_loc.send_keys(\"Banglore\")"
   ]
  },
  {
   "cell_type": "code",
   "execution_count": 53,
   "id": "a2f6e467",
   "metadata": {},
   "outputs": [],
   "source": [
    "search_bar=driver.find_element_by_xpath(\"//div[@class = 'search-btn']\")\n",
    "search_bar.click()"
   ]
  },
  {
   "cell_type": "code",
   "execution_count": 54,
   "id": "6a675901",
   "metadata": {},
   "outputs": [
    {
     "data": {
      "text/plain": [
       "[<selenium.webdriver.remote.webelement.WebElement (session=\"38eefb7f22a4d450add736ff44755913\", element=\"e0c24bde-1b40-4c53-8108-44227634f6a9\")>,\n",
       " <selenium.webdriver.remote.webelement.WebElement (session=\"38eefb7f22a4d450add736ff44755913\", element=\"354e4653-55f2-4401-b540-393035cf962b\")>,\n",
       " <selenium.webdriver.remote.webelement.WebElement (session=\"38eefb7f22a4d450add736ff44755913\", element=\"8229dec0-7822-4074-b9c9-de42a30093c3\")>,\n",
       " <selenium.webdriver.remote.webelement.WebElement (session=\"38eefb7f22a4d450add736ff44755913\", element=\"aef59167-3fc4-475a-a65c-c747cc6b639f\")>,\n",
       " <selenium.webdriver.remote.webelement.WebElement (session=\"38eefb7f22a4d450add736ff44755913\", element=\"e5960c59-9f5a-4427-80b8-c397cc9d3a6b\")>,\n",
       " <selenium.webdriver.remote.webelement.WebElement (session=\"38eefb7f22a4d450add736ff44755913\", element=\"0299c958-20ce-42a1-b09b-f7cfa8fefe2b\")>,\n",
       " <selenium.webdriver.remote.webelement.WebElement (session=\"38eefb7f22a4d450add736ff44755913\", element=\"429d8a4b-09ce-4606-a8dc-bb4e1580aff6\")>,\n",
       " <selenium.webdriver.remote.webelement.WebElement (session=\"38eefb7f22a4d450add736ff44755913\", element=\"57813fdb-c454-41ea-b3de-faa114f6fe9f\")>,\n",
       " <selenium.webdriver.remote.webelement.WebElement (session=\"38eefb7f22a4d450add736ff44755913\", element=\"2c725b91-c372-4a07-a7f1-958e54c426b6\")>,\n",
       " <selenium.webdriver.remote.webelement.WebElement (session=\"38eefb7f22a4d450add736ff44755913\", element=\"2ff6a298-7e4d-482b-90f1-112e99aa1260\")>,\n",
       " <selenium.webdriver.remote.webelement.WebElement (session=\"38eefb7f22a4d450add736ff44755913\", element=\"89cd8fba-b276-45ef-9cdc-f06f9f209cb9\")>,\n",
       " <selenium.webdriver.remote.webelement.WebElement (session=\"38eefb7f22a4d450add736ff44755913\", element=\"e01a7c82-2b40-42af-aa73-54c9cc310124\")>,\n",
       " <selenium.webdriver.remote.webelement.WebElement (session=\"38eefb7f22a4d450add736ff44755913\", element=\"1dc37e04-3f4e-4e76-bc06-ef9b433bf647\")>,\n",
       " <selenium.webdriver.remote.webelement.WebElement (session=\"38eefb7f22a4d450add736ff44755913\", element=\"e3efd35a-fcfa-4d4f-b733-ee22c1c704b1\")>,\n",
       " <selenium.webdriver.remote.webelement.WebElement (session=\"38eefb7f22a4d450add736ff44755913\", element=\"02aec560-8245-42e7-9723-aef2359264b2\")>,\n",
       " <selenium.webdriver.remote.webelement.WebElement (session=\"38eefb7f22a4d450add736ff44755913\", element=\"2df29bb4-1b72-445d-a673-c9242a8bb791\")>,\n",
       " <selenium.webdriver.remote.webelement.WebElement (session=\"38eefb7f22a4d450add736ff44755913\", element=\"f6d2d658-b339-44d0-a853-5043cc6dd4d0\")>,\n",
       " <selenium.webdriver.remote.webelement.WebElement (session=\"38eefb7f22a4d450add736ff44755913\", element=\"9f1111cc-89c3-4d8c-8032-b18ed0d1f752\")>,\n",
       " <selenium.webdriver.remote.webelement.WebElement (session=\"38eefb7f22a4d450add736ff44755913\", element=\"cfd2235d-9506-4465-94c0-a555bc1873da\")>,\n",
       " <selenium.webdriver.remote.webelement.WebElement (session=\"38eefb7f22a4d450add736ff44755913\", element=\"ec42a2e7-2491-4c74-a1f6-0aa7e7bd6b06\")>]"
      ]
     },
     "execution_count": 54,
     "metadata": {},
     "output_type": "execute_result"
    }
   ],
   "source": [
    "job_title=driver.find_elements_by_xpath(\"//a[@class='title fw500 ellipsis']\")\n",
    "job_title"
   ]
  },
  {
   "cell_type": "code",
   "execution_count": 55,
   "id": "7c0c473e",
   "metadata": {},
   "outputs": [
    {
     "data": {
      "text/plain": [
       "['Senior Data Analyst',\n",
       " 'Senior Data Analyst',\n",
       " 'Senior Data Analyst',\n",
       " 'SENIOR MARKETING DATA ANALYST',\n",
       " 'Data Analyst',\n",
       " 'Senior Data Analyst',\n",
       " 'Data Analyst',\n",
       " 'Data Analyst/Data Scientist',\n",
       " 'Senior Data Analyst - Supporting Audits',\n",
       " 'Data Analyst - Quantitative Support Team',\n",
       " 'Urgent Openings For Data Analysts.',\n",
       " 'Stanza Living Hiring For Data Analyst /MIS',\n",
       " 'Stanza Living Hiring For Data Analyst /MIS',\n",
       " 'Sr Data Analyst',\n",
       " 'Senior Data Analyst',\n",
       " 'Data Analyst/Data Source Engineer - SOQL/SOSL',\n",
       " 'Data Analyst (Alteryx) , (Datorama)',\n",
       " 'ART DATA Analyst - LA Level',\n",
       " 'Data Analyst 1',\n",
       " 'Senior Business Analyst - Data Analytics | Talent500']"
      ]
     },
     "execution_count": 55,
     "metadata": {},
     "output_type": "execute_result"
    }
   ],
   "source": [
    "job_titles=[]\n",
    "for i in job_title:\n",
    "    job_titles.append(i.text)\n",
    "job_titles    "
   ]
  },
  {
   "cell_type": "code",
   "execution_count": 56,
   "id": "913b77f5",
   "metadata": {},
   "outputs": [
    {
     "data": {
      "text/plain": [
       "[<selenium.webdriver.remote.webelement.WebElement (session=\"38eefb7f22a4d450add736ff44755913\", element=\"aa4820fc-bde1-46bc-a68a-53de479a9c3c\")>,\n",
       " <selenium.webdriver.remote.webelement.WebElement (session=\"38eefb7f22a4d450add736ff44755913\", element=\"46cbbc7d-a715-46d0-8b2a-060d8045c778\")>,\n",
       " <selenium.webdriver.remote.webelement.WebElement (session=\"38eefb7f22a4d450add736ff44755913\", element=\"d2f52b5d-2cc8-41f5-8908-36912ba7ef73\")>,\n",
       " <selenium.webdriver.remote.webelement.WebElement (session=\"38eefb7f22a4d450add736ff44755913\", element=\"61db5566-a895-494d-905f-97dc7dd14d58\")>,\n",
       " <selenium.webdriver.remote.webelement.WebElement (session=\"38eefb7f22a4d450add736ff44755913\", element=\"eae46ebb-e4e8-4dc3-81f4-deb7d977241a\")>,\n",
       " <selenium.webdriver.remote.webelement.WebElement (session=\"38eefb7f22a4d450add736ff44755913\", element=\"0d387186-8320-44c5-b381-b5d26326b3cf\")>,\n",
       " <selenium.webdriver.remote.webelement.WebElement (session=\"38eefb7f22a4d450add736ff44755913\", element=\"cbe5aeab-f779-4e16-8199-737cac73bf4f\")>,\n",
       " <selenium.webdriver.remote.webelement.WebElement (session=\"38eefb7f22a4d450add736ff44755913\", element=\"6fe1ee16-453b-4e1f-b0a6-461f498ce1b7\")>,\n",
       " <selenium.webdriver.remote.webelement.WebElement (session=\"38eefb7f22a4d450add736ff44755913\", element=\"e12e3b45-004a-43ce-aa4e-ecfa8cea0aa9\")>,\n",
       " <selenium.webdriver.remote.webelement.WebElement (session=\"38eefb7f22a4d450add736ff44755913\", element=\"d1c3cf63-3038-46f2-91ec-bcdaca91ac31\")>,\n",
       " <selenium.webdriver.remote.webelement.WebElement (session=\"38eefb7f22a4d450add736ff44755913\", element=\"13d97be6-7454-45c5-a13b-da086110bddb\")>,\n",
       " <selenium.webdriver.remote.webelement.WebElement (session=\"38eefb7f22a4d450add736ff44755913\", element=\"1e940476-251d-4fa3-8b4b-3c48fc384d26\")>,\n",
       " <selenium.webdriver.remote.webelement.WebElement (session=\"38eefb7f22a4d450add736ff44755913\", element=\"f4c4c4b9-0f21-45e4-9551-c0101b17fcae\")>,\n",
       " <selenium.webdriver.remote.webelement.WebElement (session=\"38eefb7f22a4d450add736ff44755913\", element=\"61918aff-2591-4fc8-94ca-ab594b352dd1\")>,\n",
       " <selenium.webdriver.remote.webelement.WebElement (session=\"38eefb7f22a4d450add736ff44755913\", element=\"9325075e-fcd2-41d4-9a10-62985507f8bb\")>,\n",
       " <selenium.webdriver.remote.webelement.WebElement (session=\"38eefb7f22a4d450add736ff44755913\", element=\"655ea726-1aa8-4741-942d-b7c0193cb217\")>,\n",
       " <selenium.webdriver.remote.webelement.WebElement (session=\"38eefb7f22a4d450add736ff44755913\", element=\"30487385-f9eb-471e-a7b1-8f88f817997b\")>,\n",
       " <selenium.webdriver.remote.webelement.WebElement (session=\"38eefb7f22a4d450add736ff44755913\", element=\"c3873fa5-7cb0-4916-b493-7dd1dcb21ece\")>,\n",
       " <selenium.webdriver.remote.webelement.WebElement (session=\"38eefb7f22a4d450add736ff44755913\", element=\"cbe7a1f6-bf2e-4b6f-879d-c45874e9af54\")>,\n",
       " <selenium.webdriver.remote.webelement.WebElement (session=\"38eefb7f22a4d450add736ff44755913\", element=\"3a16bb4d-9f7d-4ed0-a3e3-47b6bf46cef7\")>]"
      ]
     },
     "execution_count": 56,
     "metadata": {},
     "output_type": "execute_result"
    }
   ],
   "source": [
    "company=driver.find_elements_by_xpath(\"//a[@class='subTitle ellipsis fleft']\")\n",
    "company"
   ]
  },
  {
   "cell_type": "code",
   "execution_count": 57,
   "id": "05a036db",
   "metadata": {},
   "outputs": [
    {
     "data": {
      "text/plain": [
       "['Virtusa Consulting Services Pvt Ltd',\n",
       " 'Flipkart',\n",
       " 'Flipkart',\n",
       " 'McAfee Software (India) Pvt. Ltd',\n",
       " 'Flipkart',\n",
       " 'Kwalee ltd.',\n",
       " 'Kwalee ltd.',\n",
       " 'Skillenable Fintech Private Limited',\n",
       " 'Visa Inc.',\n",
       " 'TresVista Financial',\n",
       " 'Flipkart Internet Private Limited',\n",
       " 'Dtwelve Spaces',\n",
       " 'Dtwelve Spaces',\n",
       " 'Target Corporation India Pvt Ltd',\n",
       " 'Liventus, Inc.',\n",
       " 'Talent Placers',\n",
       " 'Omnicom Media Group',\n",
       " 'CGI Information Systems and Management Consultants',\n",
       " 'Optum Global Solutions (India) Private Limited',\n",
       " 'TALENT500 TECH (INDIA) PRIVATE LIMITED']"
      ]
     },
     "execution_count": 57,
     "metadata": {},
     "output_type": "execute_result"
    }
   ],
   "source": [
    "company_name=[]\n",
    "for i in company:\n",
    "    company_name.append(i.text)\n",
    "company_name    "
   ]
  },
  {
   "cell_type": "code",
   "execution_count": 58,
   "id": "90b1a0ea",
   "metadata": {},
   "outputs": [
    {
     "data": {
      "text/plain": [
       "[<selenium.webdriver.remote.webelement.WebElement (session=\"38eefb7f22a4d450add736ff44755913\", element=\"01c225e7-bf08-4914-9dd7-305f7f3a99d4\")>,\n",
       " <selenium.webdriver.remote.webelement.WebElement (session=\"38eefb7f22a4d450add736ff44755913\", element=\"136743fc-99fb-471b-82e1-7631d7089744\")>,\n",
       " <selenium.webdriver.remote.webelement.WebElement (session=\"38eefb7f22a4d450add736ff44755913\", element=\"0e7c04e4-2df1-4ddc-be52-fe8729b169e7\")>,\n",
       " <selenium.webdriver.remote.webelement.WebElement (session=\"38eefb7f22a4d450add736ff44755913\", element=\"f57726ef-2ef1-4403-9ddf-16156064a5a2\")>,\n",
       " <selenium.webdriver.remote.webelement.WebElement (session=\"38eefb7f22a4d450add736ff44755913\", element=\"0f40c84e-bdc0-42ef-b571-c139d11c1e6e\")>,\n",
       " <selenium.webdriver.remote.webelement.WebElement (session=\"38eefb7f22a4d450add736ff44755913\", element=\"7c15872d-a0a9-40c0-91b2-e93a94b89fa3\")>,\n",
       " <selenium.webdriver.remote.webelement.WebElement (session=\"38eefb7f22a4d450add736ff44755913\", element=\"2e1dec99-f3c3-4642-93c8-cdaa59a24990\")>,\n",
       " <selenium.webdriver.remote.webelement.WebElement (session=\"38eefb7f22a4d450add736ff44755913\", element=\"0fa446d2-e828-47ae-8a40-fa399c39a61f\")>,\n",
       " <selenium.webdriver.remote.webelement.WebElement (session=\"38eefb7f22a4d450add736ff44755913\", element=\"31013310-e014-4419-8564-78e6490a6533\")>,\n",
       " <selenium.webdriver.remote.webelement.WebElement (session=\"38eefb7f22a4d450add736ff44755913\", element=\"c2bbaff6-bd87-4702-a2dc-d8bc008d40d6\")>,\n",
       " <selenium.webdriver.remote.webelement.WebElement (session=\"38eefb7f22a4d450add736ff44755913\", element=\"67b2406e-b127-481d-a078-3665bdeb833b\")>,\n",
       " <selenium.webdriver.remote.webelement.WebElement (session=\"38eefb7f22a4d450add736ff44755913\", element=\"ce0080a4-532d-4517-83fd-899ce50eacfe\")>,\n",
       " <selenium.webdriver.remote.webelement.WebElement (session=\"38eefb7f22a4d450add736ff44755913\", element=\"8ece8b3c-3be0-436d-8fb0-99b1fd90de3e\")>,\n",
       " <selenium.webdriver.remote.webelement.WebElement (session=\"38eefb7f22a4d450add736ff44755913\", element=\"ddfae25c-da54-4e17-82a0-58e611d2a174\")>,\n",
       " <selenium.webdriver.remote.webelement.WebElement (session=\"38eefb7f22a4d450add736ff44755913\", element=\"cfb9272b-7146-419b-9ac8-5b9523e46efb\")>,\n",
       " <selenium.webdriver.remote.webelement.WebElement (session=\"38eefb7f22a4d450add736ff44755913\", element=\"b3cf4c3c-8922-4af3-abf5-dd036a1c6e7b\")>,\n",
       " <selenium.webdriver.remote.webelement.WebElement (session=\"38eefb7f22a4d450add736ff44755913\", element=\"b4b28918-6b4f-4dd1-bb2b-a28d818ef5f6\")>,\n",
       " <selenium.webdriver.remote.webelement.WebElement (session=\"38eefb7f22a4d450add736ff44755913\", element=\"852dd8bd-0876-4b3a-b42d-6c5864023e6c\")>,\n",
       " <selenium.webdriver.remote.webelement.WebElement (session=\"38eefb7f22a4d450add736ff44755913\", element=\"24497df0-5395-41f7-8836-ed3ff9e7ba02\")>,\n",
       " <selenium.webdriver.remote.webelement.WebElement (session=\"38eefb7f22a4d450add736ff44755913\", element=\"a71c5b13-8949-4873-ba4f-00de92480f7c\")>]"
      ]
     },
     "execution_count": 58,
     "metadata": {},
     "output_type": "execute_result"
    }
   ],
   "source": [
    "job_loc=driver.find_elements_by_xpath(\"//li[@class='fleft grey-text br2 placeHolderLi location']\")\n",
    "job_loc"
   ]
  },
  {
   "cell_type": "code",
   "execution_count": 59,
   "id": "2a5869ca",
   "metadata": {},
   "outputs": [
    {
     "data": {
      "text/plain": [
       "['Hyderabad/Secunderabad, Pune, Gurgaon/Gurugram, Chennai, Bangalore/Bengaluru, Mumbai (All Areas)\\n(WFH during Covid)',\n",
       " 'Bangalore/Bengaluru',\n",
       " 'Bangalore/Bengaluru',\n",
       " 'Bangalore/Bengaluru',\n",
       " 'Bangalore/Bengaluru',\n",
       " 'Bangalore/Bengaluru',\n",
       " 'Bangalore/Bengaluru',\n",
       " 'Bangalore/Bengaluru, Delhi / NCR, Mumbai (All Areas)',\n",
       " 'Bangalore/Bengaluru',\n",
       " 'Mumbai, Pune, Bangalore/Bengaluru',\n",
       " 'Bangalore/Bengaluru(Devarabeesana Halli)\\n(WFH during Covid)',\n",
       " 'Bangalore/Bengaluru, Delhi / NCR',\n",
       " 'Bangalore/Bengaluru, Delhi / NCR',\n",
       " 'Bangalore/Bengaluru',\n",
       " 'Bangalore/Bengaluru(2nd Phase JP Nagar)',\n",
       " 'Bangalore/Bengaluru',\n",
       " 'Hyderabad/Secunderabad, Pune, Gurgaon/Gurugram, Chennai, Bangalore/Bengaluru',\n",
       " 'Bangalore/Bengaluru',\n",
       " 'Bangalore/Bengaluru',\n",
       " 'Bangalore/Bengaluru']"
      ]
     },
     "execution_count": 59,
     "metadata": {},
     "output_type": "execute_result"
    }
   ],
   "source": [
    "job_location=[]\n",
    "for i in job_loc:\n",
    "    job_location.append(i.text)\n",
    "job_location    "
   ]
  },
  {
   "cell_type": "code",
   "execution_count": 61,
   "id": "061b326b",
   "metadata": {},
   "outputs": [
    {
     "data": {
      "text/html": [
       "<div>\n",
       "<style scoped>\n",
       "    .dataframe tbody tr th:only-of-type {\n",
       "        vertical-align: middle;\n",
       "    }\n",
       "\n",
       "    .dataframe tbody tr th {\n",
       "        vertical-align: top;\n",
       "    }\n",
       "\n",
       "    .dataframe thead th {\n",
       "        text-align: right;\n",
       "    }\n",
       "</style>\n",
       "<table border=\"1\" class=\"dataframe\">\n",
       "  <thead>\n",
       "    <tr style=\"text-align: right;\">\n",
       "      <th></th>\n",
       "      <th>title</th>\n",
       "      <th>company</th>\n",
       "      <th>location</th>\n",
       "    </tr>\n",
       "  </thead>\n",
       "  <tbody>\n",
       "    <tr>\n",
       "      <th>0</th>\n",
       "      <td>Senior Data Analyst</td>\n",
       "      <td>Virtusa Consulting Services Pvt Ltd</td>\n",
       "      <td>Hyderabad/Secunderabad, Pune, Gurgaon/Gurugram...</td>\n",
       "    </tr>\n",
       "    <tr>\n",
       "      <th>1</th>\n",
       "      <td>Senior Data Analyst</td>\n",
       "      <td>Flipkart</td>\n",
       "      <td>Bangalore/Bengaluru</td>\n",
       "    </tr>\n",
       "    <tr>\n",
       "      <th>2</th>\n",
       "      <td>Senior Data Analyst</td>\n",
       "      <td>Flipkart</td>\n",
       "      <td>Bangalore/Bengaluru</td>\n",
       "    </tr>\n",
       "    <tr>\n",
       "      <th>3</th>\n",
       "      <td>SENIOR MARKETING DATA ANALYST</td>\n",
       "      <td>McAfee Software (India) Pvt. Ltd</td>\n",
       "      <td>Bangalore/Bengaluru</td>\n",
       "    </tr>\n",
       "    <tr>\n",
       "      <th>4</th>\n",
       "      <td>Data Analyst</td>\n",
       "      <td>Flipkart</td>\n",
       "      <td>Bangalore/Bengaluru</td>\n",
       "    </tr>\n",
       "    <tr>\n",
       "      <th>5</th>\n",
       "      <td>Senior Data Analyst</td>\n",
       "      <td>Kwalee ltd.</td>\n",
       "      <td>Bangalore/Bengaluru</td>\n",
       "    </tr>\n",
       "    <tr>\n",
       "      <th>6</th>\n",
       "      <td>Data Analyst</td>\n",
       "      <td>Kwalee ltd.</td>\n",
       "      <td>Bangalore/Bengaluru</td>\n",
       "    </tr>\n",
       "    <tr>\n",
       "      <th>7</th>\n",
       "      <td>Data Analyst/Data Scientist</td>\n",
       "      <td>Skillenable Fintech Private Limited</td>\n",
       "      <td>Bangalore/Bengaluru, Delhi / NCR, Mumbai (All ...</td>\n",
       "    </tr>\n",
       "    <tr>\n",
       "      <th>8</th>\n",
       "      <td>Senior Data Analyst - Supporting Audits</td>\n",
       "      <td>Visa Inc.</td>\n",
       "      <td>Bangalore/Bengaluru</td>\n",
       "    </tr>\n",
       "    <tr>\n",
       "      <th>9</th>\n",
       "      <td>Data Analyst - Quantitative Support Team</td>\n",
       "      <td>TresVista Financial</td>\n",
       "      <td>Mumbai, Pune, Bangalore/Bengaluru</td>\n",
       "    </tr>\n",
       "  </tbody>\n",
       "</table>\n",
       "</div>"
      ],
      "text/plain": [
       "                                      title  \\\n",
       "0                       Senior Data Analyst   \n",
       "1                       Senior Data Analyst   \n",
       "2                       Senior Data Analyst   \n",
       "3             SENIOR MARKETING DATA ANALYST   \n",
       "4                              Data Analyst   \n",
       "5                       Senior Data Analyst   \n",
       "6                              Data Analyst   \n",
       "7               Data Analyst/Data Scientist   \n",
       "8   Senior Data Analyst - Supporting Audits   \n",
       "9  Data Analyst - Quantitative Support Team   \n",
       "\n",
       "                               company  \\\n",
       "0  Virtusa Consulting Services Pvt Ltd   \n",
       "1                             Flipkart   \n",
       "2                             Flipkart   \n",
       "3     McAfee Software (India) Pvt. Ltd   \n",
       "4                             Flipkart   \n",
       "5                          Kwalee ltd.   \n",
       "6                          Kwalee ltd.   \n",
       "7  Skillenable Fintech Private Limited   \n",
       "8                            Visa Inc.   \n",
       "9                  TresVista Financial   \n",
       "\n",
       "                                            location  \n",
       "0  Hyderabad/Secunderabad, Pune, Gurgaon/Gurugram...  \n",
       "1                                Bangalore/Bengaluru  \n",
       "2                                Bangalore/Bengaluru  \n",
       "3                                Bangalore/Bengaluru  \n",
       "4                                Bangalore/Bengaluru  \n",
       "5                                Bangalore/Bengaluru  \n",
       "6                                Bangalore/Bengaluru  \n",
       "7  Bangalore/Bengaluru, Delhi / NCR, Mumbai (All ...  \n",
       "8                                Bangalore/Bengaluru  \n",
       "9                  Mumbai, Pune, Bangalore/Bengaluru  "
      ]
     },
     "execution_count": 61,
     "metadata": {},
     "output_type": "execute_result"
    }
   ],
   "source": [
    "jobs=pd.DataFrame({})\n",
    "jobs['title']=job_titles[0:10]\n",
    "jobs['company']=company_name[0:10]\n",
    "jobs['location']=job_location[0:10]\n",
    "jobs\n"
   ]
  },
  {
   "cell_type": "markdown",
   "id": "60104a53",
   "metadata": {},
   "source": [
    "# Q2: Write a python program to scrape data for “Data Scientist” Job position in \n",
    "“Bangalore” location. You have to scrape the job-title, job-location,\n",
    "company_name, full job-description. You have to scrape first 10 jobs data."
   ]
  },
  {
   "cell_type": "code",
   "execution_count": 62,
   "id": "e6025f34",
   "metadata": {},
   "outputs": [],
   "source": [
    "url='https://www.naukri.com/'\n",
    "driver.get(url)"
   ]
  },
  {
   "cell_type": "code",
   "execution_count": 63,
   "id": "3f8e1b9d",
   "metadata": {},
   "outputs": [
    {
     "data": {
      "text/plain": [
       "<selenium.webdriver.remote.webelement.WebElement (session=\"38eefb7f22a4d450add736ff44755913\", element=\"9b44dc40-d306-4f8a-84ed-5b10c8ddc611\")>"
      ]
     },
     "execution_count": 63,
     "metadata": {},
     "output_type": "execute_result"
    }
   ],
   "source": [
    "search_job=driver.find_element_by_id('qsb-keyword-sugg')\n",
    "search_job"
   ]
  },
  {
   "cell_type": "code",
   "execution_count": 64,
   "id": "8da627f8",
   "metadata": {},
   "outputs": [],
   "source": [
    "search_job.send_keys(\"Data Scientist\")"
   ]
  },
  {
   "cell_type": "code",
   "execution_count": 65,
   "id": "a34fc969",
   "metadata": {},
   "outputs": [
    {
     "data": {
      "text/plain": [
       "<selenium.webdriver.remote.webelement.WebElement (session=\"38eefb7f22a4d450add736ff44755913\", element=\"0eb220fe-1330-456d-87ac-0b294ab265fd\")>"
      ]
     },
     "execution_count": 65,
     "metadata": {},
     "output_type": "execute_result"
    }
   ],
   "source": [
    "search_loc=driver.find_element_by_id('qsb-location-sugg')\n",
    "search_loc"
   ]
  },
  {
   "cell_type": "code",
   "execution_count": 66,
   "id": "e70db4fd",
   "metadata": {},
   "outputs": [],
   "source": [
    "search_loc.send_keys('Banglore')"
   ]
  },
  {
   "cell_type": "code",
   "execution_count": 67,
   "id": "c39d2b99",
   "metadata": {},
   "outputs": [],
   "source": [
    "search_bar=driver.find_element_by_xpath(\"//div[@class='search-btn']\")\n",
    "search_bar.click()"
   ]
  },
  {
   "cell_type": "code",
   "execution_count": 76,
   "id": "be5ca18a",
   "metadata": {},
   "outputs": [
    {
     "data": {
      "text/plain": [
       "[<selenium.webdriver.remote.webelement.WebElement (session=\"38eefb7f22a4d450add736ff44755913\", element=\"7ebb8b5e-f0c1-497d-87bc-42b63198e2b6\")>,\n",
       " <selenium.webdriver.remote.webelement.WebElement (session=\"38eefb7f22a4d450add736ff44755913\", element=\"f107a3b2-b0a1-4973-890a-d1a5872f16bb\")>,\n",
       " <selenium.webdriver.remote.webelement.WebElement (session=\"38eefb7f22a4d450add736ff44755913\", element=\"fb76d55c-b884-41af-a0ac-e0780e433c6b\")>,\n",
       " <selenium.webdriver.remote.webelement.WebElement (session=\"38eefb7f22a4d450add736ff44755913\", element=\"fbcb336f-e438-446f-8662-28b8d2297024\")>,\n",
       " <selenium.webdriver.remote.webelement.WebElement (session=\"38eefb7f22a4d450add736ff44755913\", element=\"77b86fc6-12aa-410c-9df9-487ac653db96\")>,\n",
       " <selenium.webdriver.remote.webelement.WebElement (session=\"38eefb7f22a4d450add736ff44755913\", element=\"53b0942c-b3ec-44f5-bc49-2a91abdf16ea\")>,\n",
       " <selenium.webdriver.remote.webelement.WebElement (session=\"38eefb7f22a4d450add736ff44755913\", element=\"9a676a58-eb77-4ec9-a82c-6decdbff3a6e\")>,\n",
       " <selenium.webdriver.remote.webelement.WebElement (session=\"38eefb7f22a4d450add736ff44755913\", element=\"121debc5-7edf-47ab-b88e-5d2bfe953847\")>,\n",
       " <selenium.webdriver.remote.webelement.WebElement (session=\"38eefb7f22a4d450add736ff44755913\", element=\"c86a6c01-e375-414f-97fa-8d4e3d4bf32e\")>,\n",
       " <selenium.webdriver.remote.webelement.WebElement (session=\"38eefb7f22a4d450add736ff44755913\", element=\"67472bdf-086d-45a6-b95e-9bf83bc50753\")>,\n",
       " <selenium.webdriver.remote.webelement.WebElement (session=\"38eefb7f22a4d450add736ff44755913\", element=\"e5270bc3-8249-4d53-a370-05f1e19bd6eb\")>,\n",
       " <selenium.webdriver.remote.webelement.WebElement (session=\"38eefb7f22a4d450add736ff44755913\", element=\"8b28fb5f-7c7c-4c08-9046-a709aeb31774\")>,\n",
       " <selenium.webdriver.remote.webelement.WebElement (session=\"38eefb7f22a4d450add736ff44755913\", element=\"4c6fc4c6-4aa7-4175-bda2-e5153d01733d\")>,\n",
       " <selenium.webdriver.remote.webelement.WebElement (session=\"38eefb7f22a4d450add736ff44755913\", element=\"3d0f5d04-d49d-41d6-b974-607aa75ebb77\")>,\n",
       " <selenium.webdriver.remote.webelement.WebElement (session=\"38eefb7f22a4d450add736ff44755913\", element=\"96129307-6cfa-41fb-9ea4-ad9d7e483170\")>,\n",
       " <selenium.webdriver.remote.webelement.WebElement (session=\"38eefb7f22a4d450add736ff44755913\", element=\"ff3a60b5-73c2-40a2-88dc-c82188ab720f\")>,\n",
       " <selenium.webdriver.remote.webelement.WebElement (session=\"38eefb7f22a4d450add736ff44755913\", element=\"8c1b3475-ecb1-40a1-bf18-656e8d644867\")>,\n",
       " <selenium.webdriver.remote.webelement.WebElement (session=\"38eefb7f22a4d450add736ff44755913\", element=\"0d91c669-e398-4174-9fb0-2aa581155451\")>,\n",
       " <selenium.webdriver.remote.webelement.WebElement (session=\"38eefb7f22a4d450add736ff44755913\", element=\"8498a473-6722-4181-b0aa-55177e31aba0\")>,\n",
       " <selenium.webdriver.remote.webelement.WebElement (session=\"38eefb7f22a4d450add736ff44755913\", element=\"b6152f08-4fab-4283-afc9-3431fa5b14db\")>]"
      ]
     },
     "execution_count": 76,
     "metadata": {},
     "output_type": "execute_result"
    }
   ],
   "source": [
    "job_title=driver.find_elements_by_xpath(\"//a[@class='title fw500 ellipsis']\")\n",
    "job_title"
   ]
  },
  {
   "cell_type": "code",
   "execution_count": 77,
   "id": "7759bc46",
   "metadata": {},
   "outputs": [
    {
     "data": {
      "text/plain": [
       "['Sr Data Scientist',\n",
       " 'Sr Data Scientist',\n",
       " 'Data Scientist',\n",
       " 'Senior Data Scientist, Payments compliance',\n",
       " 'Senior Data Scientist',\n",
       " 'Senior Data Scientist',\n",
       " 'Data Scientist',\n",
       " 'Urgent Opening For Data Scientist/Data Analyst-Gurgaon',\n",
       " 'Senior Data Scientist - Python/Machine Learning Algorithms',\n",
       " 'Senior Data Scientist - SQL/Python/Numpy',\n",
       " 'Lead Data Scientist BFSI',\n",
       " 'Senior Data Scientist',\n",
       " 'Data Analyst/Data Scientist',\n",
       " 'Associate Manager Data Scientist',\n",
       " 'Associate Data Scientist',\n",
       " 'Lead Data Scientist - Machine Learning/ Data Mining',\n",
       " 'Data Scientist, Customer DNA',\n",
       " 'Principal Data Scientist',\n",
       " 'Data Scientist',\n",
       " 'Data Scientist - BFSI']"
      ]
     },
     "execution_count": 77,
     "metadata": {},
     "output_type": "execute_result"
    }
   ],
   "source": [
    "job_titles=[]\n",
    "for i in job_title:\n",
    "    job_titles.append(i.text)\n",
    "job_titles    "
   ]
  },
  {
   "cell_type": "code",
   "execution_count": 70,
   "id": "89fb70a9",
   "metadata": {},
   "outputs": [
    {
     "data": {
      "text/plain": [
       "[<selenium.webdriver.remote.webelement.WebElement (session=\"38eefb7f22a4d450add736ff44755913\", element=\"2985fe4e-43cc-4933-9f47-ab769a186040\")>,\n",
       " <selenium.webdriver.remote.webelement.WebElement (session=\"38eefb7f22a4d450add736ff44755913\", element=\"415ef4df-e8f5-4073-b74c-22bdaec37e4d\")>,\n",
       " <selenium.webdriver.remote.webelement.WebElement (session=\"38eefb7f22a4d450add736ff44755913\", element=\"737a884c-30f6-4f7a-9f68-44daa32945a6\")>,\n",
       " <selenium.webdriver.remote.webelement.WebElement (session=\"38eefb7f22a4d450add736ff44755913\", element=\"c573b1ad-e488-4061-986c-db78703e77d9\")>,\n",
       " <selenium.webdriver.remote.webelement.WebElement (session=\"38eefb7f22a4d450add736ff44755913\", element=\"dcc6e5f0-d807-41eb-bbed-6d5d861ee781\")>,\n",
       " <selenium.webdriver.remote.webelement.WebElement (session=\"38eefb7f22a4d450add736ff44755913\", element=\"a25524e1-5f71-4f57-b026-b34357e81def\")>,\n",
       " <selenium.webdriver.remote.webelement.WebElement (session=\"38eefb7f22a4d450add736ff44755913\", element=\"2f9deda6-4808-45e6-98a8-9a68a05db317\")>,\n",
       " <selenium.webdriver.remote.webelement.WebElement (session=\"38eefb7f22a4d450add736ff44755913\", element=\"99b1b595-036f-4b99-8aed-73303009917e\")>,\n",
       " <selenium.webdriver.remote.webelement.WebElement (session=\"38eefb7f22a4d450add736ff44755913\", element=\"96f3e567-2227-4af0-b08c-8a3dfc6ebbaf\")>,\n",
       " <selenium.webdriver.remote.webelement.WebElement (session=\"38eefb7f22a4d450add736ff44755913\", element=\"761081a1-ae4c-4831-abbf-768573d06648\")>,\n",
       " <selenium.webdriver.remote.webelement.WebElement (session=\"38eefb7f22a4d450add736ff44755913\", element=\"fb637646-5674-4afa-a24f-a04c801bdc5b\")>,\n",
       " <selenium.webdriver.remote.webelement.WebElement (session=\"38eefb7f22a4d450add736ff44755913\", element=\"9c977280-7dc1-451b-84f8-f70d789a83bb\")>,\n",
       " <selenium.webdriver.remote.webelement.WebElement (session=\"38eefb7f22a4d450add736ff44755913\", element=\"752d157d-76d4-43a2-a0fa-bd29d5c97b1c\")>,\n",
       " <selenium.webdriver.remote.webelement.WebElement (session=\"38eefb7f22a4d450add736ff44755913\", element=\"e332574a-6ea4-41ae-b590-75836334f3fa\")>,\n",
       " <selenium.webdriver.remote.webelement.WebElement (session=\"38eefb7f22a4d450add736ff44755913\", element=\"3c03bf0b-85bb-4b39-9560-f4c57a4bc8fc\")>,\n",
       " <selenium.webdriver.remote.webelement.WebElement (session=\"38eefb7f22a4d450add736ff44755913\", element=\"3e451058-2936-4fcd-a4b4-d735d4460b14\")>,\n",
       " <selenium.webdriver.remote.webelement.WebElement (session=\"38eefb7f22a4d450add736ff44755913\", element=\"42974bbf-cb01-4ef6-bb8d-8ba34d8862b5\")>,\n",
       " <selenium.webdriver.remote.webelement.WebElement (session=\"38eefb7f22a4d450add736ff44755913\", element=\"d4aef2ca-6344-44ff-a3c4-f1840e8b1d99\")>,\n",
       " <selenium.webdriver.remote.webelement.WebElement (session=\"38eefb7f22a4d450add736ff44755913\", element=\"922db1d6-bf7c-4b6a-95e4-09e159a177e8\")>,\n",
       " <selenium.webdriver.remote.webelement.WebElement (session=\"38eefb7f22a4d450add736ff44755913\", element=\"892ebb16-35b6-413a-9aca-c9ecfdda67da\")>]"
      ]
     },
     "execution_count": 70,
     "metadata": {},
     "output_type": "execute_result"
    }
   ],
   "source": [
    "job_loc=driver.find_elements_by_xpath(\"//li[@class='fleft grey-text br2 placeHolderLi location']\")\n",
    "job_loc"
   ]
  },
  {
   "cell_type": "code",
   "execution_count": 71,
   "id": "039a88d6",
   "metadata": {},
   "outputs": [
    {
     "data": {
      "text/plain": [
       "['Bengaluru/Bangalore',\n",
       " 'Bangalore/Bengaluru',\n",
       " 'Bengaluru/Bangalore',\n",
       " 'Bangalore/Bengaluru',\n",
       " 'Bangalore/Bengaluru',\n",
       " 'Bangalore/Bengaluru',\n",
       " 'Bangalore/Bengaluru',\n",
       " 'Gurgaon/Gurugram, Bangalore/Bengaluru, any\\n(WFH during Covid)',\n",
       " 'Mumbai, Hyderabad/Secunderabad, Pune, Bangalore/Bengaluru',\n",
       " 'Bangalore/Bengaluru',\n",
       " 'Bengaluru/Bangalore',\n",
       " 'Bangalore/Bengaluru',\n",
       " 'Bangalore/Bengaluru, Delhi / NCR, Mumbai (All Areas)',\n",
       " 'Bangalore/Bengaluru',\n",
       " 'Bangalore/Bengaluru',\n",
       " 'Bangalore/Bengaluru',\n",
       " 'Bangalore/Bengaluru',\n",
       " 'Bangalore/Bengaluru',\n",
       " 'Bangalore/Bengaluru',\n",
       " 'Pune, Chennai, Bangalore/Bengaluru, Delhi / NCR']"
      ]
     },
     "execution_count": 71,
     "metadata": {},
     "output_type": "execute_result"
    }
   ],
   "source": [
    "job_location=[]\n",
    "for i in job_loc:\n",
    "    job_location.append(i.text)\n",
    "job_location    "
   ]
  },
  {
   "cell_type": "code",
   "execution_count": 72,
   "id": "da64e18d",
   "metadata": {},
   "outputs": [
    {
     "data": {
      "text/plain": [
       "[<selenium.webdriver.remote.webelement.WebElement (session=\"38eefb7f22a4d450add736ff44755913\", element=\"01289e61-8b0b-49d9-be5a-5abbce5d2ba3\")>,\n",
       " <selenium.webdriver.remote.webelement.WebElement (session=\"38eefb7f22a4d450add736ff44755913\", element=\"0d29260b-0119-4530-a830-0b5bfd30e57c\")>,\n",
       " <selenium.webdriver.remote.webelement.WebElement (session=\"38eefb7f22a4d450add736ff44755913\", element=\"c875f4a6-09a7-40d6-a419-28c0200feb11\")>,\n",
       " <selenium.webdriver.remote.webelement.WebElement (session=\"38eefb7f22a4d450add736ff44755913\", element=\"bafcc8c4-e863-4210-9150-06c2549bb234\")>,\n",
       " <selenium.webdriver.remote.webelement.WebElement (session=\"38eefb7f22a4d450add736ff44755913\", element=\"fec19b09-53e8-4412-8a28-c2b95c65134c\")>,\n",
       " <selenium.webdriver.remote.webelement.WebElement (session=\"38eefb7f22a4d450add736ff44755913\", element=\"1c0666b8-5e44-4c6e-b65c-dc3c79778e17\")>,\n",
       " <selenium.webdriver.remote.webelement.WebElement (session=\"38eefb7f22a4d450add736ff44755913\", element=\"5dd1e5ef-9b7a-48fb-a92d-be500c88e5d4\")>,\n",
       " <selenium.webdriver.remote.webelement.WebElement (session=\"38eefb7f22a4d450add736ff44755913\", element=\"982d382c-cbc2-4eab-96e2-160db481904f\")>,\n",
       " <selenium.webdriver.remote.webelement.WebElement (session=\"38eefb7f22a4d450add736ff44755913\", element=\"c5c0d95f-f28c-4d98-94ee-75dd0a662d18\")>,\n",
       " <selenium.webdriver.remote.webelement.WebElement (session=\"38eefb7f22a4d450add736ff44755913\", element=\"f71cddf0-1d1d-42bc-b17f-86c32669f5d5\")>,\n",
       " <selenium.webdriver.remote.webelement.WebElement (session=\"38eefb7f22a4d450add736ff44755913\", element=\"5adc3667-e6b0-4ec7-a229-7c93f45212d9\")>,\n",
       " <selenium.webdriver.remote.webelement.WebElement (session=\"38eefb7f22a4d450add736ff44755913\", element=\"84e799fe-8f94-4533-8086-72eddb4cf046\")>,\n",
       " <selenium.webdriver.remote.webelement.WebElement (session=\"38eefb7f22a4d450add736ff44755913\", element=\"a124b1ac-5506-42c7-a82b-c5b681e9637d\")>,\n",
       " <selenium.webdriver.remote.webelement.WebElement (session=\"38eefb7f22a4d450add736ff44755913\", element=\"445c0433-5e86-4811-94ae-462bf204491c\")>,\n",
       " <selenium.webdriver.remote.webelement.WebElement (session=\"38eefb7f22a4d450add736ff44755913\", element=\"95ab13c2-e5a5-4e45-a7b5-e0e8012725b9\")>,\n",
       " <selenium.webdriver.remote.webelement.WebElement (session=\"38eefb7f22a4d450add736ff44755913\", element=\"f276e1f5-960f-43f2-a5b2-9d21402c1051\")>,\n",
       " <selenium.webdriver.remote.webelement.WebElement (session=\"38eefb7f22a4d450add736ff44755913\", element=\"86c472cc-b633-4bfd-afa9-2bf48a52f172\")>,\n",
       " <selenium.webdriver.remote.webelement.WebElement (session=\"38eefb7f22a4d450add736ff44755913\", element=\"ca3489e0-ef1b-4972-92b4-dc7989616158\")>,\n",
       " <selenium.webdriver.remote.webelement.WebElement (session=\"38eefb7f22a4d450add736ff44755913\", element=\"36c9057c-769d-4eaf-a59c-1125a19db5ce\")>,\n",
       " <selenium.webdriver.remote.webelement.WebElement (session=\"38eefb7f22a4d450add736ff44755913\", element=\"d0e35a8c-faca-491b-8ebf-d1f7d2a167ae\")>]"
      ]
     },
     "execution_count": 72,
     "metadata": {},
     "output_type": "execute_result"
    }
   ],
   "source": [
    "company_name=driver.find_elements_by_xpath(\"//a[@class='subTitle ellipsis fleft']\")\n",
    "company_name"
   ]
  },
  {
   "cell_type": "code",
   "execution_count": 73,
   "id": "5e7d40fe",
   "metadata": {},
   "outputs": [
    {
     "data": {
      "text/plain": [
       "['IBM India Pvt. Limited',\n",
       " 'IBM India Pvt. Limited',\n",
       " 'IBM India Pvt. Limited',\n",
       " 'AIRBNB GLOBAL CAPABILITY CENTER PRIVATE LIMITED',\n",
       " 'Kwalee India Pvt Ltd.',\n",
       " 'ANT work',\n",
       " 'Applied Materials',\n",
       " 'Metaphor Infotech',\n",
       " 'Altimax Business Solutions',\n",
       " 'Serving Skill',\n",
       " 'IBM India Pvt. Limited',\n",
       " 'ORMAE LLP',\n",
       " 'Skillenable Fintech Private Limited',\n",
       " 'Optum Global Solutions (India) Private Limited',\n",
       " 'Center for Study of Science, Technology and Policy',\n",
       " 'Wrackle Technologies Pvt Ltd',\n",
       " 'Rakuten, Inc.',\n",
       " 'Narayana Heath',\n",
       " 'Kwalee India Pvt Ltd.',\n",
       " 'Black Turtle India Pvt Ltd']"
      ]
     },
     "execution_count": 73,
     "metadata": {},
     "output_type": "execute_result"
    }
   ],
   "source": [
    "company=[]\n",
    "for i in company_name:\n",
    "    company.append(i.text)\n",
    "company    "
   ]
  },
  {
   "cell_type": "code",
   "execution_count": 78,
   "id": "491f28f4",
   "metadata": {},
   "outputs": [
    {
     "data": {
      "text/html": [
       "<div>\n",
       "<style scoped>\n",
       "    .dataframe tbody tr th:only-of-type {\n",
       "        vertical-align: middle;\n",
       "    }\n",
       "\n",
       "    .dataframe tbody tr th {\n",
       "        vertical-align: top;\n",
       "    }\n",
       "\n",
       "    .dataframe thead th {\n",
       "        text-align: right;\n",
       "    }\n",
       "</style>\n",
       "<table border=\"1\" class=\"dataframe\">\n",
       "  <thead>\n",
       "    <tr style=\"text-align: right;\">\n",
       "      <th></th>\n",
       "      <th>title</th>\n",
       "      <th>company</th>\n",
       "      <th>location</th>\n",
       "    </tr>\n",
       "  </thead>\n",
       "  <tbody>\n",
       "    <tr>\n",
       "      <th>0</th>\n",
       "      <td>Sr Data Scientist</td>\n",
       "      <td>IBM India Pvt. Limited</td>\n",
       "      <td>Bengaluru/Bangalore</td>\n",
       "    </tr>\n",
       "    <tr>\n",
       "      <th>1</th>\n",
       "      <td>Sr Data Scientist</td>\n",
       "      <td>IBM India Pvt. Limited</td>\n",
       "      <td>Bangalore/Bengaluru</td>\n",
       "    </tr>\n",
       "    <tr>\n",
       "      <th>2</th>\n",
       "      <td>Data Scientist</td>\n",
       "      <td>IBM India Pvt. Limited</td>\n",
       "      <td>Bengaluru/Bangalore</td>\n",
       "    </tr>\n",
       "    <tr>\n",
       "      <th>3</th>\n",
       "      <td>Senior Data Scientist, Payments compliance</td>\n",
       "      <td>AIRBNB GLOBAL CAPABILITY CENTER PRIVATE LIMITED</td>\n",
       "      <td>Bangalore/Bengaluru</td>\n",
       "    </tr>\n",
       "    <tr>\n",
       "      <th>4</th>\n",
       "      <td>Senior Data Scientist</td>\n",
       "      <td>Kwalee India Pvt Ltd.</td>\n",
       "      <td>Bangalore/Bengaluru</td>\n",
       "    </tr>\n",
       "    <tr>\n",
       "      <th>5</th>\n",
       "      <td>Senior Data Scientist</td>\n",
       "      <td>ANT work</td>\n",
       "      <td>Bangalore/Bengaluru</td>\n",
       "    </tr>\n",
       "    <tr>\n",
       "      <th>6</th>\n",
       "      <td>Data Scientist</td>\n",
       "      <td>Applied Materials</td>\n",
       "      <td>Bangalore/Bengaluru</td>\n",
       "    </tr>\n",
       "    <tr>\n",
       "      <th>7</th>\n",
       "      <td>Urgent Opening For Data Scientist/Data Analyst...</td>\n",
       "      <td>Metaphor Infotech</td>\n",
       "      <td>Gurgaon/Gurugram, Bangalore/Bengaluru, any\\n(W...</td>\n",
       "    </tr>\n",
       "    <tr>\n",
       "      <th>8</th>\n",
       "      <td>Senior Data Scientist - Python/Machine Learnin...</td>\n",
       "      <td>Altimax Business Solutions</td>\n",
       "      <td>Mumbai, Hyderabad/Secunderabad, Pune, Bangalor...</td>\n",
       "    </tr>\n",
       "    <tr>\n",
       "      <th>9</th>\n",
       "      <td>Senior Data Scientist - SQL/Python/Numpy</td>\n",
       "      <td>Serving Skill</td>\n",
       "      <td>Bangalore/Bengaluru</td>\n",
       "    </tr>\n",
       "  </tbody>\n",
       "</table>\n",
       "</div>"
      ],
      "text/plain": [
       "                                               title  \\\n",
       "0                                  Sr Data Scientist   \n",
       "1                                  Sr Data Scientist   \n",
       "2                                     Data Scientist   \n",
       "3         Senior Data Scientist, Payments compliance   \n",
       "4                              Senior Data Scientist   \n",
       "5                              Senior Data Scientist   \n",
       "6                                     Data Scientist   \n",
       "7  Urgent Opening For Data Scientist/Data Analyst...   \n",
       "8  Senior Data Scientist - Python/Machine Learnin...   \n",
       "9           Senior Data Scientist - SQL/Python/Numpy   \n",
       "\n",
       "                                           company  \\\n",
       "0                           IBM India Pvt. Limited   \n",
       "1                           IBM India Pvt. Limited   \n",
       "2                           IBM India Pvt. Limited   \n",
       "3  AIRBNB GLOBAL CAPABILITY CENTER PRIVATE LIMITED   \n",
       "4                            Kwalee India Pvt Ltd.   \n",
       "5                                         ANT work   \n",
       "6                                Applied Materials   \n",
       "7                                Metaphor Infotech   \n",
       "8                       Altimax Business Solutions   \n",
       "9                                    Serving Skill   \n",
       "\n",
       "                                            location  \n",
       "0                                Bengaluru/Bangalore  \n",
       "1                                Bangalore/Bengaluru  \n",
       "2                                Bengaluru/Bangalore  \n",
       "3                                Bangalore/Bengaluru  \n",
       "4                                Bangalore/Bengaluru  \n",
       "5                                Bangalore/Bengaluru  \n",
       "6                                Bangalore/Bengaluru  \n",
       "7  Gurgaon/Gurugram, Bangalore/Bengaluru, any\\n(W...  \n",
       "8  Mumbai, Hyderabad/Secunderabad, Pune, Bangalor...  \n",
       "9                                Bangalore/Bengaluru  "
      ]
     },
     "execution_count": 78,
     "metadata": {},
     "output_type": "execute_result"
    }
   ],
   "source": [
    "jobs=pd.DataFrame({})\n",
    "jobs['title']=job_titles[0:10]\n",
    "jobs['company']=company[0:10]\n",
    "jobs['location']=job_location[0:10]\n",
    "jobs\n",
    "\n"
   ]
  },
  {
   "cell_type": "markdown",
   "id": "68060a7e",
   "metadata": {},
   "source": [
    "# Q3: In this question you have to scrape data using the filters available on the \n",
    "webpage as shown below:"
   ]
  },
  {
   "cell_type": "code",
   "execution_count": 79,
   "id": "9f05df80",
   "metadata": {},
   "outputs": [],
   "source": [
    "url='https://www.naukri.com/'\n",
    "driver.get(url)"
   ]
  },
  {
   "cell_type": "code",
   "execution_count": 80,
   "id": "1e68ce75",
   "metadata": {},
   "outputs": [
    {
     "data": {
      "text/plain": [
       "<selenium.webdriver.remote.webelement.WebElement (session=\"38eefb7f22a4d450add736ff44755913\", element=\"fea896d1-dfb3-4e0b-b066-c1e4d0ef8d94\")>"
      ]
     },
     "execution_count": 80,
     "metadata": {},
     "output_type": "execute_result"
    }
   ],
   "source": [
    "search_job=driver.find_element_by_id('qsb-keyword-sugg')\n",
    "search_job"
   ]
  },
  {
   "cell_type": "code",
   "execution_count": 81,
   "id": "f3a9be02",
   "metadata": {},
   "outputs": [],
   "source": [
    "search_job.send_keys(\"Data Scientist\")"
   ]
  },
  {
   "cell_type": "code",
   "execution_count": 82,
   "id": "d5be9c69",
   "metadata": {},
   "outputs": [
    {
     "data": {
      "text/plain": [
       "<selenium.webdriver.remote.webelement.WebElement (session=\"38eefb7f22a4d450add736ff44755913\", element=\"ff0816c7-7ef8-4628-8c41-0c0e11ffd848\")>"
      ]
     },
     "execution_count": 82,
     "metadata": {},
     "output_type": "execute_result"
    }
   ],
   "source": [
    "search_loc=driver.find_element_by_id('qsb-location-sugg')\n",
    "search_loc"
   ]
  },
  {
   "cell_type": "code",
   "execution_count": 83,
   "id": "f889861f",
   "metadata": {},
   "outputs": [],
   "source": [
    "search_loc.send_keys(\"Delhi/Ncr\")"
   ]
  },
  {
   "cell_type": "code",
   "execution_count": 84,
   "id": "a5b19691",
   "metadata": {},
   "outputs": [],
   "source": [
    "search_bar=driver.find_element_by_xpath(\"//div[@class='search-btn']\")\n",
    "search_bar.click()"
   ]
  },
  {
   "cell_type": "code",
   "execution_count": 85,
   "id": "f892bdbb",
   "metadata": {},
   "outputs": [
    {
     "data": {
      "text/plain": [
       "[<selenium.webdriver.remote.webelement.WebElement (session=\"38eefb7f22a4d450add736ff44755913\", element=\"99119a2b-ea24-43b3-8a1f-b57898b3ec8c\")>,\n",
       " <selenium.webdriver.remote.webelement.WebElement (session=\"38eefb7f22a4d450add736ff44755913\", element=\"79389587-5f30-48cd-b300-406f7cb9f67b\")>,\n",
       " <selenium.webdriver.remote.webelement.WebElement (session=\"38eefb7f22a4d450add736ff44755913\", element=\"b6e2fdaf-6f4c-4f8d-9cbe-ffe988bb539e\")>,\n",
       " <selenium.webdriver.remote.webelement.WebElement (session=\"38eefb7f22a4d450add736ff44755913\", element=\"67907353-8906-483f-9ce8-cbd5063ac3d9\")>,\n",
       " <selenium.webdriver.remote.webelement.WebElement (session=\"38eefb7f22a4d450add736ff44755913\", element=\"bf5ebf8a-99ee-405b-b5b2-75e6bd2201fc\")>,\n",
       " <selenium.webdriver.remote.webelement.WebElement (session=\"38eefb7f22a4d450add736ff44755913\", element=\"04e29bcd-1fd3-42bf-af27-b11b9bc4ad64\")>,\n",
       " <selenium.webdriver.remote.webelement.WebElement (session=\"38eefb7f22a4d450add736ff44755913\", element=\"6e7005d4-433d-4ffb-a293-880c5a506e2d\")>,\n",
       " <selenium.webdriver.remote.webelement.WebElement (session=\"38eefb7f22a4d450add736ff44755913\", element=\"11e49485-4291-4d9d-938f-39ee2e85bb99\")>,\n",
       " <selenium.webdriver.remote.webelement.WebElement (session=\"38eefb7f22a4d450add736ff44755913\", element=\"8d4a6e8c-76a5-4ec3-9175-43a3afe121ea\")>,\n",
       " <selenium.webdriver.remote.webelement.WebElement (session=\"38eefb7f22a4d450add736ff44755913\", element=\"4fdb8aa8-ce43-416c-a8af-3d31577d171d\")>,\n",
       " <selenium.webdriver.remote.webelement.WebElement (session=\"38eefb7f22a4d450add736ff44755913\", element=\"8e862668-11bd-43dc-aa7a-39dbf5b42b97\")>,\n",
       " <selenium.webdriver.remote.webelement.WebElement (session=\"38eefb7f22a4d450add736ff44755913\", element=\"c387ffb0-3eb3-47be-9a24-d1c79de208af\")>,\n",
       " <selenium.webdriver.remote.webelement.WebElement (session=\"38eefb7f22a4d450add736ff44755913\", element=\"6d76068d-e0ce-44df-b947-ac373b7c10a8\")>,\n",
       " <selenium.webdriver.remote.webelement.WebElement (session=\"38eefb7f22a4d450add736ff44755913\", element=\"90b78d3e-5b4e-421a-9722-6b531a7df0b2\")>,\n",
       " <selenium.webdriver.remote.webelement.WebElement (session=\"38eefb7f22a4d450add736ff44755913\", element=\"d2d900a0-04e5-42b1-96f5-54591ffe9a82\")>,\n",
       " <selenium.webdriver.remote.webelement.WebElement (session=\"38eefb7f22a4d450add736ff44755913\", element=\"cac98db8-acf3-4865-a6f8-4542de8915e7\")>,\n",
       " <selenium.webdriver.remote.webelement.WebElement (session=\"38eefb7f22a4d450add736ff44755913\", element=\"d9af1c7f-e531-42c0-86c7-5153c7a6988c\")>,\n",
       " <selenium.webdriver.remote.webelement.WebElement (session=\"38eefb7f22a4d450add736ff44755913\", element=\"f8d974d5-a1ef-4a0c-abf2-4687bf15a3d5\")>,\n",
       " <selenium.webdriver.remote.webelement.WebElement (session=\"38eefb7f22a4d450add736ff44755913\", element=\"dffebbfe-74c1-422a-ae70-cac75cb924bf\")>,\n",
       " <selenium.webdriver.remote.webelement.WebElement (session=\"38eefb7f22a4d450add736ff44755913\", element=\"23c1275c-b258-41cc-8840-3d7058f8663b\")>]"
      ]
     },
     "execution_count": 85,
     "metadata": {},
     "output_type": "execute_result"
    }
   ],
   "source": [
    "job_title=driver.find_elements_by_xpath(\"//a[@class='title fw500 ellipsis']\")\n",
    "job_title"
   ]
  },
  {
   "cell_type": "code",
   "execution_count": 86,
   "id": "e5cb864f",
   "metadata": {},
   "outputs": [
    {
     "data": {
      "text/plain": [
       "['Co-Founder & Principal Data Scientist/Senior Scientist',\n",
       " 'Co-Founder - Principal Data Scientist/Senior Data Scientist',\n",
       " 'Urgent Opening For Data Scientist/Data Analyst-Gurgaon',\n",
       " 'Data Analyst/Data Scientist',\n",
       " 'Data Scientist: Advanced Analytics',\n",
       " 'Associate Manager - Data Engineering/Data Modelling/Data Scientist',\n",
       " 'Lead Data Scientist',\n",
       " 'Lead /Manager Data Scientist',\n",
       " 'Lead /Manager Data Scientist',\n",
       " 'Data Scientist - BFSI',\n",
       " 'Machine Learning Engineer / AI Data Scientist',\n",
       " 'Data Scientist / Data Analyst',\n",
       " 'Data Scientist-Assistant Manager/Manager',\n",
       " 'Data Scientist/ Machine Learning Engineer',\n",
       " 'Data Scientist / Data Analyst / Business Analytics - MNC Jobs Freshers',\n",
       " 'Senior Data Scientist',\n",
       " 'Data Scientist',\n",
       " 'Data Scientist',\n",
       " 'Cashify II Data Scientist',\n",
       " 'Data Scientist/ Senior Data Scientist | Fintech Pioneer | GGN']"
      ]
     },
     "execution_count": 86,
     "metadata": {},
     "output_type": "execute_result"
    }
   ],
   "source": [
    "title=[]\n",
    "for i in job_title:\n",
    "    title.append(i.text)\n",
    "title    "
   ]
  },
  {
   "cell_type": "code",
   "execution_count": 87,
   "id": "dc086fe2",
   "metadata": {},
   "outputs": [
    {
     "data": {
      "text/plain": [
       "[<selenium.webdriver.remote.webelement.WebElement (session=\"38eefb7f22a4d450add736ff44755913\", element=\"c4ee739b-99b2-477c-813d-c7de0d6be695\")>,\n",
       " <selenium.webdriver.remote.webelement.WebElement (session=\"38eefb7f22a4d450add736ff44755913\", element=\"2ee14802-3563-4add-a2ef-6d40c4bc4a56\")>,\n",
       " <selenium.webdriver.remote.webelement.WebElement (session=\"38eefb7f22a4d450add736ff44755913\", element=\"8f051a26-268d-47a1-87c8-79630b2182f5\")>,\n",
       " <selenium.webdriver.remote.webelement.WebElement (session=\"38eefb7f22a4d450add736ff44755913\", element=\"7838199f-d0e4-4205-a4e9-135dc377532d\")>,\n",
       " <selenium.webdriver.remote.webelement.WebElement (session=\"38eefb7f22a4d450add736ff44755913\", element=\"a13f72cf-5725-4f27-b8a6-327ab71a0723\")>,\n",
       " <selenium.webdriver.remote.webelement.WebElement (session=\"38eefb7f22a4d450add736ff44755913\", element=\"1e8da09b-6427-462b-98ba-98f204291c7f\")>,\n",
       " <selenium.webdriver.remote.webelement.WebElement (session=\"38eefb7f22a4d450add736ff44755913\", element=\"ab089ea7-4bc3-4d61-81e2-8d6838ddc6f9\")>,\n",
       " <selenium.webdriver.remote.webelement.WebElement (session=\"38eefb7f22a4d450add736ff44755913\", element=\"0f9d84bc-d567-4f35-929f-faaee27eaeb0\")>,\n",
       " <selenium.webdriver.remote.webelement.WebElement (session=\"38eefb7f22a4d450add736ff44755913\", element=\"5de1f4f0-f6b3-4f5c-957e-e1a5ec6a2906\")>,\n",
       " <selenium.webdriver.remote.webelement.WebElement (session=\"38eefb7f22a4d450add736ff44755913\", element=\"84131600-f03b-43ea-bbe4-2e19e845182b\")>,\n",
       " <selenium.webdriver.remote.webelement.WebElement (session=\"38eefb7f22a4d450add736ff44755913\", element=\"848ec9dc-ff2d-46a0-ac28-5b4da14a87e0\")>,\n",
       " <selenium.webdriver.remote.webelement.WebElement (session=\"38eefb7f22a4d450add736ff44755913\", element=\"98517c5f-9b29-4a51-a989-c6ed2e7c8242\")>,\n",
       " <selenium.webdriver.remote.webelement.WebElement (session=\"38eefb7f22a4d450add736ff44755913\", element=\"53ffc926-0fb2-4c9c-9cb7-6f18724417fa\")>,\n",
       " <selenium.webdriver.remote.webelement.WebElement (session=\"38eefb7f22a4d450add736ff44755913\", element=\"829245da-73f8-4d24-bdd8-0de9520ccb46\")>,\n",
       " <selenium.webdriver.remote.webelement.WebElement (session=\"38eefb7f22a4d450add736ff44755913\", element=\"81148f2b-0619-4a02-beba-6431e6de8301\")>,\n",
       " <selenium.webdriver.remote.webelement.WebElement (session=\"38eefb7f22a4d450add736ff44755913\", element=\"aba26837-83e3-4d50-baeb-ac719fb9297f\")>,\n",
       " <selenium.webdriver.remote.webelement.WebElement (session=\"38eefb7f22a4d450add736ff44755913\", element=\"db63ae2d-1c76-4d0b-9bb0-943e1e5fc9b7\")>,\n",
       " <selenium.webdriver.remote.webelement.WebElement (session=\"38eefb7f22a4d450add736ff44755913\", element=\"7ea8a3dc-b3fa-421d-8409-a79618e7476e\")>,\n",
       " <selenium.webdriver.remote.webelement.WebElement (session=\"38eefb7f22a4d450add736ff44755913\", element=\"1b231b68-458d-4d97-a236-9347904acf72\")>,\n",
       " <selenium.webdriver.remote.webelement.WebElement (session=\"38eefb7f22a4d450add736ff44755913\", element=\"40628959-93f5-46e3-b0a2-ad24e44960df\")>]"
      ]
     },
     "execution_count": 87,
     "metadata": {},
     "output_type": "execute_result"
    }
   ],
   "source": [
    "job_loc=driver.find_elements_by_xpath(\"//li[@class='fleft grey-text br2 placeHolderLi location']\")\n",
    "job_loc"
   ]
  },
  {
   "cell_type": "code",
   "execution_count": 88,
   "id": "4cba972d",
   "metadata": {},
   "outputs": [
    {
     "data": {
      "text/plain": [
       "['Gurgaon/Gurugram, Delhi / NCR',\n",
       " 'Gurgaon/Gurugram, Delhi / NCR',\n",
       " 'Gurgaon/Gurugram, Bangalore/Bengaluru, any\\n(WFH during Covid)',\n",
       " 'Bangalore/Bengaluru, Delhi / NCR, Mumbai (All Areas)',\n",
       " 'Delhi / NCR',\n",
       " 'Noida',\n",
       " 'Noida',\n",
       " 'Noida',\n",
       " 'Noida',\n",
       " 'Pune, Chennai, Bangalore/Bengaluru, Delhi / NCR',\n",
       " 'Gurgaon/Gurugram',\n",
       " 'Gurgaon/Gurugram',\n",
       " 'Hyderabad/Secunderabad, Gurgaon/Gurugram, Bangalore/Bengaluru, Mumbai (All Areas)',\n",
       " 'Mohali/SAS Nagar, Hyderabad/Secunderabad, Ahmedabad, Gurgaon/Gurugram, Chennai, Bangalore/Bengaluru',\n",
       " 'Noida, New Delhi, Gurgaon/Gurugram',\n",
       " 'Bangalore/Bengaluru, Delhi',\n",
       " 'Noida',\n",
       " 'Delhi / NCR(Okhla)',\n",
       " 'Gurgaon/Gurugram',\n",
       " 'Noida, New Delhi, Gurgaon/Gurugram']"
      ]
     },
     "execution_count": 88,
     "metadata": {},
     "output_type": "execute_result"
    }
   ],
   "source": [
    "location=[]\n",
    "for i in job_loc:\n",
    "    location.append(i.text)\n",
    "location    "
   ]
  },
  {
   "cell_type": "code",
   "execution_count": 89,
   "id": "86006864",
   "metadata": {},
   "outputs": [
    {
     "data": {
      "text/plain": [
       "[<selenium.webdriver.remote.webelement.WebElement (session=\"38eefb7f22a4d450add736ff44755913\", element=\"4b4e239b-9721-4175-b13f-26f8feca8cb8\")>,\n",
       " <selenium.webdriver.remote.webelement.WebElement (session=\"38eefb7f22a4d450add736ff44755913\", element=\"488c04c2-fd45-44d9-b4f8-d9479f398d9f\")>,\n",
       " <selenium.webdriver.remote.webelement.WebElement (session=\"38eefb7f22a4d450add736ff44755913\", element=\"a6bc6a7b-880b-4b28-a1f3-2be421fe6904\")>,\n",
       " <selenium.webdriver.remote.webelement.WebElement (session=\"38eefb7f22a4d450add736ff44755913\", element=\"9537dda6-8edd-459f-a8f5-cb0b7e95a44b\")>,\n",
       " <selenium.webdriver.remote.webelement.WebElement (session=\"38eefb7f22a4d450add736ff44755913\", element=\"169d73d0-bd0c-411f-8ab2-6c50347d4f3d\")>,\n",
       " <selenium.webdriver.remote.webelement.WebElement (session=\"38eefb7f22a4d450add736ff44755913\", element=\"d7839728-2a6a-4868-ad12-17a694a94de4\")>,\n",
       " <selenium.webdriver.remote.webelement.WebElement (session=\"38eefb7f22a4d450add736ff44755913\", element=\"5c955a30-3e70-440f-bed3-feb0cf06e8af\")>,\n",
       " <selenium.webdriver.remote.webelement.WebElement (session=\"38eefb7f22a4d450add736ff44755913\", element=\"e9c071e2-602f-425a-b975-69a1e01f2f70\")>,\n",
       " <selenium.webdriver.remote.webelement.WebElement (session=\"38eefb7f22a4d450add736ff44755913\", element=\"722b2921-88f0-4a0a-8439-0412faa0ef63\")>,\n",
       " <selenium.webdriver.remote.webelement.WebElement (session=\"38eefb7f22a4d450add736ff44755913\", element=\"ed1c8e0c-8f34-467f-b74b-631f58c3a4f2\")>,\n",
       " <selenium.webdriver.remote.webelement.WebElement (session=\"38eefb7f22a4d450add736ff44755913\", element=\"cb72f42a-671b-4417-921f-4a1cfb9ee1f2\")>,\n",
       " <selenium.webdriver.remote.webelement.WebElement (session=\"38eefb7f22a4d450add736ff44755913\", element=\"71b4d0b4-b634-4e49-bbdc-f97341fe9f78\")>,\n",
       " <selenium.webdriver.remote.webelement.WebElement (session=\"38eefb7f22a4d450add736ff44755913\", element=\"cfa31dd1-a788-4179-89ba-f12f73d6ba25\")>,\n",
       " <selenium.webdriver.remote.webelement.WebElement (session=\"38eefb7f22a4d450add736ff44755913\", element=\"a2cf99a9-2e8a-4d4f-9358-b359462b1e4d\")>,\n",
       " <selenium.webdriver.remote.webelement.WebElement (session=\"38eefb7f22a4d450add736ff44755913\", element=\"2b0d5809-1ef2-42d7-8b3d-ce6394109c95\")>,\n",
       " <selenium.webdriver.remote.webelement.WebElement (session=\"38eefb7f22a4d450add736ff44755913\", element=\"4bed3e24-e6cf-4935-af77-e1d3b1b864dc\")>,\n",
       " <selenium.webdriver.remote.webelement.WebElement (session=\"38eefb7f22a4d450add736ff44755913\", element=\"77c1bc17-5abe-4f65-9d9e-c7a1815c90f0\")>,\n",
       " <selenium.webdriver.remote.webelement.WebElement (session=\"38eefb7f22a4d450add736ff44755913\", element=\"223a86cc-a7a3-4b15-b39c-4ff7250a1f9b\")>,\n",
       " <selenium.webdriver.remote.webelement.WebElement (session=\"38eefb7f22a4d450add736ff44755913\", element=\"372f19ee-120e-40ec-9d23-bc5475e82946\")>,\n",
       " <selenium.webdriver.remote.webelement.WebElement (session=\"38eefb7f22a4d450add736ff44755913\", element=\"a16d19c0-917d-4f00-aaeb-06ebc3f380a9\")>]"
      ]
     },
     "execution_count": 89,
     "metadata": {},
     "output_type": "execute_result"
    }
   ],
   "source": [
    "company_name=driver.find_elements_by_xpath(\"//a[@class='subTitle ellipsis fleft']\")\n",
    "company_name"
   ]
  },
  {
   "cell_type": "code",
   "execution_count": 90,
   "id": "0768472d",
   "metadata": {},
   "outputs": [
    {
     "data": {
      "text/plain": [
       "['Benovymed Healthcare',\n",
       " 'Benovymed Healthcare Private Limited',\n",
       " 'Metaphor Infotech',\n",
       " 'Skillenable Fintech Private Limited',\n",
       " 'IBM India Pvt. Limited',\n",
       " 'RateGain Travel technologies Pvt. Ltd.',\n",
       " 'ElectrifAi',\n",
       " 'Agreeya',\n",
       " 'Agreeya',\n",
       " 'Black Turtle India Pvt Ltd',\n",
       " 'Wize Commerce India Pvt. Ltd.',\n",
       " 'CARS24',\n",
       " 'GENPACT India Private Limited',\n",
       " 'Creative Hands HR Consultancy',\n",
       " 'GABA Consultancy services',\n",
       " 'Aryng',\n",
       " 'JK Technosoft Ltd',\n",
       " 'Kusum Healthcare Pvt. Ltd.',\n",
       " 'Manak Waste Management Private Limited',\n",
       " 'Unnati']"
      ]
     },
     "execution_count": 90,
     "metadata": {},
     "output_type": "execute_result"
    }
   ],
   "source": [
    "company=[]\n",
    "for i in company_name:\n",
    "    company.append(i.text)\n",
    "company    "
   ]
  },
  {
   "cell_type": "code",
   "execution_count": 91,
   "id": "028f8209",
   "metadata": {},
   "outputs": [
    {
     "data": {
      "text/plain": [
       "[<selenium.webdriver.remote.webelement.WebElement (session=\"38eefb7f22a4d450add736ff44755913\", element=\"301e9d00-3b15-4183-bbe9-36a732d6f14f\")>,\n",
       " <selenium.webdriver.remote.webelement.WebElement (session=\"38eefb7f22a4d450add736ff44755913\", element=\"60b1a164-40f2-4673-ad11-5fd0b4e148fb\")>,\n",
       " <selenium.webdriver.remote.webelement.WebElement (session=\"38eefb7f22a4d450add736ff44755913\", element=\"6ae1471c-e2e2-4097-949f-019ea91ebefd\")>,\n",
       " <selenium.webdriver.remote.webelement.WebElement (session=\"38eefb7f22a4d450add736ff44755913\", element=\"8a954eff-86bb-45f1-84ca-a91675a83b22\")>,\n",
       " <selenium.webdriver.remote.webelement.WebElement (session=\"38eefb7f22a4d450add736ff44755913\", element=\"0d8a46b6-cfb8-4d23-8f51-b31075d2558b\")>,\n",
       " <selenium.webdriver.remote.webelement.WebElement (session=\"38eefb7f22a4d450add736ff44755913\", element=\"6d7e6e4c-4c9c-4fc6-b6e3-5ee93add02a1\")>,\n",
       " <selenium.webdriver.remote.webelement.WebElement (session=\"38eefb7f22a4d450add736ff44755913\", element=\"f177084e-9cef-4504-83fd-e8dddf757374\")>,\n",
       " <selenium.webdriver.remote.webelement.WebElement (session=\"38eefb7f22a4d450add736ff44755913\", element=\"0a083e29-da82-4fb1-8548-e1ff4676a0cc\")>,\n",
       " <selenium.webdriver.remote.webelement.WebElement (session=\"38eefb7f22a4d450add736ff44755913\", element=\"6de93142-734b-45e0-8468-0e9592f2e6b0\")>,\n",
       " <selenium.webdriver.remote.webelement.WebElement (session=\"38eefb7f22a4d450add736ff44755913\", element=\"1a5aa5f5-e458-43d3-bc95-bef558478e1d\")>,\n",
       " <selenium.webdriver.remote.webelement.WebElement (session=\"38eefb7f22a4d450add736ff44755913\", element=\"0954ae3d-716b-4abb-acb8-bacd1c72d96b\")>,\n",
       " <selenium.webdriver.remote.webelement.WebElement (session=\"38eefb7f22a4d450add736ff44755913\", element=\"de2ef7e1-ca2e-4ba0-8393-0c1dbe9dd801\")>,\n",
       " <selenium.webdriver.remote.webelement.WebElement (session=\"38eefb7f22a4d450add736ff44755913\", element=\"ff482d1f-3797-4430-8805-af548ffb1c21\")>,\n",
       " <selenium.webdriver.remote.webelement.WebElement (session=\"38eefb7f22a4d450add736ff44755913\", element=\"e42ec1e9-bda1-4e6d-bdeb-30cb2a08f5b6\")>,\n",
       " <selenium.webdriver.remote.webelement.WebElement (session=\"38eefb7f22a4d450add736ff44755913\", element=\"b9f3959e-57b9-4a6f-b319-600c0e76b8e7\")>,\n",
       " <selenium.webdriver.remote.webelement.WebElement (session=\"38eefb7f22a4d450add736ff44755913\", element=\"dbb867e0-4517-443e-9961-d8b95cd11fc9\")>,\n",
       " <selenium.webdriver.remote.webelement.WebElement (session=\"38eefb7f22a4d450add736ff44755913\", element=\"e6a823c5-30a5-4bf4-97d4-201b87ba0522\")>,\n",
       " <selenium.webdriver.remote.webelement.WebElement (session=\"38eefb7f22a4d450add736ff44755913\", element=\"90cb3a98-61c4-4eba-ad2b-2c59f5826bbb\")>,\n",
       " <selenium.webdriver.remote.webelement.WebElement (session=\"38eefb7f22a4d450add736ff44755913\", element=\"bcb05633-ea02-466a-9180-fdaafd1a4d1b\")>,\n",
       " <selenium.webdriver.remote.webelement.WebElement (session=\"38eefb7f22a4d450add736ff44755913\", element=\"d501e99f-05ec-46e6-bb8e-1ea3fbb9e100\")>]"
      ]
     },
     "execution_count": 91,
     "metadata": {},
     "output_type": "execute_result"
    }
   ],
   "source": [
    "experience=driver.find_elements_by_xpath(\"//li[@class='fleft grey-text br2 placeHolderLi experience']\")\n",
    "experience"
   ]
  },
  {
   "cell_type": "code",
   "execution_count": 92,
   "id": "612178a4",
   "metadata": {},
   "outputs": [
    {
     "data": {
      "text/plain": [
       "['2-7 Yrs',\n",
       " '2-7 Yrs',\n",
       " '5-10 Yrs',\n",
       " '2-5 Yrs',\n",
       " '5-10 Yrs',\n",
       " '5-8 Yrs',\n",
       " '10-16 Yrs',\n",
       " '7-12 Yrs',\n",
       " '7-12 Yrs',\n",
       " '8-13 Yrs',\n",
       " '2-4 Yrs',\n",
       " '1-5 Yrs',\n",
       " '3-8 Yrs',\n",
       " '0-0 Yrs',\n",
       " '0-0 Yrs',\n",
       " '4-9 Yrs',\n",
       " '3-6 Yrs',\n",
       " '4-6 Yrs',\n",
       " '2-4 Yrs',\n",
       " '4-7 Yrs']"
      ]
     },
     "execution_count": 92,
     "metadata": {},
     "output_type": "execute_result"
    }
   ],
   "source": [
    "experience_required=[]\n",
    "for i in experience:\n",
    "    experience_required.append(i.text)\n",
    "experience_required"
   ]
  },
  {
   "cell_type": "code",
   "execution_count": 94,
   "id": "a32160d6",
   "metadata": {},
   "outputs": [
    {
     "data": {
      "text/html": [
       "<div>\n",
       "<style scoped>\n",
       "    .dataframe tbody tr th:only-of-type {\n",
       "        vertical-align: middle;\n",
       "    }\n",
       "\n",
       "    .dataframe tbody tr th {\n",
       "        vertical-align: top;\n",
       "    }\n",
       "\n",
       "    .dataframe thead th {\n",
       "        text-align: right;\n",
       "    }\n",
       "</style>\n",
       "<table border=\"1\" class=\"dataframe\">\n",
       "  <thead>\n",
       "    <tr style=\"text-align: right;\">\n",
       "      <th></th>\n",
       "      <th>title</th>\n",
       "      <th>company</th>\n",
       "      <th>location</th>\n",
       "      <th>experience_required</th>\n",
       "    </tr>\n",
       "  </thead>\n",
       "  <tbody>\n",
       "    <tr>\n",
       "      <th>0</th>\n",
       "      <td>Co-Founder &amp; Principal Data Scientist/Senior S...</td>\n",
       "      <td>Benovymed Healthcare</td>\n",
       "      <td>Gurgaon/Gurugram, Delhi / NCR</td>\n",
       "      <td>2-7 Yrs</td>\n",
       "    </tr>\n",
       "    <tr>\n",
       "      <th>1</th>\n",
       "      <td>Co-Founder - Principal Data Scientist/Senior D...</td>\n",
       "      <td>Benovymed Healthcare Private Limited</td>\n",
       "      <td>Gurgaon/Gurugram, Delhi / NCR</td>\n",
       "      <td>2-7 Yrs</td>\n",
       "    </tr>\n",
       "    <tr>\n",
       "      <th>2</th>\n",
       "      <td>Urgent Opening For Data Scientist/Data Analyst...</td>\n",
       "      <td>Metaphor Infotech</td>\n",
       "      <td>Gurgaon/Gurugram, Bangalore/Bengaluru, any\\n(W...</td>\n",
       "      <td>5-10 Yrs</td>\n",
       "    </tr>\n",
       "    <tr>\n",
       "      <th>3</th>\n",
       "      <td>Data Analyst/Data Scientist</td>\n",
       "      <td>Skillenable Fintech Private Limited</td>\n",
       "      <td>Bangalore/Bengaluru, Delhi / NCR, Mumbai (All ...</td>\n",
       "      <td>2-5 Yrs</td>\n",
       "    </tr>\n",
       "    <tr>\n",
       "      <th>4</th>\n",
       "      <td>Data Scientist: Advanced Analytics</td>\n",
       "      <td>IBM India Pvt. Limited</td>\n",
       "      <td>Delhi / NCR</td>\n",
       "      <td>5-10 Yrs</td>\n",
       "    </tr>\n",
       "    <tr>\n",
       "      <th>5</th>\n",
       "      <td>Associate Manager - Data Engineering/Data Mode...</td>\n",
       "      <td>RateGain Travel technologies Pvt. Ltd.</td>\n",
       "      <td>Noida</td>\n",
       "      <td>5-8 Yrs</td>\n",
       "    </tr>\n",
       "    <tr>\n",
       "      <th>6</th>\n",
       "      <td>Lead Data Scientist</td>\n",
       "      <td>ElectrifAi</td>\n",
       "      <td>Noida</td>\n",
       "      <td>10-16 Yrs</td>\n",
       "    </tr>\n",
       "    <tr>\n",
       "      <th>7</th>\n",
       "      <td>Lead /Manager Data Scientist</td>\n",
       "      <td>Agreeya</td>\n",
       "      <td>Noida</td>\n",
       "      <td>7-12 Yrs</td>\n",
       "    </tr>\n",
       "    <tr>\n",
       "      <th>8</th>\n",
       "      <td>Lead /Manager Data Scientist</td>\n",
       "      <td>Agreeya</td>\n",
       "      <td>Noida</td>\n",
       "      <td>7-12 Yrs</td>\n",
       "    </tr>\n",
       "    <tr>\n",
       "      <th>9</th>\n",
       "      <td>Data Scientist - BFSI</td>\n",
       "      <td>Black Turtle India Pvt Ltd</td>\n",
       "      <td>Pune, Chennai, Bangalore/Bengaluru, Delhi / NCR</td>\n",
       "      <td>8-13 Yrs</td>\n",
       "    </tr>\n",
       "  </tbody>\n",
       "</table>\n",
       "</div>"
      ],
      "text/plain": [
       "                                               title  \\\n",
       "0  Co-Founder & Principal Data Scientist/Senior S...   \n",
       "1  Co-Founder - Principal Data Scientist/Senior D...   \n",
       "2  Urgent Opening For Data Scientist/Data Analyst...   \n",
       "3                        Data Analyst/Data Scientist   \n",
       "4                 Data Scientist: Advanced Analytics   \n",
       "5  Associate Manager - Data Engineering/Data Mode...   \n",
       "6                                Lead Data Scientist   \n",
       "7                       Lead /Manager Data Scientist   \n",
       "8                       Lead /Manager Data Scientist   \n",
       "9                              Data Scientist - BFSI   \n",
       "\n",
       "                                  company  \\\n",
       "0                    Benovymed Healthcare   \n",
       "1    Benovymed Healthcare Private Limited   \n",
       "2                       Metaphor Infotech   \n",
       "3     Skillenable Fintech Private Limited   \n",
       "4                  IBM India Pvt. Limited   \n",
       "5  RateGain Travel technologies Pvt. Ltd.   \n",
       "6                              ElectrifAi   \n",
       "7                                 Agreeya   \n",
       "8                                 Agreeya   \n",
       "9              Black Turtle India Pvt Ltd   \n",
       "\n",
       "                                            location experience_required  \n",
       "0                      Gurgaon/Gurugram, Delhi / NCR             2-7 Yrs  \n",
       "1                      Gurgaon/Gurugram, Delhi / NCR             2-7 Yrs  \n",
       "2  Gurgaon/Gurugram, Bangalore/Bengaluru, any\\n(W...            5-10 Yrs  \n",
       "3  Bangalore/Bengaluru, Delhi / NCR, Mumbai (All ...             2-5 Yrs  \n",
       "4                                        Delhi / NCR            5-10 Yrs  \n",
       "5                                              Noida             5-8 Yrs  \n",
       "6                                              Noida           10-16 Yrs  \n",
       "7                                              Noida            7-12 Yrs  \n",
       "8                                              Noida            7-12 Yrs  \n",
       "9    Pune, Chennai, Bangalore/Bengaluru, Delhi / NCR            8-13 Yrs  "
      ]
     },
     "execution_count": 94,
     "metadata": {},
     "output_type": "execute_result"
    }
   ],
   "source": [
    "job=pd.DataFrame({})\n",
    "job['title']=title[0:10]\n",
    "job['company']=company[0:10]\n",
    "job['location']=location[0:10]\n",
    "job['experience_required']=experience_required[0:10]\n",
    "job\n",
    "\n"
   ]
  },
  {
   "cell_type": "markdown",
   "id": "be3f3cd6",
   "metadata": {},
   "source": [
    "# Q4: Write a python program to scrape data for first 10 job results for Data scientist \n",
    "Designation in Noida location. You have to scrape company_name, No. of days \n",
    "ago when job was posted, Rating of the company."
   ]
  },
  {
   "cell_type": "code",
   "execution_count": 114,
   "id": "355340b9",
   "metadata": {},
   "outputs": [
    {
     "data": {
      "text/plain": [
       "<selenium.webdriver.chrome.webdriver.WebDriver (session=\"eaa2a68a2d48d7272e857a49d9ed9488\")>"
      ]
     },
     "execution_count": 114,
     "metadata": {},
     "output_type": "execute_result"
    }
   ],
   "source": [
    "driver=webdriver.Chrome('Chromedriver.exe')\n",
    "driver"
   ]
  },
  {
   "cell_type": "code",
   "execution_count": 115,
   "id": "ba68f1c1",
   "metadata": {},
   "outputs": [],
   "source": [
    "url='https://www.glassdoor.co.in/member/home/index.htm'\n",
    "driver.get(url)"
   ]
  },
  {
   "cell_type": "code",
   "execution_count": 116,
   "id": "145a7259",
   "metadata": {},
   "outputs": [],
   "source": [
    "search_job=driver.find_element_by_id(\"sc.keyword\")"
   ]
  },
  {
   "cell_type": "code",
   "execution_count": 117,
   "id": "fd1d6895",
   "metadata": {},
   "outputs": [],
   "source": [
    "search_job.send_keys(\"Data Scientist\")"
   ]
  },
  {
   "cell_type": "code",
   "execution_count": 118,
   "id": "2f5bb94a",
   "metadata": {},
   "outputs": [],
   "source": [
    "search_loc=driver.find_element_by_id(\"sc.location\")"
   ]
  },
  {
   "cell_type": "code",
   "execution_count": 119,
   "id": "0ea3560e",
   "metadata": {},
   "outputs": [],
   "source": [
    "search_loc.send_keys('Noida')"
   ]
  },
  {
   "cell_type": "code",
   "execution_count": 124,
   "id": "b6549c95",
   "metadata": {},
   "outputs": [],
   "source": [
    "search_bar=driver.find_element_by_xpath(\"//span[@class='css-8zxfjs']\")\n",
    "search_bar.click()"
   ]
  },
  {
   "cell_type": "code",
   "execution_count": 126,
   "id": "461c4b47",
   "metadata": {},
   "outputs": [
    {
     "data": {
      "text/plain": [
       "[<selenium.webdriver.remote.webelement.WebElement (session=\"eaa2a68a2d48d7272e857a49d9ed9488\", element=\"cb2e496c-794c-48db-9755-fa9e57d85e1c\")>,\n",
       " <selenium.webdriver.remote.webelement.WebElement (session=\"eaa2a68a2d48d7272e857a49d9ed9488\", element=\"7fd997a8-0898-448f-8ca1-4bbb5cc129ac\")>,\n",
       " <selenium.webdriver.remote.webelement.WebElement (session=\"eaa2a68a2d48d7272e857a49d9ed9488\", element=\"2ffc97bb-0d03-4bf0-9618-3341a47cb460\")>,\n",
       " <selenium.webdriver.remote.webelement.WebElement (session=\"eaa2a68a2d48d7272e857a49d9ed9488\", element=\"7dd8906a-f1a1-46c2-a768-57200890c0dd\")>,\n",
       " <selenium.webdriver.remote.webelement.WebElement (session=\"eaa2a68a2d48d7272e857a49d9ed9488\", element=\"1edef278-4aea-4168-86ef-c6b849d9dfd1\")>,\n",
       " <selenium.webdriver.remote.webelement.WebElement (session=\"eaa2a68a2d48d7272e857a49d9ed9488\", element=\"1cfbf1f8-d01b-4fe6-b3ad-095a0806fe21\")>,\n",
       " <selenium.webdriver.remote.webelement.WebElement (session=\"eaa2a68a2d48d7272e857a49d9ed9488\", element=\"72c4fec2-666d-4575-93a0-c2d07510eebe\")>,\n",
       " <selenium.webdriver.remote.webelement.WebElement (session=\"eaa2a68a2d48d7272e857a49d9ed9488\", element=\"022ad468-4c77-4d5c-b43b-48b52fee54ea\")>,\n",
       " <selenium.webdriver.remote.webelement.WebElement (session=\"eaa2a68a2d48d7272e857a49d9ed9488\", element=\"ddd73c4d-a671-4e51-b5fc-6d2b7d6bfbdb\")>,\n",
       " <selenium.webdriver.remote.webelement.WebElement (session=\"eaa2a68a2d48d7272e857a49d9ed9488\", element=\"d5f458d8-9e6b-402a-8b41-38e56fc73d74\")>,\n",
       " <selenium.webdriver.remote.webelement.WebElement (session=\"eaa2a68a2d48d7272e857a49d9ed9488\", element=\"9a572748-f8de-4795-8c42-77d4774dd22b\")>,\n",
       " <selenium.webdriver.remote.webelement.WebElement (session=\"eaa2a68a2d48d7272e857a49d9ed9488\", element=\"4b12b7a1-244c-4751-81cc-9326f2ee3892\")>,\n",
       " <selenium.webdriver.remote.webelement.WebElement (session=\"eaa2a68a2d48d7272e857a49d9ed9488\", element=\"e5fa4079-d92a-4c40-bce7-b67c896f2bf2\")>,\n",
       " <selenium.webdriver.remote.webelement.WebElement (session=\"eaa2a68a2d48d7272e857a49d9ed9488\", element=\"919082c5-d4d1-45cb-8851-4b66aa7a27d8\")>,\n",
       " <selenium.webdriver.remote.webelement.WebElement (session=\"eaa2a68a2d48d7272e857a49d9ed9488\", element=\"e5527a0d-c0f6-4eac-899b-56b0a8241b5b\")>,\n",
       " <selenium.webdriver.remote.webelement.WebElement (session=\"eaa2a68a2d48d7272e857a49d9ed9488\", element=\"3913cdb0-4117-41fd-b88a-d712016fb533\")>,\n",
       " <selenium.webdriver.remote.webelement.WebElement (session=\"eaa2a68a2d48d7272e857a49d9ed9488\", element=\"9297a204-cb75-4799-8ab0-0c28f1185730\")>,\n",
       " <selenium.webdriver.remote.webelement.WebElement (session=\"eaa2a68a2d48d7272e857a49d9ed9488\", element=\"4260691e-2a10-4b26-b897-51c6fce8d10e\")>,\n",
       " <selenium.webdriver.remote.webelement.WebElement (session=\"eaa2a68a2d48d7272e857a49d9ed9488\", element=\"7238c2de-dac4-40a3-be2f-d1bfccb0618d\")>,\n",
       " <selenium.webdriver.remote.webelement.WebElement (session=\"eaa2a68a2d48d7272e857a49d9ed9488\", element=\"66d35154-bf73-4f1a-b892-d53ec2e31d8b\")>,\n",
       " <selenium.webdriver.remote.webelement.WebElement (session=\"eaa2a68a2d48d7272e857a49d9ed9488\", element=\"18c04459-31a2-4a34-9fee-3592d1e2ca45\")>,\n",
       " <selenium.webdriver.remote.webelement.WebElement (session=\"eaa2a68a2d48d7272e857a49d9ed9488\", element=\"5c9ab247-f1fe-459f-869c-e29788366be0\")>,\n",
       " <selenium.webdriver.remote.webelement.WebElement (session=\"eaa2a68a2d48d7272e857a49d9ed9488\", element=\"09ad72a2-5bb4-4843-9c02-5194a67f38f0\")>,\n",
       " <selenium.webdriver.remote.webelement.WebElement (session=\"eaa2a68a2d48d7272e857a49d9ed9488\", element=\"0b50e2ea-a738-44e5-91c1-68ce3ee73579\")>,\n",
       " <selenium.webdriver.remote.webelement.WebElement (session=\"eaa2a68a2d48d7272e857a49d9ed9488\", element=\"41bf200a-c81d-478d-8b83-9d55e2fb93bf\")>,\n",
       " <selenium.webdriver.remote.webelement.WebElement (session=\"eaa2a68a2d48d7272e857a49d9ed9488\", element=\"03dadbe0-0a2b-454b-9de4-7298129b1f1c\")>,\n",
       " <selenium.webdriver.remote.webelement.WebElement (session=\"eaa2a68a2d48d7272e857a49d9ed9488\", element=\"e40acd4c-7b33-4f8b-84fe-5cc77175a9bc\")>,\n",
       " <selenium.webdriver.remote.webelement.WebElement (session=\"eaa2a68a2d48d7272e857a49d9ed9488\", element=\"6e6fe6cc-faee-4cf9-b687-58d0a51ac98b\")>,\n",
       " <selenium.webdriver.remote.webelement.WebElement (session=\"eaa2a68a2d48d7272e857a49d9ed9488\", element=\"4d558767-9e7d-4ccb-b259-755072917f79\")>,\n",
       " <selenium.webdriver.remote.webelement.WebElement (session=\"eaa2a68a2d48d7272e857a49d9ed9488\", element=\"aae47631-dcc9-4ec8-bc02-d20005c75ef8\")>]"
      ]
     },
     "execution_count": 126,
     "metadata": {},
     "output_type": "execute_result"
    }
   ],
   "source": [
    "company_name=driver.find_elements_by_xpath(\"//a[@class=' css-l2wjgv e1n63ojh0 jobLink']\")\n",
    "company_name"
   ]
  },
  {
   "cell_type": "code",
   "execution_count": 127,
   "id": "49a60ef2",
   "metadata": {},
   "outputs": [
    {
     "data": {
      "text/plain": [
       "['Liberin Technologies Private Limited',\n",
       " 'AlgoScale Technologies Private Limited',\n",
       " 'Data Trained Education',\n",
       " 'Ishatva Management Solutions',\n",
       " 'Emerging India Analytics',\n",
       " 'Saishaa Services',\n",
       " 'limeroad.com',\n",
       " 'Badatya Private Limited',\n",
       " 'Ericsson',\n",
       " 'Biz2Credit Inc',\n",
       " 'Salasar New Age Technologies',\n",
       " 'Newgen Software',\n",
       " 'Techlive',\n",
       " 'IElevate Institute',\n",
       " 'Crowe',\n",
       " 'Innovacer',\n",
       " 'Uncodemy',\n",
       " 'ING',\n",
       " 'Airtel India',\n",
       " 'Salasar New Age Technologies',\n",
       " 'CRMNEXT',\n",
       " 'SearchUrCollege',\n",
       " 'Wobot.ai',\n",
       " 'Verisk',\n",
       " 'NEC Opportunities',\n",
       " 'OneViewHR',\n",
       " 'Gauge Data Solutions',\n",
       " 'WinZO',\n",
       " 'Crypto Mize',\n",
       " 'CSTEP']"
      ]
     },
     "execution_count": 127,
     "metadata": {},
     "output_type": "execute_result"
    }
   ],
   "source": [
    "company=[]\n",
    "for i in company_name:\n",
    "    company.append(i.text)\n",
    "company    "
   ]
  },
  {
   "cell_type": "code",
   "execution_count": 128,
   "id": "2bf169fc",
   "metadata": {},
   "outputs": [
    {
     "data": {
      "text/plain": [
       "[<selenium.webdriver.remote.webelement.WebElement (session=\"eaa2a68a2d48d7272e857a49d9ed9488\", element=\"91f84b64-51f2-40fd-91ac-5b0f4a9ddec7\")>,\n",
       " <selenium.webdriver.remote.webelement.WebElement (session=\"eaa2a68a2d48d7272e857a49d9ed9488\", element=\"c2e9d89b-8ca7-4a4e-b34d-db252119fc77\")>,\n",
       " <selenium.webdriver.remote.webelement.WebElement (session=\"eaa2a68a2d48d7272e857a49d9ed9488\", element=\"bcd90ba9-0dc1-46a7-b0e5-2f3017e1a81e\")>,\n",
       " <selenium.webdriver.remote.webelement.WebElement (session=\"eaa2a68a2d48d7272e857a49d9ed9488\", element=\"a91cb33c-bb9b-4502-86f6-ac51d0769cd1\")>,\n",
       " <selenium.webdriver.remote.webelement.WebElement (session=\"eaa2a68a2d48d7272e857a49d9ed9488\", element=\"af51bc39-964d-4eed-94e7-73daa7ba5783\")>,\n",
       " <selenium.webdriver.remote.webelement.WebElement (session=\"eaa2a68a2d48d7272e857a49d9ed9488\", element=\"093eec77-a036-4344-bc45-9ac1ea5df1f7\")>,\n",
       " <selenium.webdriver.remote.webelement.WebElement (session=\"eaa2a68a2d48d7272e857a49d9ed9488\", element=\"81eabaa7-6b43-4781-8c4f-bbd8f2944c8c\")>,\n",
       " <selenium.webdriver.remote.webelement.WebElement (session=\"eaa2a68a2d48d7272e857a49d9ed9488\", element=\"8374fcaf-dbfd-46f1-a232-31886f79e751\")>,\n",
       " <selenium.webdriver.remote.webelement.WebElement (session=\"eaa2a68a2d48d7272e857a49d9ed9488\", element=\"4fdbf70e-d106-42ce-bd50-9fcd2e19da61\")>,\n",
       " <selenium.webdriver.remote.webelement.WebElement (session=\"eaa2a68a2d48d7272e857a49d9ed9488\", element=\"b01d23f8-73bb-407c-b0c5-57c8fda294b2\")>,\n",
       " <selenium.webdriver.remote.webelement.WebElement (session=\"eaa2a68a2d48d7272e857a49d9ed9488\", element=\"f96f5aa3-fc18-44ed-846f-46bc75c3dedd\")>,\n",
       " <selenium.webdriver.remote.webelement.WebElement (session=\"eaa2a68a2d48d7272e857a49d9ed9488\", element=\"8c8f7277-37df-46d3-86c1-81567c8b032f\")>,\n",
       " <selenium.webdriver.remote.webelement.WebElement (session=\"eaa2a68a2d48d7272e857a49d9ed9488\", element=\"06e850bd-eb6d-436d-bb85-197f5a2ab62a\")>,\n",
       " <selenium.webdriver.remote.webelement.WebElement (session=\"eaa2a68a2d48d7272e857a49d9ed9488\", element=\"1037909c-f9bf-4668-8fad-227bf89165da\")>,\n",
       " <selenium.webdriver.remote.webelement.WebElement (session=\"eaa2a68a2d48d7272e857a49d9ed9488\", element=\"6fdd2cca-bdb0-463f-a72f-476b34c8c5e9\")>,\n",
       " <selenium.webdriver.remote.webelement.WebElement (session=\"eaa2a68a2d48d7272e857a49d9ed9488\", element=\"7721a081-1789-4968-b720-f9fda511d998\")>,\n",
       " <selenium.webdriver.remote.webelement.WebElement (session=\"eaa2a68a2d48d7272e857a49d9ed9488\", element=\"04cda06e-f8e7-470e-b9b1-26fd678e2348\")>,\n",
       " <selenium.webdriver.remote.webelement.WebElement (session=\"eaa2a68a2d48d7272e857a49d9ed9488\", element=\"79c4f98a-701b-4052-8df5-1b1e1a2e52fa\")>,\n",
       " <selenium.webdriver.remote.webelement.WebElement (session=\"eaa2a68a2d48d7272e857a49d9ed9488\", element=\"5fd40db1-3925-4a6e-8fae-bca6a1bdf629\")>,\n",
       " <selenium.webdriver.remote.webelement.WebElement (session=\"eaa2a68a2d48d7272e857a49d9ed9488\", element=\"1f65fa51-b79a-4a15-8091-600b2145ff82\")>,\n",
       " <selenium.webdriver.remote.webelement.WebElement (session=\"eaa2a68a2d48d7272e857a49d9ed9488\", element=\"da8c71c5-4724-48a4-8e20-aad4962a46e4\")>,\n",
       " <selenium.webdriver.remote.webelement.WebElement (session=\"eaa2a68a2d48d7272e857a49d9ed9488\", element=\"70967415-6708-40ee-b628-635dc9d013d3\")>,\n",
       " <selenium.webdriver.remote.webelement.WebElement (session=\"eaa2a68a2d48d7272e857a49d9ed9488\", element=\"a3426d22-4b2b-45f5-9dfb-226dac7515c1\")>,\n",
       " <selenium.webdriver.remote.webelement.WebElement (session=\"eaa2a68a2d48d7272e857a49d9ed9488\", element=\"576f7347-c75e-4f66-9b2e-626456f9ef70\")>,\n",
       " <selenium.webdriver.remote.webelement.WebElement (session=\"eaa2a68a2d48d7272e857a49d9ed9488\", element=\"7d85ef8c-afed-4419-bb17-22f5d709e937\")>,\n",
       " <selenium.webdriver.remote.webelement.WebElement (session=\"eaa2a68a2d48d7272e857a49d9ed9488\", element=\"024ee9f3-2924-4f71-ba69-7730b51407c3\")>,\n",
       " <selenium.webdriver.remote.webelement.WebElement (session=\"eaa2a68a2d48d7272e857a49d9ed9488\", element=\"607b27bd-b358-46a6-96f3-049dd0652fb9\")>,\n",
       " <selenium.webdriver.remote.webelement.WebElement (session=\"eaa2a68a2d48d7272e857a49d9ed9488\", element=\"be2501bf-ea68-4d59-b155-06704fe0b70a\")>,\n",
       " <selenium.webdriver.remote.webelement.WebElement (session=\"eaa2a68a2d48d7272e857a49d9ed9488\", element=\"99827419-7920-4498-b9d8-d0ba3a385f1a\")>,\n",
       " <selenium.webdriver.remote.webelement.WebElement (session=\"eaa2a68a2d48d7272e857a49d9ed9488\", element=\"66342ac4-d327-4fe6-b3cb-608eef2c7aca\")>]"
      ]
     },
     "execution_count": 128,
     "metadata": {},
     "output_type": "execute_result"
    }
   ],
   "source": [
    "days=driver.find_elements_by_xpath(\"//div[@class='d-flex align-items-end pl-std css-mi55ob']\")\n",
    "days"
   ]
  },
  {
   "cell_type": "code",
   "execution_count": 129,
   "id": "84f47ba7",
   "metadata": {},
   "outputs": [
    {
     "data": {
      "text/plain": [
       "['30d+',\n",
       " '8d',\n",
       " '28d',\n",
       " '4d',\n",
       " '29d',\n",
       " '10d',\n",
       " '8d',\n",
       " '6d',\n",
       " '1d',\n",
       " '30d+',\n",
       " '30d+',\n",
       " '30d+',\n",
       " '30d+',\n",
       " '2d',\n",
       " '30d+',\n",
       " '30d+',\n",
       " '29d',\n",
       " '24h',\n",
       " '14d',\n",
       " '30d+',\n",
       " '23d',\n",
       " '30d+',\n",
       " '7d',\n",
       " '8d',\n",
       " '15d',\n",
       " '1d',\n",
       " '30d+',\n",
       " '30d+',\n",
       " '16d',\n",
       " '30d+']"
      ]
     },
     "execution_count": 129,
     "metadata": {},
     "output_type": "execute_result"
    }
   ],
   "source": [
    "days_before=[]\n",
    "for i in days:\n",
    "    days_before.append(i.text)\n",
    "days_before    "
   ]
  },
  {
   "cell_type": "code",
   "execution_count": 131,
   "id": "ea4d8ea2",
   "metadata": {},
   "outputs": [
    {
     "data": {
      "text/plain": [
       "[<selenium.webdriver.remote.webelement.WebElement (session=\"eaa2a68a2d48d7272e857a49d9ed9488\", element=\"5d55c674-4dc4-499c-971d-896164cf2419\")>,\n",
       " <selenium.webdriver.remote.webelement.WebElement (session=\"eaa2a68a2d48d7272e857a49d9ed9488\", element=\"dceccdcc-9ecd-4bc8-b535-b98e5f49cfcf\")>,\n",
       " <selenium.webdriver.remote.webelement.WebElement (session=\"eaa2a68a2d48d7272e857a49d9ed9488\", element=\"68e7440b-0cbf-4c7c-9e37-6d37a7a4592e\")>,\n",
       " <selenium.webdriver.remote.webelement.WebElement (session=\"eaa2a68a2d48d7272e857a49d9ed9488\", element=\"d72ecdfb-c5ea-4cfe-a38c-5affb1818994\")>,\n",
       " <selenium.webdriver.remote.webelement.WebElement (session=\"eaa2a68a2d48d7272e857a49d9ed9488\", element=\"01d74aec-c064-4cb5-a06e-e1226e3b1754\")>,\n",
       " <selenium.webdriver.remote.webelement.WebElement (session=\"eaa2a68a2d48d7272e857a49d9ed9488\", element=\"09a22924-a7ef-4628-8db7-c23cb7456e7a\")>,\n",
       " <selenium.webdriver.remote.webelement.WebElement (session=\"eaa2a68a2d48d7272e857a49d9ed9488\", element=\"98791803-29f2-4e09-955d-274315753e9a\")>,\n",
       " <selenium.webdriver.remote.webelement.WebElement (session=\"eaa2a68a2d48d7272e857a49d9ed9488\", element=\"e26cb3ef-00db-49f1-9703-abbd77c224ec\")>,\n",
       " <selenium.webdriver.remote.webelement.WebElement (session=\"eaa2a68a2d48d7272e857a49d9ed9488\", element=\"11ae8bd4-697c-4c53-838e-0f9e349a2734\")>,\n",
       " <selenium.webdriver.remote.webelement.WebElement (session=\"eaa2a68a2d48d7272e857a49d9ed9488\", element=\"20062717-3668-4b9a-96c9-9e1d6aca6347\")>,\n",
       " <selenium.webdriver.remote.webelement.WebElement (session=\"eaa2a68a2d48d7272e857a49d9ed9488\", element=\"4389b966-5197-4655-85e1-0bc62f598fa4\")>,\n",
       " <selenium.webdriver.remote.webelement.WebElement (session=\"eaa2a68a2d48d7272e857a49d9ed9488\", element=\"8cc28ebd-b3ad-485d-89a3-7d93bf3b597c\")>,\n",
       " <selenium.webdriver.remote.webelement.WebElement (session=\"eaa2a68a2d48d7272e857a49d9ed9488\", element=\"2d9831cb-f938-439b-bfc2-ab1cff237d02\")>,\n",
       " <selenium.webdriver.remote.webelement.WebElement (session=\"eaa2a68a2d48d7272e857a49d9ed9488\", element=\"fafaa23e-aa10-4e59-9539-fd3bd43f77a6\")>,\n",
       " <selenium.webdriver.remote.webelement.WebElement (session=\"eaa2a68a2d48d7272e857a49d9ed9488\", element=\"77214469-0dac-4f26-9a0c-0c320baaf02c\")>,\n",
       " <selenium.webdriver.remote.webelement.WebElement (session=\"eaa2a68a2d48d7272e857a49d9ed9488\", element=\"bf94a6af-75de-4d8c-a8c9-427069b23101\")>,\n",
       " <selenium.webdriver.remote.webelement.WebElement (session=\"eaa2a68a2d48d7272e857a49d9ed9488\", element=\"f04d1e42-a42c-48c5-94de-1f8cb383136f\")>,\n",
       " <selenium.webdriver.remote.webelement.WebElement (session=\"eaa2a68a2d48d7272e857a49d9ed9488\", element=\"053b258d-f662-40cc-98d0-88105fe7882c\")>,\n",
       " <selenium.webdriver.remote.webelement.WebElement (session=\"eaa2a68a2d48d7272e857a49d9ed9488\", element=\"3a816adc-52f0-4775-b33a-7d2c17abe35a\")>,\n",
       " <selenium.webdriver.remote.webelement.WebElement (session=\"eaa2a68a2d48d7272e857a49d9ed9488\", element=\"5afe5df3-d58f-4602-a84b-b9a92a589914\")>,\n",
       " <selenium.webdriver.remote.webelement.WebElement (session=\"eaa2a68a2d48d7272e857a49d9ed9488\", element=\"6ccf3a42-0b03-492f-b080-1116562ad173\")>,\n",
       " <selenium.webdriver.remote.webelement.WebElement (session=\"eaa2a68a2d48d7272e857a49d9ed9488\", element=\"e3697398-c3ca-4296-8077-d86862e32ae6\")>,\n",
       " <selenium.webdriver.remote.webelement.WebElement (session=\"eaa2a68a2d48d7272e857a49d9ed9488\", element=\"10342b70-0d5b-478a-bcea-375ec89217d5\")>,\n",
       " <selenium.webdriver.remote.webelement.WebElement (session=\"eaa2a68a2d48d7272e857a49d9ed9488\", element=\"a55cbcc6-f1d4-4bb1-8596-206538ce5e34\")>,\n",
       " <selenium.webdriver.remote.webelement.WebElement (session=\"eaa2a68a2d48d7272e857a49d9ed9488\", element=\"a324fcab-4c07-4b8f-b2c8-8cc9904b5c6e\")>,\n",
       " <selenium.webdriver.remote.webelement.WebElement (session=\"eaa2a68a2d48d7272e857a49d9ed9488\", element=\"b6e97400-3a1a-4d76-9c4c-f9157ef01224\")>,\n",
       " <selenium.webdriver.remote.webelement.WebElement (session=\"eaa2a68a2d48d7272e857a49d9ed9488\", element=\"e428ff7a-869a-4c0c-8ae2-ec5a55bcf6f8\")>,\n",
       " <selenium.webdriver.remote.webelement.WebElement (session=\"eaa2a68a2d48d7272e857a49d9ed9488\", element=\"0d868f18-b709-462e-b3fa-ecf2cea61e91\")>,\n",
       " <selenium.webdriver.remote.webelement.WebElement (session=\"eaa2a68a2d48d7272e857a49d9ed9488\", element=\"58ab772f-eabf-45fd-86ba-06752be9b3ae\")>,\n",
       " <selenium.webdriver.remote.webelement.WebElement (session=\"eaa2a68a2d48d7272e857a49d9ed9488\", element=\"dce6eb83-728a-441c-891a-14036e108551\")>]"
      ]
     },
     "execution_count": 131,
     "metadata": {},
     "output_type": "execute_result"
    }
   ],
   "source": [
    "\n",
    "job_title=driver.find_elements_by_xpath(\"//a[@class='jobLink css-1rd3saf eigr9kq2']\")\n",
    "job_title"
   ]
  },
  {
   "cell_type": "code",
   "execution_count": 132,
   "id": "23386a3f",
   "metadata": {},
   "outputs": [
    {
     "data": {
      "text/plain": [
       "['Associate Data Scientist',\n",
       " 'Data Scientist',\n",
       " 'Data Science Intern',\n",
       " 'Data Scientist',\n",
       " 'Data Science Training Head-Full Time',\n",
       " 'Data Scientist',\n",
       " 'Data Scientist',\n",
       " 'Data Science Consultant',\n",
       " 'Data Scientist',\n",
       " 'Data Scientist',\n",
       " 'Data Scientist Intern',\n",
       " 'Data Scientist',\n",
       " 'Data Scientist',\n",
       " 'Data Science Trainer',\n",
       " 'Data Scientist',\n",
       " 'Senior Data Scientist(NLP)',\n",
       " 'Data Science with AI,ML,DEEP Learning Trainer',\n",
       " 'Data Scientist',\n",
       " 'Data Scientist',\n",
       " 'Data Scientist',\n",
       " 'Data Scientist Team Leader',\n",
       " 'Data Scientist',\n",
       " 'Computer Vision Engineer',\n",
       " 'Data Scientist',\n",
       " 'Data Scientist',\n",
       " 'Data Analytics Consultant',\n",
       " 'Data Scientist',\n",
       " 'Data Scientist',\n",
       " 'Data Scientist',\n",
       " 'Data Scientist-AI and Digital Lab']"
      ]
     },
     "execution_count": 132,
     "metadata": {},
     "output_type": "execute_result"
    }
   ],
   "source": [
    "title=[]\n",
    "for i in job_title:\n",
    "    title.append(i.text)\n",
    "title    "
   ]
  },
  {
   "cell_type": "code",
   "execution_count": 133,
   "id": "acf2d3f6",
   "metadata": {},
   "outputs": [
    {
     "data": {
      "text/html": [
       "<div>\n",
       "<style scoped>\n",
       "    .dataframe tbody tr th:only-of-type {\n",
       "        vertical-align: middle;\n",
       "    }\n",
       "\n",
       "    .dataframe tbody tr th {\n",
       "        vertical-align: top;\n",
       "    }\n",
       "\n",
       "    .dataframe thead th {\n",
       "        text-align: right;\n",
       "    }\n",
       "</style>\n",
       "<table border=\"1\" class=\"dataframe\">\n",
       "  <thead>\n",
       "    <tr style=\"text-align: right;\">\n",
       "      <th></th>\n",
       "      <th>title</th>\n",
       "      <th>company</th>\n",
       "      <th>days_before</th>\n",
       "    </tr>\n",
       "  </thead>\n",
       "  <tbody>\n",
       "    <tr>\n",
       "      <th>0</th>\n",
       "      <td>Associate Data Scientist</td>\n",
       "      <td>Liberin Technologies Private Limited</td>\n",
       "      <td>30d+</td>\n",
       "    </tr>\n",
       "    <tr>\n",
       "      <th>1</th>\n",
       "      <td>Data Scientist</td>\n",
       "      <td>AlgoScale Technologies Private Limited</td>\n",
       "      <td>8d</td>\n",
       "    </tr>\n",
       "    <tr>\n",
       "      <th>2</th>\n",
       "      <td>Data Science Intern</td>\n",
       "      <td>Data Trained Education</td>\n",
       "      <td>28d</td>\n",
       "    </tr>\n",
       "    <tr>\n",
       "      <th>3</th>\n",
       "      <td>Data Scientist</td>\n",
       "      <td>Ishatva Management Solutions</td>\n",
       "      <td>4d</td>\n",
       "    </tr>\n",
       "    <tr>\n",
       "      <th>4</th>\n",
       "      <td>Data Science Training Head-Full Time</td>\n",
       "      <td>Emerging India Analytics</td>\n",
       "      <td>29d</td>\n",
       "    </tr>\n",
       "    <tr>\n",
       "      <th>5</th>\n",
       "      <td>Data Scientist</td>\n",
       "      <td>Saishaa Services</td>\n",
       "      <td>10d</td>\n",
       "    </tr>\n",
       "    <tr>\n",
       "      <th>6</th>\n",
       "      <td>Data Scientist</td>\n",
       "      <td>limeroad.com</td>\n",
       "      <td>8d</td>\n",
       "    </tr>\n",
       "    <tr>\n",
       "      <th>7</th>\n",
       "      <td>Data Science Consultant</td>\n",
       "      <td>Badatya Private Limited</td>\n",
       "      <td>6d</td>\n",
       "    </tr>\n",
       "    <tr>\n",
       "      <th>8</th>\n",
       "      <td>Data Scientist</td>\n",
       "      <td>Ericsson</td>\n",
       "      <td>1d</td>\n",
       "    </tr>\n",
       "    <tr>\n",
       "      <th>9</th>\n",
       "      <td>Data Scientist</td>\n",
       "      <td>Biz2Credit Inc</td>\n",
       "      <td>30d+</td>\n",
       "    </tr>\n",
       "  </tbody>\n",
       "</table>\n",
       "</div>"
      ],
      "text/plain": [
       "                                  title  \\\n",
       "0              Associate Data Scientist   \n",
       "1                        Data Scientist   \n",
       "2                   Data Science Intern   \n",
       "3                        Data Scientist   \n",
       "4  Data Science Training Head-Full Time   \n",
       "5                        Data Scientist   \n",
       "6                        Data Scientist   \n",
       "7               Data Science Consultant   \n",
       "8                        Data Scientist   \n",
       "9                        Data Scientist   \n",
       "\n",
       "                                  company days_before  \n",
       "0    Liberin Technologies Private Limited        30d+  \n",
       "1  AlgoScale Technologies Private Limited          8d  \n",
       "2                  Data Trained Education         28d  \n",
       "3            Ishatva Management Solutions          4d  \n",
       "4                Emerging India Analytics         29d  \n",
       "5                        Saishaa Services         10d  \n",
       "6                            limeroad.com          8d  \n",
       "7                 Badatya Private Limited          6d  \n",
       "8                                Ericsson          1d  \n",
       "9                          Biz2Credit Inc        30d+  "
      ]
     },
     "execution_count": 133,
     "metadata": {},
     "output_type": "execute_result"
    }
   ],
   "source": [
    "job=pd.DataFrame({})\n",
    "job['title']=title[0:10]\n",
    "job['company']=company[0:10]\n",
    "job['days_before']=days_before[0:10]\n",
    "job"
   ]
  },
  {
   "cell_type": "markdown",
   "id": "dcac73b4",
   "metadata": {},
   "source": [
    "# Q5: Write a python program to scrape the salary data for Data Scientist designation \n",
    "in Noida location.\n",
    "You have to scrape Company name, Number of salaries, Average salary, Min\n",
    "salary, Max Salary."
   ]
  },
  {
   "cell_type": "code",
   "execution_count": 15,
   "id": "67edadf6",
   "metadata": {},
   "outputs": [
    {
     "data": {
      "text/plain": [
       "<selenium.webdriver.chrome.webdriver.WebDriver (session=\"533cbec23ecc509b104187fbd54f35ee\")>"
      ]
     },
     "execution_count": 15,
     "metadata": {},
     "output_type": "execute_result"
    }
   ],
   "source": [
    "driver=webdriver.Chrome('Chromedriver.exe')\n",
    "driver"
   ]
  },
  {
   "cell_type": "code",
   "execution_count": 16,
   "id": "58ed7cdb",
   "metadata": {},
   "outputs": [],
   "source": [
    "url='https://www.glassdoor.co.in/member/home/index.htm'\n",
    "driver.get(url)"
   ]
  },
  {
   "cell_type": "code",
   "execution_count": 17,
   "id": "900213d5",
   "metadata": {},
   "outputs": [
    {
     "data": {
      "text/plain": [
       "<selenium.webdriver.remote.webelement.WebElement (session=\"533cbec23ecc509b104187fbd54f35ee\", element=\"e5af9a49-ce87-4f42-9abf-036a390e90c9\")>"
      ]
     },
     "execution_count": 17,
     "metadata": {},
     "output_type": "execute_result"
    }
   ],
   "source": [
    "search_job=driver.find_element_by_id(\"sc.keyword\")\n",
    "search_job"
   ]
  },
  {
   "cell_type": "code",
   "execution_count": 18,
   "id": "8643871f",
   "metadata": {},
   "outputs": [],
   "source": [
    "search_job.send_keys(\"Data Scientist\")"
   ]
  },
  {
   "cell_type": "code",
   "execution_count": 19,
   "id": "b6b28b8b",
   "metadata": {},
   "outputs": [
    {
     "data": {
      "text/plain": [
       "<selenium.webdriver.remote.webelement.WebElement (session=\"533cbec23ecc509b104187fbd54f35ee\", element=\"d6302062-eb32-4ff0-bf91-8a5241828ac6\")>"
      ]
     },
     "execution_count": 19,
     "metadata": {},
     "output_type": "execute_result"
    }
   ],
   "source": [
    "job_location=driver.find_element_by_id(\"sc.location\")\n",
    "job_location"
   ]
  },
  {
   "cell_type": "code",
   "execution_count": 20,
   "id": "b9dba6af",
   "metadata": {},
   "outputs": [],
   "source": [
    "job_location.send_keys(\"Noida\")"
   ]
  },
  {
   "cell_type": "code",
   "execution_count": 21,
   "id": "1d378db0",
   "metadata": {},
   "outputs": [],
   "source": [
    "search_bar=driver.find_element_by_xpath(\"//span[@class='css-8zxfjs']\")\n",
    "search_bar.click()"
   ]
  },
  {
   "cell_type": "code",
   "execution_count": 22,
   "id": "04588827",
   "metadata": {},
   "outputs": [
    {
     "data": {
      "text/plain": [
       "[<selenium.webdriver.remote.webelement.WebElement (session=\"533cbec23ecc509b104187fbd54f35ee\", element=\"c051ba24-612a-4cb3-be8c-5dc96300acdf\")>,\n",
       " <selenium.webdriver.remote.webelement.WebElement (session=\"533cbec23ecc509b104187fbd54f35ee\", element=\"81d2ccaa-ac8d-4da5-aa2c-28582b68e0ed\")>,\n",
       " <selenium.webdriver.remote.webelement.WebElement (session=\"533cbec23ecc509b104187fbd54f35ee\", element=\"9c2b20f2-71d7-4606-af2e-c0d3ff8d145a\")>,\n",
       " <selenium.webdriver.remote.webelement.WebElement (session=\"533cbec23ecc509b104187fbd54f35ee\", element=\"78ccbf9b-6d4f-41ca-aa10-dd26fb042bb8\")>,\n",
       " <selenium.webdriver.remote.webelement.WebElement (session=\"533cbec23ecc509b104187fbd54f35ee\", element=\"b8d0409f-5d50-4296-a3f9-5e4a3c7100ec\")>,\n",
       " <selenium.webdriver.remote.webelement.WebElement (session=\"533cbec23ecc509b104187fbd54f35ee\", element=\"8f79250b-ccf2-42db-8d15-1f7d8e0c81bf\")>,\n",
       " <selenium.webdriver.remote.webelement.WebElement (session=\"533cbec23ecc509b104187fbd54f35ee\", element=\"ea69a39c-ab12-4474-a7c3-c9abf0c9cf03\")>,\n",
       " <selenium.webdriver.remote.webelement.WebElement (session=\"533cbec23ecc509b104187fbd54f35ee\", element=\"f7d6fc88-3c96-4097-982e-0a7dace9308e\")>,\n",
       " <selenium.webdriver.remote.webelement.WebElement (session=\"533cbec23ecc509b104187fbd54f35ee\", element=\"d5b5e4b4-96e0-41d4-848a-1658db6ad8fc\")>,\n",
       " <selenium.webdriver.remote.webelement.WebElement (session=\"533cbec23ecc509b104187fbd54f35ee\", element=\"df252cda-2330-4e38-aba3-dec89f63d579\")>,\n",
       " <selenium.webdriver.remote.webelement.WebElement (session=\"533cbec23ecc509b104187fbd54f35ee\", element=\"017e230f-8be5-4dc1-83a6-6223a3fc63dc\")>,\n",
       " <selenium.webdriver.remote.webelement.WebElement (session=\"533cbec23ecc509b104187fbd54f35ee\", element=\"5a67105a-9e8c-494e-96e9-fb028381af7d\")>,\n",
       " <selenium.webdriver.remote.webelement.WebElement (session=\"533cbec23ecc509b104187fbd54f35ee\", element=\"404e21b4-fa67-4024-aa79-35f4912a9784\")>,\n",
       " <selenium.webdriver.remote.webelement.WebElement (session=\"533cbec23ecc509b104187fbd54f35ee\", element=\"57c942e1-147e-401c-8e0b-11bb447878e2\")>,\n",
       " <selenium.webdriver.remote.webelement.WebElement (session=\"533cbec23ecc509b104187fbd54f35ee\", element=\"d8379355-26a8-4b82-be63-0f7b0aab251d\")>,\n",
       " <selenium.webdriver.remote.webelement.WebElement (session=\"533cbec23ecc509b104187fbd54f35ee\", element=\"3636bd2e-a462-4688-9d60-5d76cbd3881e\")>,\n",
       " <selenium.webdriver.remote.webelement.WebElement (session=\"533cbec23ecc509b104187fbd54f35ee\", element=\"abe7e262-0724-4727-9508-d88f98e1c9c6\")>,\n",
       " <selenium.webdriver.remote.webelement.WebElement (session=\"533cbec23ecc509b104187fbd54f35ee\", element=\"a7624bcb-bd03-41a3-ad34-20b931c65c9f\")>,\n",
       " <selenium.webdriver.remote.webelement.WebElement (session=\"533cbec23ecc509b104187fbd54f35ee\", element=\"3555ac9e-4dee-4ad9-b11b-27d1404b923b\")>,\n",
       " <selenium.webdriver.remote.webelement.WebElement (session=\"533cbec23ecc509b104187fbd54f35ee\", element=\"d9865240-d318-4513-9211-07a2daba57f6\")>,\n",
       " <selenium.webdriver.remote.webelement.WebElement (session=\"533cbec23ecc509b104187fbd54f35ee\", element=\"1b94dd87-42ab-4581-97e5-d5b391075dc4\")>,\n",
       " <selenium.webdriver.remote.webelement.WebElement (session=\"533cbec23ecc509b104187fbd54f35ee\", element=\"6b26ae6b-8254-4b1a-9e3f-9163247d3c88\")>,\n",
       " <selenium.webdriver.remote.webelement.WebElement (session=\"533cbec23ecc509b104187fbd54f35ee\", element=\"9a00a86e-72af-4f5e-bfde-24d1ed253a70\")>,\n",
       " <selenium.webdriver.remote.webelement.WebElement (session=\"533cbec23ecc509b104187fbd54f35ee\", element=\"1a030876-0836-4265-a445-496b428c3ecd\")>,\n",
       " <selenium.webdriver.remote.webelement.WebElement (session=\"533cbec23ecc509b104187fbd54f35ee\", element=\"d24b43b7-033a-4d46-a501-837ec5665555\")>,\n",
       " <selenium.webdriver.remote.webelement.WebElement (session=\"533cbec23ecc509b104187fbd54f35ee\", element=\"21376f79-4cc1-41b9-abcc-4c518047fea6\")>,\n",
       " <selenium.webdriver.remote.webelement.WebElement (session=\"533cbec23ecc509b104187fbd54f35ee\", element=\"6e584dda-47fe-4631-af0e-b87215105062\")>,\n",
       " <selenium.webdriver.remote.webelement.WebElement (session=\"533cbec23ecc509b104187fbd54f35ee\", element=\"280cb064-1fc7-4a5f-8b3c-fd543a7d8365\")>,\n",
       " <selenium.webdriver.remote.webelement.WebElement (session=\"533cbec23ecc509b104187fbd54f35ee\", element=\"760ee46a-36c8-4be8-9dab-f8a13c8c6d39\")>,\n",
       " <selenium.webdriver.remote.webelement.WebElement (session=\"533cbec23ecc509b104187fbd54f35ee\", element=\"aca5762f-1745-4bde-81f5-94d77336397b\")>]"
      ]
     },
     "execution_count": 22,
     "metadata": {},
     "output_type": "execute_result"
    }
   ],
   "source": [
    "company_name=driver.find_elements_by_xpath(\"//div[@class='d-flex justify-content-between align-items-start']\")\n",
    "company_name"
   ]
  },
  {
   "cell_type": "code",
   "execution_count": 23,
   "id": "e71b76cf",
   "metadata": {},
   "outputs": [
    {
     "data": {
      "text/plain": [
       "['AlgoScale Technologies Private Limited',\n",
       " 'Liberin Technologies Private Limited',\n",
       " 'Ishatva Management Solutions',\n",
       " 'limeroad.com',\n",
       " 'Uncodemy',\n",
       " 'Saishaa Services',\n",
       " 'Emerging India Analytics',\n",
       " 'Ericsson',\n",
       " 'Techlive',\n",
       " 'Data Trained Education',\n",
       " 'Newgen Software',\n",
       " 'Biz2Credit Inc',\n",
       " 'Salasar New Age Technologies',\n",
       " 'SearchUrCollege',\n",
       " 'Salasar New Age Technologies',\n",
       " 'Badatya Private Limited',\n",
       " 'Gauge Data Solutions',\n",
       " 'Innovacer',\n",
       " 'IElevate Institute',\n",
       " 'WishFin',\n",
       " 'Airtel India',\n",
       " 'NEC Opportunities',\n",
       " 'Crowe',\n",
       " 'WinZO',\n",
       " 'ING',\n",
       " 'IBM',\n",
       " 'xtLytics',\n",
       " 'CRMNEXT',\n",
       " 'Wobot.ai',\n",
       " '2COMS Consulting Private Limited']"
      ]
     },
     "execution_count": 23,
     "metadata": {},
     "output_type": "execute_result"
    }
   ],
   "source": [
    "company=[]\n",
    "for i in company_name:\n",
    "    company.append(i.text)\n",
    "company    "
   ]
  },
  {
   "cell_type": "code",
   "execution_count": 25,
   "id": "f27905c5",
   "metadata": {},
   "outputs": [
    {
     "data": {
      "text/plain": [
       "['https://www.glassdoor.co.in/partner/jobListing.htm?pos=101&ao=1136043&s=58&guid=0000017baf93273bb068cabc6e045710&src=GD_JOB_AD&t=SR&vt=w&uido=B53778B51BF0CC5F60D9B299AF45959B&ea=1&cs=1_ef8ac894&cb=1630738262298&jobListingId=1007258785216&jrtk=2-0-1fenp6a1ru4lc801-1fenp6a2au1vi800-c33fbbcb496aaf48',\n",
       " 'https://www.glassdoor.co.in/partner/jobListing.htm?pos=102&ao=1136043&s=58&guid=0000017baf93273bb068cabc6e045710&src=GD_JOB_AD&t=SR&vt=w&uido=B53778B51BF0CC5F60D9B299AF45959B&ea=1&cs=1_14ed32fa&cb=1630738262299&jobListingId=1007200389479&jrtk=2-0-1fenp6a1ru4lc801-1fenp6a2au1vi800-97d4c65035600d81',\n",
       " 'https://www.glassdoor.co.in/partner/jobListing.htm?pos=103&ao=1136043&s=58&guid=0000017baf93273bb068cabc6e045710&src=GD_JOB_AD&t=SR&vt=w&uido=B53778B51BF0CC5F60D9B299AF45959B&ea=1&cs=1_92d8b4fc&cb=1630738262300&jobListingId=1007267967133&jrtk=2-0-1fenp6a1ru4lc801-1fenp6a2au1vi800-b3c352ca79ca6d73',\n",
       " 'https://www.glassdoor.co.in/partner/jobListing.htm?pos=104&ao=1136043&s=58&guid=0000017baf93273bb068cabc6e045710&src=GD_JOB_AD&t=SR&vt=w&uido=B53778B51BF0CC5F60D9B299AF45959B&ea=1&cs=1_a560b941&cb=1630738262301&jobListingId=1007258812550&jrtk=2-0-1fenp6a1ru4lc801-1fenp6a2au1vi800-223dcefd7d2a9c1c',\n",
       " 'https://www.glassdoor.co.in/partner/jobListing.htm?pos=105&ao=1136043&s=58&guid=0000017baf93273bb068cabc6e045710&src=GD_JOB_AD&t=SR&vt=w&uido=B53778B51BF0CC5F60D9B299AF45959B&ea=1&cs=1_aee1183f&cb=1630738262301&jobListingId=1007219665646&jrtk=2-0-1fenp6a1ru4lc801-1fenp6a2au1vi800-f48b990bb3cba778',\n",
       " 'https://www.glassdoor.co.in/partner/jobListing.htm?pos=106&ao=1136043&s=58&guid=0000017baf93273bb068cabc6e045710&src=GD_JOB_AD&t=SR&vt=w&uido=B53778B51BF0CC5F60D9B299AF45959B&ea=1&cs=1_2c88c2e7&cb=1630738262302&jobListingId=1007254252559&jrtk=2-0-1fenp6a1ru4lc801-1fenp6a2au1vi800-4a6ae5c940239506',\n",
       " 'https://www.glassdoor.co.in/partner/jobListing.htm?pos=107&ao=1136043&s=58&guid=0000017baf93273bb068cabc6e045710&src=GD_JOB_AD&t=SR&vt=w&uido=B53778B51BF0CC5F60D9B299AF45959B&ea=1&cs=1_5827a207&cb=1630738262305&jobListingId=1007219231719&jrtk=2-0-1fenp6a1ru4lc801-1fenp6a2au1vi800-97e5e173cec15330',\n",
       " 'https://www.glassdoor.co.in/partner/jobListing.htm?pos=108&ao=1136043&s=58&guid=0000017baf93273bb068cabc6e045710&src=GD_JOB_AD&t=SR&vt=w&uido=B53778B51BF0CC5F60D9B299AF45959B&cs=1_df063d32&cb=1630738262303&jobListingId=1007268651230&jrtk=2-0-1fenp6a1ru4lc801-1fenp6a2au1vi800-3d7b57a220630b68',\n",
       " 'https://www.glassdoor.co.in/partner/jobListing.htm?pos=109&ao=1136043&s=58&guid=0000017baf93273bb068cabc6e045710&src=GD_JOB_AD&t=SR&vt=w&uido=B53778B51BF0CC5F60D9B299AF45959B&cs=1_29b13123&cb=1630738262304&jobListingId=1006461286442&jrtk=2-0-1fenp6a1ru4lc801-1fenp6a2au1vi800-a1ea358f023a69b7',\n",
       " 'https://www.glassdoor.co.in/partner/jobListing.htm?pos=110&ao=1136043&s=58&guid=0000017baf93273bb068cabc6e045710&src=GD_JOB_AD&t=SR&vt=w&uido=B53778B51BF0CC5F60D9B299AF45959B&ea=1&cs=1_015bfbdd&cb=1630738262306&jobListingId=1007223625926&jrtk=2-0-1fenp6a1ru4lc801-1fenp6a2au1vi800-8f431e7a43bcc483',\n",
       " 'https://www.glassdoor.co.in/partner/jobListing.htm?pos=111&ao=1136043&s=58&guid=0000017baf93273bb068cabc6e045710&src=GD_JOB_AD&t=SR&vt=w&uido=B53778B51BF0CC5F60D9B299AF45959B&cs=1_cd31b646&cb=1630738262305&jobListingId=1007179647282&jrtk=2-0-1fenp6a1ru4lc801-1fenp6a2au1vi800-553f505b050aa33e',\n",
       " 'https://www.glassdoor.co.in/partner/jobListing.htm?pos=112&ao=1136043&s=58&guid=0000017baf93273bb068cabc6e045710&src=GD_JOB_AD&t=SR&vt=w&uido=B53778B51BF0CC5F60D9B299AF45959B&ea=1&cs=1_085d68a7&cb=1630738262308&jobListingId=1006687249100&jrtk=2-0-1fenp6a1ru4lc801-1fenp6a2au1vi800-94036c835379de77',\n",
       " 'https://www.glassdoor.co.in/partner/jobListing.htm?pos=113&ao=1136043&s=58&guid=0000017baf93273bb068cabc6e045710&src=GD_JOB_AD&t=SR&vt=w&uido=B53778B51BF0CC5F60D9B299AF45959B&cs=1_e36c9f94&cb=1630738262307&jobListingId=1006624054035&jrtk=2-0-1fenp6a1ru4lc801-1fenp6a2au1vi800-c47c5ae51c2ed2ee',\n",
       " 'https://www.glassdoor.co.in/partner/jobListing.htm?pos=114&ao=1136043&s=58&guid=0000017baf93273bb068cabc6e045710&src=GD_JOB_AD&t=SR&vt=w&uido=B53778B51BF0CC5F60D9B299AF45959B&cs=1_c05642f9&cb=1630738262308&jobListingId=1006500025617&jrtk=2-0-1fenp6a1ru4lc801-1fenp6a2au1vi800-221d6afa3757039d',\n",
       " 'https://www.glassdoor.co.in/partner/jobListing.htm?pos=115&ao=1136043&s=58&guid=0000017baf93273bb068cabc6e045710&src=GD_JOB_AD&t=SR&vt=w&uido=B53778B51BF0CC5F60D9B299AF45959B&cs=1_97ddf280&cb=1630738262308&jobListingId=1006624053994&jrtk=2-0-1fenp6a1ru4lc801-1fenp6a2au1vi800-a8cb856cd397a474',\n",
       " 'https://www.glassdoor.co.in/partner/jobListing.htm?pos=116&ao=1136043&s=58&guid=0000017baf93273bb068cabc6e045710&src=GD_JOB_AD&t=SR&vt=w&uido=B53778B51BF0CC5F60D9B299AF45959B&ea=1&cs=1_7adc6df8&cb=1630738262309&jobListingId=1007266328290&jrtk=2-0-1fenp6a1ru4lc801-1fenp6a2au1vi800-eae3ece86db0d172',\n",
       " 'https://www.glassdoor.co.in/partner/jobListing.htm?pos=117&ao=1136043&s=58&guid=0000017baf93273bb068cabc6e045710&src=GD_JOB_AD&t=SR&vt=w&uido=B53778B51BF0CC5F60D9B299AF45959B&cs=1_0838f4fb&cb=1630738262309&jobListingId=1005747978877&jrtk=2-0-1fenp6a1ru4lc801-1fenp6a2au1vi800-ba10541f71685273',\n",
       " 'https://www.glassdoor.co.in/partner/jobListing.htm?pos=118&ao=1136043&s=58&guid=0000017baf93273bb068cabc6e045710&src=GD_JOB_AD&t=SR&vt=w&uido=B53778B51BF0CC5F60D9B299AF45959B&cs=1_c53cabe0&cb=1630738262309&jobListingId=1007145889803&jrtk=2-0-1fenp6a1ru4lc801-1fenp6a2au1vi800-87c7d9bf80c83e46',\n",
       " 'https://www.glassdoor.co.in/partner/jobListing.htm?pos=119&ao=1136043&s=58&guid=0000017baf93273bb068cabc6e045710&src=GD_JOB_AD&t=SR&vt=w&uido=B53778B51BF0CC5F60D9B299AF45959B&ea=1&cs=1_b6efbef1&cb=1630738262310&jobListingId=1007271442825&jrtk=2-0-1fenp6a1ru4lc801-1fenp6a2au1vi800-64452eeceac8d8e3',\n",
       " 'https://www.glassdoor.co.in/partner/jobListing.htm?pos=120&ao=1136043&s=58&guid=0000017baf93273bb068cabc6e045710&src=GD_JOB_AD&t=SR&vt=w&uido=B53778B51BF0CC5F60D9B299AF45959B&cs=1_0e707cee&cb=1630738262310&jobListingId=1006867507716&jrtk=2-0-1fenp6a1ru4lc801-1fenp6a2au1vi800-83f3ba54497948c9',\n",
       " 'https://www.glassdoor.co.in/partner/jobListing.htm?pos=121&ao=1136043&s=58&guid=0000017baf93273bb068cabc6e045710&src=GD_JOB_AD&t=SR&vt=w&uido=B53778B51BF0CC5F60D9B299AF45959B&cs=1_5de47315&cb=1630738262310&jobListingId=1007248250199&jrtk=2-0-1fenp6a1ru4lc801-1fenp6a2au1vi800-86be4fb99f638f8b',\n",
       " 'https://www.glassdoor.co.in/partner/jobListing.htm?pos=122&ao=1136043&s=58&guid=0000017baf93273bb068cabc6e045710&src=GD_JOB_AD&t=SR&vt=w&uido=B53778B51BF0CC5F60D9B299AF45959B&cs=1_422f0338&cb=1630738262311&jobListingId=1007245257958&jrtk=2-0-1fenp6a1ru4lc801-1fenp6a2au1vi800-d0893868ee842eed',\n",
       " 'https://www.glassdoor.co.in/partner/jobListing.htm?pos=123&ao=1136043&s=58&guid=0000017baf93273bb068cabc6e045710&src=GD_JOB_AD&t=SR&vt=w&uido=B53778B51BF0CC5F60D9B299AF45959B&cs=1_ce9b9730&cb=1630738262311&jobListingId=1007095133299&jrtk=2-0-1fenp6a1ru4lc801-1fenp6a2au1vi800-84db922a59ad7885',\n",
       " 'https://www.glassdoor.co.in/partner/jobListing.htm?pos=124&ao=1136043&s=58&guid=0000017baf93273bb068cabc6e045710&src=GD_JOB_AD&t=SR&vt=w&uido=B53778B51BF0CC5F60D9B299AF45959B&ea=1&cs=1_3a56e8f9&cb=1630738262312&jobListingId=1007168380227&jrtk=2-0-1fenp6a1ru4lc801-1fenp6a2au1vi800-6e0bab17db054a30',\n",
       " 'https://www.glassdoor.co.in/partner/jobListing.htm?pos=125&ao=1136043&s=58&guid=0000017baf93273bb068cabc6e045710&src=GD_JOB_AD&t=SR&vt=w&uido=B53778B51BF0CC5F60D9B299AF45959B&cs=1_3439e57f&cb=1630738262311&jobListingId=1007279789126&jrtk=2-0-1fenp6a1ru4lc801-1fenp6a2au1vi800-696539a2bd423b28',\n",
       " 'https://www.glassdoor.co.in/partner/jobListing.htm?pos=126&ao=1136043&s=58&guid=0000017baf93273bb068cabc6e045710&src=GD_JOB_AD&t=SR&vt=w&uido=B53778B51BF0CC5F60D9B299AF45959B&cs=1_f34084df&cb=1630738262312&jobListingId=1007250616593&jrtk=2-0-1fenp6a1ru4lc801-1fenp6a2au1vi800-90c19cac2de1cb18',\n",
       " 'https://www.glassdoor.co.in/partner/jobListing.htm?pos=127&ao=1136043&s=58&guid=0000017baf93273bb068cabc6e045710&src=GD_JOB_AD&t=SR&vt=w&uido=B53778B51BF0CC5F60D9B299AF45959B&cs=1_f5d763d4&cb=1630738262312&jobListingId=1006729351157&jrtk=2-0-1fenp6a1ru4lc801-1fenp6a2au1vi800-1e445c06f2f3d94b',\n",
       " 'https://www.glassdoor.co.in/partner/jobListing.htm?pos=128&ao=1136043&s=58&guid=0000017baf93273bb068cabc6e045710&src=GD_JOB_AD&t=SR&vt=w&uido=B53778B51BF0CC5F60D9B299AF45959B&cs=1_bf31aed6&cb=1630738262312&jobListingId=1007230855102&jrtk=2-0-1fenp6a1ru4lc801-1fenp6a2au1vi800-409b6a371f63d0fe',\n",
       " 'https://www.glassdoor.co.in/partner/jobListing.htm?pos=129&ao=1136043&s=58&guid=0000017baf93273bb068cabc6e045710&src=GD_JOB_AD&t=SR&vt=w&uido=B53778B51BF0CC5F60D9B299AF45959B&ea=1&cs=1_bf80a16f&cb=1630738262313&jobListingId=1007264509157&jrtk=2-0-1fenp6a1ru4lc801-1fenp6a2au1vi800-08e3ad06cc0a3b6a',\n",
       " 'https://www.glassdoor.co.in/partner/jobListing.htm?pos=130&ao=1110586&s=58&guid=0000017baf93273bb068cabc6e045710&src=GD_JOB_AD&t=SR&vt=w&uido=B53778B51BF0CC5F60D9B299AF45959B&cs=1_d23be308&cb=1630738262313&jobListingId=1007280874387&cpc=8795CF9063CD573D&jrtk=2-0-1fenp6a1ru4lc801-1fenp6a2au1vi800-de93ac7ce8461886&jvt=aHR0cHM6Ly9pbi5pbmRlZWQuY29tL3JjL2dkL3BuZz9hPVRDT2ZZenZPaVdjMTFuQ3dKRDZlWUh3RlZEYUJyUWlpeldIM2VBR1ZHTUVreVM3TXRDNlBtVnJIUHlqOUVRU1BIMFhCSjVfNXNxMU5sV3ZLT2pRTHFIZU5KTHpPLUhLeEFRSERmeE5CdHNUbDZFZXhjZ0JRWXpvX3V6MHJ3SE1RZ0R1XzhFeFg5VFNheWRGejlNdGV5Q3p5TzdFcTZEWFE1Vnp5ZlJIZmpPS0NqVVRtSmpVNGtYaHRuNXlMUkEzU201UURjQ29FellCekR0ZDVRckg3WjRmckR3dF9CRm1GUmNOTjNWUF91UFd1RnVHT1B6aWZxVzdKVnlIUWpaNFYxU2c5UHJ1dnRtMEY1YUx4eWZ6UGVQSFlhTEFFMnh2OEpKVVk4YVBQNExkZDRQUU1GeWlHV3VVMHNZNUhkbXI5dzQyVHNRQXVhT2UwNVhvVnRnVjU2SHlkQ1NPUm9LMnd3SjAwbFQzbnpDWS1icDltQkJLRFo1WTFTb0pUQTFsUzJRN3JfX1RPNzFDVG43R1MzS2lsYlA5VXVueTNSS1Y4T1BfMW1LR1FXVlRadS1WY1I4emt2dE9ISlNDZDBwTDBqcTRWVWx6NnlydjBFM3VyeTNJcS1nXzlETmZUOU1jSVdjdE9NUEs4TUxYTm1jNE9WcVBINDFIenNCVk9xYkRuU3hoakpNTDFkTDgzdTdxY0kyLU1MaWpHV1kyMk9zaDhOZWpvaFFzTGdfdkgyNHA4aXlYZFhaa3h2NlV0d0ZyUnlxSU4tM0dlMmQ2V1NNUkNsUVhZMFZGajRoaEpYMkgweVBINTZ1eWxFMVpvZTg1b2NHN0ZsSUhTdk9ydm43c3piZEx5R1ByZUdPd2MzNVRJM3g5WmFjVWFtcmhVc19acXpVaGhfMEVSaXdGYnlaVFVSY3RfX3lzbm1PTVA0Zk03Z0czVmVjR1B4U2dLQmU2X1k0WUVkWko2Zzdzal8teDRSRkNOcTJvQmxFZndsNjRMMnR2bjdVeDk2Zy1yellxY05PQ2swTjN1RDYzWExpOUZTVHFPOE5NMFBuQlYwTEVEZ3NXMi1wWlRtT2RsRkJqUHZocWR6Q01vSG5mMVRRci1fa25vZ1FqVkVqSkJuQUZSb3dEbllnRU9tbjJJVEY0WEpFV1JsTzlLeGhKQjI5V3h0ZHExR2sxWmVyTlpqaG5TV3dDRkxTVVh6NnVHSllkS0hIRFNIdklQTmx5NnQwTVdZbEtndTJUckhJTFY4SlZ4SU1NOU1vYmtFMnFkOTJocGFxT05JbFNSV3JWR25rLS1pMk01NjBjbkFPVkcyelY4alhsM2g0RDBIX0t0TEUtb2E1UHh6djA2Wm1fZDVtc0lhdkJzNUlnNFV2aw']"
      ]
     },
     "execution_count": 25,
     "metadata": {},
     "output_type": "execute_result"
    }
   ],
   "source": [
    "URL =[]\n",
    "for i in driver.find_elements_by_xpath(\"//a[@class = 'jobLink css-1rd3saf eigr9kq2']\"):\n",
    "    URL.append(i.get_attribute('href'))\n",
    "URL"
   ]
  },
  {
   "cell_type": "code",
   "execution_count": 30,
   "id": "1f37f702",
   "metadata": {},
   "outputs": [
    {
     "data": {
      "text/plain": [
       "[]"
      ]
     },
     "execution_count": 30,
     "metadata": {},
     "output_type": "execute_result"
    }
   ],
   "source": [
    "avg_sal = []\n",
    "\n",
    "for avg in URL: \n",
    "\n",
    "    driver.get(avg)\n",
    "\n",
    "    avg = driver.find_elements_by_xpath((\"//div[@class='css-1bluz6i e2u4hf13']\"))\n",
    "\n",
    "    for i in avg:\n",
    "\n",
    "        avg_sal.append(i.get_attribute(\"href\"))\n",
    "\n",
    "avg_sal"
   ]
  },
  {
   "cell_type": "code",
   "execution_count": null,
   "id": "a09ffd16",
   "metadata": {},
   "outputs": [],
   "source": []
  },
  {
   "cell_type": "code",
   "execution_count": null,
   "id": "3e2f0979",
   "metadata": {},
   "outputs": [],
   "source": []
  },
  {
   "cell_type": "code",
   "execution_count": 41,
   "id": "99d1f3a2",
   "metadata": {},
   "outputs": [
    {
     "data": {
      "text/plain": [
       "[<selenium.webdriver.remote.webelement.WebElement (session=\"fc744008f49db860b21b36eec9fdc3ea\", element=\"3ecac77c-24c3-4742-b7bf-e985edb9d155\")>,\n",
       " <selenium.webdriver.remote.webelement.WebElement (session=\"fc744008f49db860b21b36eec9fdc3ea\", element=\"b7172b13-1616-42e8-b910-3b795acf4c8f\")>]"
      ]
     },
     "execution_count": 41,
     "metadata": {},
     "output_type": "execute_result"
    }
   ],
   "source": [
    "Ave_sal=driver.find_elements_by_xpath(\"//div[@class='css-1bluz6i e2u4hf13']\")\n",
    "min_sal"
   ]
  },
  {
   "cell_type": "code",
   "execution_count": 42,
   "id": "69d2718d",
   "metadata": {},
   "outputs": [
    {
     "data": {
      "text/plain": [
       "['₹5,10,000 /mo (est.)']"
      ]
     },
     "execution_count": 42,
     "metadata": {},
     "output_type": "execute_result"
    }
   ],
   "source": [
    "Ave_salary=[]\n",
    "for i in Ave_sal:\n",
    "    Ave_salary.append(i.text)\n",
    "Ave_salary    "
   ]
  },
  {
   "cell_type": "markdown",
   "id": "fdd16265",
   "metadata": {},
   "source": [
    "# Q6 : Scrape data of first 100 sunglasses listings on flipkart.com. You have to \n",
    "scrape four attributes:\n",
    "1. Brand\n",
    "2. Product Description\n",
    "3. Price\n",
    "4. Discount %"
   ]
  },
  {
   "cell_type": "code",
   "execution_count": 7,
   "id": "62eda907",
   "metadata": {},
   "outputs": [],
   "source": [
    "url='https://www.flipkart.com/'"
   ]
  },
  {
   "cell_type": "code",
   "execution_count": 8,
   "id": "08b31d83",
   "metadata": {},
   "outputs": [],
   "source": [
    "driver.get(url)"
   ]
  },
  {
   "cell_type": "code",
   "execution_count": 9,
   "id": "dc5ebd88",
   "metadata": {},
   "outputs": [],
   "source": [
    "search_product=driver.find_element_by_xpath(\"//input[@class='_3704LK']\")"
   ]
  },
  {
   "cell_type": "code",
   "execution_count": 11,
   "id": "bf5057be",
   "metadata": {},
   "outputs": [],
   "source": [
    "search_product.send_keys(\"sunglass\")"
   ]
  },
  {
   "cell_type": "code",
   "execution_count": 13,
   "id": "2c21cf3c",
   "metadata": {},
   "outputs": [
    {
     "data": {
      "text/plain": [
       "[<selenium.webdriver.remote.webelement.WebElement (session=\"1301ee6f166db9aa1e4384aac2626e16\", element=\"e8b9896a-9eff-47f5-bea8-cf01a2f7a26f\")>,\n",
       " <selenium.webdriver.remote.webelement.WebElement (session=\"1301ee6f166db9aa1e4384aac2626e16\", element=\"499d31ce-4764-4497-94cf-43117df33b10\")>,\n",
       " <selenium.webdriver.remote.webelement.WebElement (session=\"1301ee6f166db9aa1e4384aac2626e16\", element=\"3f82509d-55ab-4f36-8897-2b9d67d7c34c\")>,\n",
       " <selenium.webdriver.remote.webelement.WebElement (session=\"1301ee6f166db9aa1e4384aac2626e16\", element=\"313ec547-380a-4e75-b2f3-2ff1e6a23ed8\")>,\n",
       " <selenium.webdriver.remote.webelement.WebElement (session=\"1301ee6f166db9aa1e4384aac2626e16\", element=\"010fcde0-ec41-4fc6-9d83-2410a54fcffd\")>,\n",
       " <selenium.webdriver.remote.webelement.WebElement (session=\"1301ee6f166db9aa1e4384aac2626e16\", element=\"d47f12c5-ab30-41b2-805f-daaf90511ff6\")>,\n",
       " <selenium.webdriver.remote.webelement.WebElement (session=\"1301ee6f166db9aa1e4384aac2626e16\", element=\"2c6113bf-aad3-4a8f-b7d6-3eb409d34af1\")>,\n",
       " <selenium.webdriver.remote.webelement.WebElement (session=\"1301ee6f166db9aa1e4384aac2626e16\", element=\"18377af3-1020-4d9f-ab0b-1e48ab573400\")>,\n",
       " <selenium.webdriver.remote.webelement.WebElement (session=\"1301ee6f166db9aa1e4384aac2626e16\", element=\"f1282000-3e02-412a-b390-4948146dd629\")>,\n",
       " <selenium.webdriver.remote.webelement.WebElement (session=\"1301ee6f166db9aa1e4384aac2626e16\", element=\"997d4d38-707c-45c9-8d69-57b26334cc68\")>,\n",
       " <selenium.webdriver.remote.webelement.WebElement (session=\"1301ee6f166db9aa1e4384aac2626e16\", element=\"b4dfacfa-6689-4820-9e63-6f57b10fd2e5\")>,\n",
       " <selenium.webdriver.remote.webelement.WebElement (session=\"1301ee6f166db9aa1e4384aac2626e16\", element=\"f1caee1f-de6e-44ce-910e-737e6b42a067\")>,\n",
       " <selenium.webdriver.remote.webelement.WebElement (session=\"1301ee6f166db9aa1e4384aac2626e16\", element=\"db3d038a-7863-4354-9108-e7e9f4c6c640\")>,\n",
       " <selenium.webdriver.remote.webelement.WebElement (session=\"1301ee6f166db9aa1e4384aac2626e16\", element=\"8db1143d-6afc-405d-832b-686753c5270c\")>,\n",
       " <selenium.webdriver.remote.webelement.WebElement (session=\"1301ee6f166db9aa1e4384aac2626e16\", element=\"570c17dc-a3f3-4551-9fd3-140ed9e7ef86\")>,\n",
       " <selenium.webdriver.remote.webelement.WebElement (session=\"1301ee6f166db9aa1e4384aac2626e16\", element=\"a2cc9e84-44a6-483c-a3c7-dc1091e59127\")>,\n",
       " <selenium.webdriver.remote.webelement.WebElement (session=\"1301ee6f166db9aa1e4384aac2626e16\", element=\"d6e6964e-e7bb-4f16-bab5-f357a381a587\")>,\n",
       " <selenium.webdriver.remote.webelement.WebElement (session=\"1301ee6f166db9aa1e4384aac2626e16\", element=\"78e7ca7c-3918-4f2c-a83c-688f66db3416\")>,\n",
       " <selenium.webdriver.remote.webelement.WebElement (session=\"1301ee6f166db9aa1e4384aac2626e16\", element=\"56356ea3-5b11-4fa2-ac77-591b57f0d8d9\")>,\n",
       " <selenium.webdriver.remote.webelement.WebElement (session=\"1301ee6f166db9aa1e4384aac2626e16\", element=\"cc64eaf7-df01-4148-b437-0e5d6e81bdaf\")>,\n",
       " <selenium.webdriver.remote.webelement.WebElement (session=\"1301ee6f166db9aa1e4384aac2626e16\", element=\"1343e42c-9f26-4f0e-acac-fcab4913904b\")>,\n",
       " <selenium.webdriver.remote.webelement.WebElement (session=\"1301ee6f166db9aa1e4384aac2626e16\", element=\"10cdaa89-8074-4d98-a412-d1f3347f0be1\")>,\n",
       " <selenium.webdriver.remote.webelement.WebElement (session=\"1301ee6f166db9aa1e4384aac2626e16\", element=\"4465083e-06f3-44ae-b69c-162bf23e2ba4\")>,\n",
       " <selenium.webdriver.remote.webelement.WebElement (session=\"1301ee6f166db9aa1e4384aac2626e16\", element=\"87777059-b819-41c1-b1e5-cc82dd4f9faa\")>,\n",
       " <selenium.webdriver.remote.webelement.WebElement (session=\"1301ee6f166db9aa1e4384aac2626e16\", element=\"c355305d-3407-4d97-b357-29aede69414e\")>,\n",
       " <selenium.webdriver.remote.webelement.WebElement (session=\"1301ee6f166db9aa1e4384aac2626e16\", element=\"a375b105-1b29-4b0e-8065-283ed3637947\")>,\n",
       " <selenium.webdriver.remote.webelement.WebElement (session=\"1301ee6f166db9aa1e4384aac2626e16\", element=\"6c1d47bb-cef1-4662-9d32-23cb2c119761\")>,\n",
       " <selenium.webdriver.remote.webelement.WebElement (session=\"1301ee6f166db9aa1e4384aac2626e16\", element=\"4331c799-f63c-4f63-82bb-cda30f082baf\")>,\n",
       " <selenium.webdriver.remote.webelement.WebElement (session=\"1301ee6f166db9aa1e4384aac2626e16\", element=\"13bc065f-59be-4ae3-990a-6c63f25a1d1f\")>,\n",
       " <selenium.webdriver.remote.webelement.WebElement (session=\"1301ee6f166db9aa1e4384aac2626e16\", element=\"6d9b70cd-e4ba-4b99-b033-7a0520866f92\")>,\n",
       " <selenium.webdriver.remote.webelement.WebElement (session=\"1301ee6f166db9aa1e4384aac2626e16\", element=\"6e3e8e05-c6f5-4099-b27b-9e425f7763d3\")>,\n",
       " <selenium.webdriver.remote.webelement.WebElement (session=\"1301ee6f166db9aa1e4384aac2626e16\", element=\"79a7cf05-b2df-4e08-acdb-6d68a2afdfb4\")>,\n",
       " <selenium.webdriver.remote.webelement.WebElement (session=\"1301ee6f166db9aa1e4384aac2626e16\", element=\"a2a67e23-f683-4987-b168-5b5e194ce6f0\")>,\n",
       " <selenium.webdriver.remote.webelement.WebElement (session=\"1301ee6f166db9aa1e4384aac2626e16\", element=\"2aca77ff-894c-4e70-bbbb-2f5ce716b0a5\")>,\n",
       " <selenium.webdriver.remote.webelement.WebElement (session=\"1301ee6f166db9aa1e4384aac2626e16\", element=\"f44f2bb0-b05c-4af0-b05c-543958d665b1\")>,\n",
       " <selenium.webdriver.remote.webelement.WebElement (session=\"1301ee6f166db9aa1e4384aac2626e16\", element=\"bf1ea4f3-80a2-4def-b6db-1ae32d98176e\")>,\n",
       " <selenium.webdriver.remote.webelement.WebElement (session=\"1301ee6f166db9aa1e4384aac2626e16\", element=\"aee19d73-5515-4ec0-81ca-cfe19fcf967d\")>,\n",
       " <selenium.webdriver.remote.webelement.WebElement (session=\"1301ee6f166db9aa1e4384aac2626e16\", element=\"8ac7baea-ca36-4f69-bc45-dc3ba1bfba3c\")>,\n",
       " <selenium.webdriver.remote.webelement.WebElement (session=\"1301ee6f166db9aa1e4384aac2626e16\", element=\"28844ca9-745b-4301-afba-def4cb66a032\")>,\n",
       " <selenium.webdriver.remote.webelement.WebElement (session=\"1301ee6f166db9aa1e4384aac2626e16\", element=\"57fefd46-d499-4800-a3ca-54b038149e69\")>]"
      ]
     },
     "execution_count": 13,
     "metadata": {},
     "output_type": "execute_result"
    }
   ],
   "source": [
    "brand=driver.find_elements_by_xpath(\"//div[@class='_2WkVRV']\")\n",
    "brand"
   ]
  },
  {
   "cell_type": "code",
   "execution_count": 16,
   "id": "e8fc01c7",
   "metadata": {},
   "outputs": [
    {
     "data": {
      "text/plain": [
       "['Singco India',\n",
       " 'AISLIN',\n",
       " 'Elligator',\n",
       " 'PIRASO',\n",
       " 'Fastrack',\n",
       " 'SHAAH COLLECTIONS',\n",
       " 'kingsunglasses',\n",
       " 'AISLIN',\n",
       " 'ROZZETTA CRAFT',\n",
       " 'PHENOMENAL',\n",
       " 'Silver Kartz',\n",
       " 'AISLIN',\n",
       " 'hipe',\n",
       " 'DEIXELS',\n",
       " 'Singco India',\n",
       " 'AISLIN',\n",
       " 'Rich Club',\n",
       " 'HIPPON',\n",
       " 'GANSTA',\n",
       " 'AISLIN',\n",
       " 'SUNBEE',\n",
       " 'NuVew',\n",
       " 'AISLIN',\n",
       " 'NuVew',\n",
       " 'ROYAL SON',\n",
       " 'Singco',\n",
       " 'Cruze',\n",
       " 'AISLIN',\n",
       " 'SRPM',\n",
       " 'IRUS by IDEE',\n",
       " 'Badfella',\n",
       " 'AISLIN',\n",
       " 'elegante',\n",
       " 'PETER JONES',\n",
       " 'Fastrack',\n",
       " 'AISLIN',\n",
       " 'PIRASO',\n",
       " 'ROZZETTA CRAFT',\n",
       " 'SHAAH COLLECTIONS',\n",
       " 'AISLIN']"
      ]
     },
     "execution_count": 16,
     "metadata": {},
     "output_type": "execute_result"
    }
   ],
   "source": [
    "brand_name=[]\n",
    "for i in brand:\n",
    "    brand_name.append(i.text)\n",
    "brand_name"
   ]
  },
  {
   "cell_type": "code",
   "execution_count": 17,
   "id": "8a56a166",
   "metadata": {},
   "outputs": [
    {
     "data": {
      "text/plain": [
       "[<selenium.webdriver.remote.webelement.WebElement (session=\"1301ee6f166db9aa1e4384aac2626e16\", element=\"0857ae9b-c7cf-4b27-a18e-d501a3ec5c73\")>,\n",
       " <selenium.webdriver.remote.webelement.WebElement (session=\"1301ee6f166db9aa1e4384aac2626e16\", element=\"3e838336-4a0e-40e1-9026-d5a2bf5a4924\")>,\n",
       " <selenium.webdriver.remote.webelement.WebElement (session=\"1301ee6f166db9aa1e4384aac2626e16\", element=\"2d69d425-0d64-4772-9e59-0669a095e562\")>,\n",
       " <selenium.webdriver.remote.webelement.WebElement (session=\"1301ee6f166db9aa1e4384aac2626e16\", element=\"115a6eae-62d7-46c6-8322-e3472c39f623\")>,\n",
       " <selenium.webdriver.remote.webelement.WebElement (session=\"1301ee6f166db9aa1e4384aac2626e16\", element=\"c8eb2f90-cefc-42e2-9b83-2ab4dc1aa5b5\")>,\n",
       " <selenium.webdriver.remote.webelement.WebElement (session=\"1301ee6f166db9aa1e4384aac2626e16\", element=\"0634146e-c7cb-41a4-b92f-da6b170c68b1\")>,\n",
       " <selenium.webdriver.remote.webelement.WebElement (session=\"1301ee6f166db9aa1e4384aac2626e16\", element=\"b384ab85-207c-4978-817b-d93cd66e9b2f\")>,\n",
       " <selenium.webdriver.remote.webelement.WebElement (session=\"1301ee6f166db9aa1e4384aac2626e16\", element=\"54b08658-1c46-4adc-a586-06c34e679d46\")>,\n",
       " <selenium.webdriver.remote.webelement.WebElement (session=\"1301ee6f166db9aa1e4384aac2626e16\", element=\"ade55646-3dd9-4034-9a58-fba2d8d0c244\")>,\n",
       " <selenium.webdriver.remote.webelement.WebElement (session=\"1301ee6f166db9aa1e4384aac2626e16\", element=\"0b9a0159-8dfc-4227-95ee-60e2f25ae301\")>,\n",
       " <selenium.webdriver.remote.webelement.WebElement (session=\"1301ee6f166db9aa1e4384aac2626e16\", element=\"a3ca2b59-2f17-45cc-91ee-ffd1f177999a\")>,\n",
       " <selenium.webdriver.remote.webelement.WebElement (session=\"1301ee6f166db9aa1e4384aac2626e16\", element=\"fb1e0ad0-aaab-4c36-84c8-67fc183a12de\")>,\n",
       " <selenium.webdriver.remote.webelement.WebElement (session=\"1301ee6f166db9aa1e4384aac2626e16\", element=\"16bc272b-5b89-4671-92c6-a0d822980252\")>,\n",
       " <selenium.webdriver.remote.webelement.WebElement (session=\"1301ee6f166db9aa1e4384aac2626e16\", element=\"44a07bc3-8d3b-4f8f-bb63-c0304b523f05\")>,\n",
       " <selenium.webdriver.remote.webelement.WebElement (session=\"1301ee6f166db9aa1e4384aac2626e16\", element=\"f3601861-b5ea-4c58-932e-b33221281bcc\")>,\n",
       " <selenium.webdriver.remote.webelement.WebElement (session=\"1301ee6f166db9aa1e4384aac2626e16\", element=\"9af65f85-83e9-4a62-819e-e40653e0c17a\")>,\n",
       " <selenium.webdriver.remote.webelement.WebElement (session=\"1301ee6f166db9aa1e4384aac2626e16\", element=\"fd7317fa-b961-4bce-92d1-d8bcc96e2f07\")>,\n",
       " <selenium.webdriver.remote.webelement.WebElement (session=\"1301ee6f166db9aa1e4384aac2626e16\", element=\"820d2d83-6a5d-4ca3-96b4-abf01c305e32\")>,\n",
       " <selenium.webdriver.remote.webelement.WebElement (session=\"1301ee6f166db9aa1e4384aac2626e16\", element=\"3a89145e-f251-411b-ab1f-4da0385f538a\")>,\n",
       " <selenium.webdriver.remote.webelement.WebElement (session=\"1301ee6f166db9aa1e4384aac2626e16\", element=\"d0b9c684-185f-4cf4-8f8e-0974d59ac511\")>,\n",
       " <selenium.webdriver.remote.webelement.WebElement (session=\"1301ee6f166db9aa1e4384aac2626e16\", element=\"3d779bb5-219c-4999-8c3a-5cf399b2302c\")>,\n",
       " <selenium.webdriver.remote.webelement.WebElement (session=\"1301ee6f166db9aa1e4384aac2626e16\", element=\"1c836f9b-df53-4bd9-b280-0b83992c8f92\")>,\n",
       " <selenium.webdriver.remote.webelement.WebElement (session=\"1301ee6f166db9aa1e4384aac2626e16\", element=\"eb239f40-38c8-426c-9988-ab0c39fd04ac\")>,\n",
       " <selenium.webdriver.remote.webelement.WebElement (session=\"1301ee6f166db9aa1e4384aac2626e16\", element=\"4cf35460-e077-48fa-888f-ea1a5f37610b\")>,\n",
       " <selenium.webdriver.remote.webelement.WebElement (session=\"1301ee6f166db9aa1e4384aac2626e16\", element=\"9ce233d1-3bd9-419f-b5ec-7680faded0be\")>,\n",
       " <selenium.webdriver.remote.webelement.WebElement (session=\"1301ee6f166db9aa1e4384aac2626e16\", element=\"1ee2b437-18c5-4977-bbdf-eb3b4b0d4fff\")>,\n",
       " <selenium.webdriver.remote.webelement.WebElement (session=\"1301ee6f166db9aa1e4384aac2626e16\", element=\"da2bbfc6-15f0-4099-856d-e82d8c0db535\")>,\n",
       " <selenium.webdriver.remote.webelement.WebElement (session=\"1301ee6f166db9aa1e4384aac2626e16\", element=\"f7686983-a188-4cbd-81ff-75dd85ddb3a2\")>,\n",
       " <selenium.webdriver.remote.webelement.WebElement (session=\"1301ee6f166db9aa1e4384aac2626e16\", element=\"6360643f-ad70-4fe7-96a7-c6abb2f3f4df\")>,\n",
       " <selenium.webdriver.remote.webelement.WebElement (session=\"1301ee6f166db9aa1e4384aac2626e16\", element=\"4259cfc9-08a4-49fd-9db8-c10f633d5444\")>,\n",
       " <selenium.webdriver.remote.webelement.WebElement (session=\"1301ee6f166db9aa1e4384aac2626e16\", element=\"54c0afc7-6a05-4336-97ca-b53f6a5128d6\")>,\n",
       " <selenium.webdriver.remote.webelement.WebElement (session=\"1301ee6f166db9aa1e4384aac2626e16\", element=\"198dd0d6-0243-46aa-baf0-00517e6d7a88\")>,\n",
       " <selenium.webdriver.remote.webelement.WebElement (session=\"1301ee6f166db9aa1e4384aac2626e16\", element=\"0cc87b31-70b8-4a2f-9029-16be438a81f3\")>,\n",
       " <selenium.webdriver.remote.webelement.WebElement (session=\"1301ee6f166db9aa1e4384aac2626e16\", element=\"86830941-b549-4ea4-83f4-2cdf9aab549f\")>,\n",
       " <selenium.webdriver.remote.webelement.WebElement (session=\"1301ee6f166db9aa1e4384aac2626e16\", element=\"d4d8d415-cdae-41f7-ac11-82bb2cf746e8\")>,\n",
       " <selenium.webdriver.remote.webelement.WebElement (session=\"1301ee6f166db9aa1e4384aac2626e16\", element=\"97f01924-7f65-4cb0-adab-af3a7b89f2ff\")>,\n",
       " <selenium.webdriver.remote.webelement.WebElement (session=\"1301ee6f166db9aa1e4384aac2626e16\", element=\"325253e4-6a70-4410-beb1-25550180d0ae\")>,\n",
       " <selenium.webdriver.remote.webelement.WebElement (session=\"1301ee6f166db9aa1e4384aac2626e16\", element=\"9d9117f9-2434-40c2-8fc3-43c5205d178c\")>,\n",
       " <selenium.webdriver.remote.webelement.WebElement (session=\"1301ee6f166db9aa1e4384aac2626e16\", element=\"17e6c4d1-90c0-45f3-85e9-2c6716cb81e1\")>,\n",
       " <selenium.webdriver.remote.webelement.WebElement (session=\"1301ee6f166db9aa1e4384aac2626e16\", element=\"40ce7f2d-5b83-4664-8e21-0019b787d2db\")>]"
      ]
     },
     "execution_count": 17,
     "metadata": {},
     "output_type": "execute_result"
    }
   ],
   "source": [
    "product_desc=driver.find_elements_by_xpath(\"//a[@class='IRpwTa']\")\n",
    "product_desc"
   ]
  },
  {
   "cell_type": "code",
   "execution_count": 18,
   "id": "2814d850",
   "metadata": {},
   "outputs": [
    {
     "data": {
      "text/plain": [
       "['UV Protection, Riding Glasses, Others Aviator, Wayfarer...',\n",
       " 'UV Protection, Gradient Round, Cat-eye Sunglasses (60)',\n",
       " 'UV Protection Round Sunglasses (54)',\n",
       " 'UV Protection Aviator Sunglasses (54)',\n",
       " 'Gradient, UV Protection Wayfarer Sunglasses (Free Size)',\n",
       " 'UV Protection, Polarized, Mirrored Rectangular Sunglass...',\n",
       " 'Mirrored, UV Protection Wayfarer Sunglasses (Free Size)',\n",
       " 'Toughened Glass Lens, UV Protection Aviator Sunglasses ...',\n",
       " 'UV Protection, Gradient Rectangular Sunglasses (Free Si...',\n",
       " 'UV Protection Retro Square Sunglasses (Free Size)',\n",
       " 'UV Protection Wayfarer Sunglasses (Free Size)',\n",
       " 'Polarized, UV Protection Round Sunglasses (56)',\n",
       " 'UV Protection, Gradient, Mirrored, Riding Glasses Aviat...',\n",
       " 'UV Protection Aviator, Wayfarer Sunglasses (Free Size)',\n",
       " 'Riding Glasses, Others, UV Protection Wrap-around Sungl...',\n",
       " 'UV Protection, Gradient Butterfly, Over-sized Sunglasse...',\n",
       " 'UV Protection, Mirrored, Gradient Round Sunglasses (51)',\n",
       " 'UV Protection Wayfarer Sunglasses (55)',\n",
       " 'Night Vision, Riding Glasses Wayfarer Sunglasses (53)',\n",
       " 'Polarized, UV Protection, Gradient Wayfarer, Rectangula...',\n",
       " 'UV Protection, Polarized, Mirrored Wayfarer Sunglasses ...',\n",
       " 'UV Protection Aviator Sunglasses (58)',\n",
       " 'UV Protection, Gradient Butterfly, Retro Square Sunglas...',\n",
       " 'UV Protection, Gradient Over-sized, Retro Square Sungla...',\n",
       " 'UV Protection Rectangular Sunglasses (58)',\n",
       " 'Mirrored Aviator Sunglasses (53)',\n",
       " 'UV Protection Aviator Sunglasses (Free Size)',\n",
       " 'UV Protection, Gradient Wayfarer, Retro Square Sunglass...',\n",
       " 'UV Protection Wayfarer Sunglasses (53)',\n",
       " 'Gradient Rectangular Sunglasses (56)',\n",
       " 'Polarized, UV Protection Retro Square Sunglasses (53)',\n",
       " 'UV Protection, Gradient Butterfly, Retro Square Sunglas...',\n",
       " 'Mirrored Round Sunglasses (Free Size)',\n",
       " 'Night Vision, Riding Glasses Retro Square Sunglasses (5...',\n",
       " 'UV Protection Wayfarer Sunglasses (Free Size)',\n",
       " 'UV Protection, Gradient Cat-eye Sunglasses (59)',\n",
       " 'UV Protection Aviator Sunglasses (54)',\n",
       " 'UV Protection Retro Square Sunglasses (Free Size)',\n",
       " 'UV Protection, Polarized, Mirrored Rectangular Sunglass...',\n",
       " 'UV Protection, Gradient Round Sunglasses (62)']"
      ]
     },
     "execution_count": 18,
     "metadata": {},
     "output_type": "execute_result"
    }
   ],
   "source": [
    "product_description=[]\n",
    "for i in product_desc:\n",
    "    product_description.append(i.text)\n",
    "product_description    "
   ]
  },
  {
   "cell_type": "code",
   "execution_count": 19,
   "id": "d3c8a2c4",
   "metadata": {},
   "outputs": [
    {
     "data": {
      "text/plain": [
       "[<selenium.webdriver.remote.webelement.WebElement (session=\"1301ee6f166db9aa1e4384aac2626e16\", element=\"28510ef2-2929-4f65-b58e-e90d3e1ba1e7\")>,\n",
       " <selenium.webdriver.remote.webelement.WebElement (session=\"1301ee6f166db9aa1e4384aac2626e16\", element=\"c8fd9ae3-f80a-429d-b2d6-17384be167ca\")>,\n",
       " <selenium.webdriver.remote.webelement.WebElement (session=\"1301ee6f166db9aa1e4384aac2626e16\", element=\"8a267f32-8294-4f0b-b898-161412bb91f7\")>,\n",
       " <selenium.webdriver.remote.webelement.WebElement (session=\"1301ee6f166db9aa1e4384aac2626e16\", element=\"c6a3acb0-2613-435f-b681-0ceba2d6d7d3\")>,\n",
       " <selenium.webdriver.remote.webelement.WebElement (session=\"1301ee6f166db9aa1e4384aac2626e16\", element=\"3028ca35-7658-4ad9-82b7-604c271c29ec\")>,\n",
       " <selenium.webdriver.remote.webelement.WebElement (session=\"1301ee6f166db9aa1e4384aac2626e16\", element=\"5026b728-e219-4670-a3ed-b1fad99e6622\")>,\n",
       " <selenium.webdriver.remote.webelement.WebElement (session=\"1301ee6f166db9aa1e4384aac2626e16\", element=\"edff9dcc-f633-41a0-9666-92dfcf1508ab\")>,\n",
       " <selenium.webdriver.remote.webelement.WebElement (session=\"1301ee6f166db9aa1e4384aac2626e16\", element=\"c341458e-28ee-4f25-9466-31bf702b780a\")>,\n",
       " <selenium.webdriver.remote.webelement.WebElement (session=\"1301ee6f166db9aa1e4384aac2626e16\", element=\"3c6a44b3-f9a9-49f0-a0c5-0f8c00c5abf5\")>,\n",
       " <selenium.webdriver.remote.webelement.WebElement (session=\"1301ee6f166db9aa1e4384aac2626e16\", element=\"c2603505-7a8b-4b78-ad44-617998302b75\")>,\n",
       " <selenium.webdriver.remote.webelement.WebElement (session=\"1301ee6f166db9aa1e4384aac2626e16\", element=\"f238482d-d8ab-4c1b-acb5-9604853710dc\")>,\n",
       " <selenium.webdriver.remote.webelement.WebElement (session=\"1301ee6f166db9aa1e4384aac2626e16\", element=\"b2db31a4-29d1-4644-8c34-c602c956d2e1\")>,\n",
       " <selenium.webdriver.remote.webelement.WebElement (session=\"1301ee6f166db9aa1e4384aac2626e16\", element=\"048e85de-b74b-450e-a50a-fee45f1cafae\")>,\n",
       " <selenium.webdriver.remote.webelement.WebElement (session=\"1301ee6f166db9aa1e4384aac2626e16\", element=\"801e593a-f50e-49ea-a016-eff0d209a140\")>,\n",
       " <selenium.webdriver.remote.webelement.WebElement (session=\"1301ee6f166db9aa1e4384aac2626e16\", element=\"b00358ee-9937-40a6-a83c-330c0348d8f5\")>,\n",
       " <selenium.webdriver.remote.webelement.WebElement (session=\"1301ee6f166db9aa1e4384aac2626e16\", element=\"50eae209-2ffc-41d9-bd43-aaee0c4e51a9\")>,\n",
       " <selenium.webdriver.remote.webelement.WebElement (session=\"1301ee6f166db9aa1e4384aac2626e16\", element=\"22c6a7e0-cd92-4d98-8d6a-d907350a3451\")>,\n",
       " <selenium.webdriver.remote.webelement.WebElement (session=\"1301ee6f166db9aa1e4384aac2626e16\", element=\"f07704f5-8f4c-4b27-9d73-207d86e3f7dd\")>,\n",
       " <selenium.webdriver.remote.webelement.WebElement (session=\"1301ee6f166db9aa1e4384aac2626e16\", element=\"bee58b64-7d2e-4bf5-9d42-5b6af818fadd\")>,\n",
       " <selenium.webdriver.remote.webelement.WebElement (session=\"1301ee6f166db9aa1e4384aac2626e16\", element=\"36d30325-f7ef-4b12-ad11-1a74b9c7ad9e\")>,\n",
       " <selenium.webdriver.remote.webelement.WebElement (session=\"1301ee6f166db9aa1e4384aac2626e16\", element=\"cb87035a-37b7-4d37-840d-60ed086082c4\")>,\n",
       " <selenium.webdriver.remote.webelement.WebElement (session=\"1301ee6f166db9aa1e4384aac2626e16\", element=\"6abdec42-bec8-46ce-bcf7-4ffc8a012608\")>,\n",
       " <selenium.webdriver.remote.webelement.WebElement (session=\"1301ee6f166db9aa1e4384aac2626e16\", element=\"c22ed8f1-5222-48fd-ac64-25cc65a41b49\")>,\n",
       " <selenium.webdriver.remote.webelement.WebElement (session=\"1301ee6f166db9aa1e4384aac2626e16\", element=\"7689b1ba-553f-46bd-a237-ef8625f3d782\")>,\n",
       " <selenium.webdriver.remote.webelement.WebElement (session=\"1301ee6f166db9aa1e4384aac2626e16\", element=\"46d67aff-100e-4763-bdc8-20fcb3cae61a\")>,\n",
       " <selenium.webdriver.remote.webelement.WebElement (session=\"1301ee6f166db9aa1e4384aac2626e16\", element=\"c9e297e4-b5b9-48d8-b547-a1c78e961fa9\")>,\n",
       " <selenium.webdriver.remote.webelement.WebElement (session=\"1301ee6f166db9aa1e4384aac2626e16\", element=\"c7f47f65-14f6-4f11-be75-cf0929defe62\")>,\n",
       " <selenium.webdriver.remote.webelement.WebElement (session=\"1301ee6f166db9aa1e4384aac2626e16\", element=\"3e697ed9-82f0-49d4-a2bd-c70ffd98684e\")>,\n",
       " <selenium.webdriver.remote.webelement.WebElement (session=\"1301ee6f166db9aa1e4384aac2626e16\", element=\"eba5331a-da4b-46eb-892b-bad625651131\")>,\n",
       " <selenium.webdriver.remote.webelement.WebElement (session=\"1301ee6f166db9aa1e4384aac2626e16\", element=\"444782d8-a5a7-4b4f-b89e-31b4ee52eff0\")>,\n",
       " <selenium.webdriver.remote.webelement.WebElement (session=\"1301ee6f166db9aa1e4384aac2626e16\", element=\"c8caf498-bbb3-472d-a9ac-ff4088739815\")>,\n",
       " <selenium.webdriver.remote.webelement.WebElement (session=\"1301ee6f166db9aa1e4384aac2626e16\", element=\"d3f89838-0aac-4b33-a271-1991ad22ead1\")>,\n",
       " <selenium.webdriver.remote.webelement.WebElement (session=\"1301ee6f166db9aa1e4384aac2626e16\", element=\"4f15b99a-ea46-4178-93e9-55304e0f4780\")>,\n",
       " <selenium.webdriver.remote.webelement.WebElement (session=\"1301ee6f166db9aa1e4384aac2626e16\", element=\"f66240eb-9d6f-4eb8-916b-c933adbce4a0\")>,\n",
       " <selenium.webdriver.remote.webelement.WebElement (session=\"1301ee6f166db9aa1e4384aac2626e16\", element=\"2808e378-32c7-4c0e-8130-4369473553a5\")>,\n",
       " <selenium.webdriver.remote.webelement.WebElement (session=\"1301ee6f166db9aa1e4384aac2626e16\", element=\"38c737f6-3dad-4d06-b2e3-4afef026db3e\")>,\n",
       " <selenium.webdriver.remote.webelement.WebElement (session=\"1301ee6f166db9aa1e4384aac2626e16\", element=\"42f8d2a1-bdf6-4b8d-98a2-935dd3356193\")>,\n",
       " <selenium.webdriver.remote.webelement.WebElement (session=\"1301ee6f166db9aa1e4384aac2626e16\", element=\"499fbde7-9bbe-4b1b-ae97-637c2c9262f1\")>,\n",
       " <selenium.webdriver.remote.webelement.WebElement (session=\"1301ee6f166db9aa1e4384aac2626e16\", element=\"1947869c-e13e-4200-9c28-4fcac4e783ec\")>,\n",
       " <selenium.webdriver.remote.webelement.WebElement (session=\"1301ee6f166db9aa1e4384aac2626e16\", element=\"230c865d-f52e-4b46-b7a1-a6b34f709b15\")>]"
      ]
     },
     "execution_count": 19,
     "metadata": {},
     "output_type": "execute_result"
    }
   ],
   "source": [
    "price=driver.find_elements_by_xpath(\"//div[@class='_30jeq3']\")\n",
    "price"
   ]
  },
  {
   "cell_type": "code",
   "execution_count": 20,
   "id": "efd43e8a",
   "metadata": {},
   "outputs": [
    {
     "data": {
      "text/plain": [
       "['₹225',\n",
       " '₹525',\n",
       " '₹295',\n",
       " '₹237',\n",
       " '₹509',\n",
       " '₹198',\n",
       " '₹284',\n",
       " '₹890',\n",
       " '₹404',\n",
       " '₹399',\n",
       " '₹233',\n",
       " '₹1,185',\n",
       " '₹221',\n",
       " '₹229',\n",
       " '₹309',\n",
       " '₹630',\n",
       " '₹215',\n",
       " '₹257',\n",
       " '₹209',\n",
       " '₹1,185',\n",
       " '₹265',\n",
       " '₹202',\n",
       " '₹574',\n",
       " '₹395',\n",
       " '₹474',\n",
       " '₹252',\n",
       " '₹499',\n",
       " '₹469',\n",
       " '₹230',\n",
       " '₹606',\n",
       " '₹269',\n",
       " '₹525',\n",
       " '₹399',\n",
       " '₹399',\n",
       " '₹758',\n",
       " '₹1,027',\n",
       " '₹237',\n",
       " '₹499',\n",
       " '₹215',\n",
       " '₹1,079']"
      ]
     },
     "execution_count": 20,
     "metadata": {},
     "output_type": "execute_result"
    }
   ],
   "source": [
    "prices=[]\n",
    "for i in price:\n",
    "    prices.append(i.text)\n",
    "prices    "
   ]
  },
  {
   "cell_type": "code",
   "execution_count": 23,
   "id": "50b0bd6a",
   "metadata": {},
   "outputs": [
    {
     "data": {
      "text/plain": [
       "[<selenium.webdriver.remote.webelement.WebElement (session=\"1301ee6f166db9aa1e4384aac2626e16\", element=\"7f49d4f1-ed0f-4178-9a17-83afdd3ac7ab\")>,\n",
       " <selenium.webdriver.remote.webelement.WebElement (session=\"1301ee6f166db9aa1e4384aac2626e16\", element=\"dfc93c1b-f8f0-4ffe-9f36-4b29be35e318\")>,\n",
       " <selenium.webdriver.remote.webelement.WebElement (session=\"1301ee6f166db9aa1e4384aac2626e16\", element=\"81641b28-3752-4b05-ad4c-fe39676508a6\")>,\n",
       " <selenium.webdriver.remote.webelement.WebElement (session=\"1301ee6f166db9aa1e4384aac2626e16\", element=\"19792ce9-a067-4d81-b1e2-7532f2731cb2\")>,\n",
       " <selenium.webdriver.remote.webelement.WebElement (session=\"1301ee6f166db9aa1e4384aac2626e16\", element=\"4da737d9-e6e3-48fb-8cb9-8b5a7d7c8965\")>,\n",
       " <selenium.webdriver.remote.webelement.WebElement (session=\"1301ee6f166db9aa1e4384aac2626e16\", element=\"c8445baa-9e68-4855-8cab-54a9b7665831\")>,\n",
       " <selenium.webdriver.remote.webelement.WebElement (session=\"1301ee6f166db9aa1e4384aac2626e16\", element=\"0fb62975-56e2-4f7b-a492-2053dde4cb05\")>,\n",
       " <selenium.webdriver.remote.webelement.WebElement (session=\"1301ee6f166db9aa1e4384aac2626e16\", element=\"bcca36b4-ea09-4b64-8790-713d6ddc3217\")>,\n",
       " <selenium.webdriver.remote.webelement.WebElement (session=\"1301ee6f166db9aa1e4384aac2626e16\", element=\"ffe70984-d950-449c-aa42-4ac56d8a575b\")>,\n",
       " <selenium.webdriver.remote.webelement.WebElement (session=\"1301ee6f166db9aa1e4384aac2626e16\", element=\"1382e8ff-74b9-4f90-9bfe-7a44c2b8a8f6\")>,\n",
       " <selenium.webdriver.remote.webelement.WebElement (session=\"1301ee6f166db9aa1e4384aac2626e16\", element=\"31d463c8-1c7c-4844-a145-11eb2e59e159\")>,\n",
       " <selenium.webdriver.remote.webelement.WebElement (session=\"1301ee6f166db9aa1e4384aac2626e16\", element=\"a59c817e-d856-45f1-bcf5-0363c474f743\")>,\n",
       " <selenium.webdriver.remote.webelement.WebElement (session=\"1301ee6f166db9aa1e4384aac2626e16\", element=\"2a53c09b-f9ed-4477-88b7-4bb03b26fffb\")>,\n",
       " <selenium.webdriver.remote.webelement.WebElement (session=\"1301ee6f166db9aa1e4384aac2626e16\", element=\"363e5f23-78ca-42e5-a33b-fc3cd7475fcf\")>,\n",
       " <selenium.webdriver.remote.webelement.WebElement (session=\"1301ee6f166db9aa1e4384aac2626e16\", element=\"98244c57-b9ca-46ce-af08-9676a5ada6f4\")>,\n",
       " <selenium.webdriver.remote.webelement.WebElement (session=\"1301ee6f166db9aa1e4384aac2626e16\", element=\"80dc5ddf-4fb4-4cb1-b823-8ea961a3bc0e\")>,\n",
       " <selenium.webdriver.remote.webelement.WebElement (session=\"1301ee6f166db9aa1e4384aac2626e16\", element=\"f46cb335-3b83-4dca-801f-8d761dc0c5db\")>,\n",
       " <selenium.webdriver.remote.webelement.WebElement (session=\"1301ee6f166db9aa1e4384aac2626e16\", element=\"a6511a6b-9179-4c07-a0ca-9d62a6bd8c6f\")>,\n",
       " <selenium.webdriver.remote.webelement.WebElement (session=\"1301ee6f166db9aa1e4384aac2626e16\", element=\"eeecddd8-0364-4ab2-bcd0-dc3e27d2ec8d\")>,\n",
       " <selenium.webdriver.remote.webelement.WebElement (session=\"1301ee6f166db9aa1e4384aac2626e16\", element=\"8204d7ba-e1c6-41a9-b147-0a7d9f3db412\")>,\n",
       " <selenium.webdriver.remote.webelement.WebElement (session=\"1301ee6f166db9aa1e4384aac2626e16\", element=\"09c27f3d-911f-402e-9032-c316fd0b87df\")>,\n",
       " <selenium.webdriver.remote.webelement.WebElement (session=\"1301ee6f166db9aa1e4384aac2626e16\", element=\"717fcac8-fb1a-4cae-91e2-e85301c52d31\")>,\n",
       " <selenium.webdriver.remote.webelement.WebElement (session=\"1301ee6f166db9aa1e4384aac2626e16\", element=\"7b3ca030-b2d5-4079-b005-6179e8f58401\")>,\n",
       " <selenium.webdriver.remote.webelement.WebElement (session=\"1301ee6f166db9aa1e4384aac2626e16\", element=\"65308963-ede1-4cf5-8414-9c91719bec39\")>,\n",
       " <selenium.webdriver.remote.webelement.WebElement (session=\"1301ee6f166db9aa1e4384aac2626e16\", element=\"5b7e054d-0f4c-42e9-99cd-499df6734445\")>,\n",
       " <selenium.webdriver.remote.webelement.WebElement (session=\"1301ee6f166db9aa1e4384aac2626e16\", element=\"31a52288-74f2-40c3-a863-1d0089402d3b\")>,\n",
       " <selenium.webdriver.remote.webelement.WebElement (session=\"1301ee6f166db9aa1e4384aac2626e16\", element=\"50fe5df1-f702-4c4c-8370-e153890e9b22\")>,\n",
       " <selenium.webdriver.remote.webelement.WebElement (session=\"1301ee6f166db9aa1e4384aac2626e16\", element=\"ae5e81cd-f380-40bf-b940-d5a0e2a8266c\")>,\n",
       " <selenium.webdriver.remote.webelement.WebElement (session=\"1301ee6f166db9aa1e4384aac2626e16\", element=\"37ccb4de-6883-40f8-9fcc-a4e3043185f5\")>,\n",
       " <selenium.webdriver.remote.webelement.WebElement (session=\"1301ee6f166db9aa1e4384aac2626e16\", element=\"4a41f779-5794-4a29-b0e1-6ac00ca7af7f\")>,\n",
       " <selenium.webdriver.remote.webelement.WebElement (session=\"1301ee6f166db9aa1e4384aac2626e16\", element=\"c9814509-168f-4f8c-b44e-4adbdee62612\")>,\n",
       " <selenium.webdriver.remote.webelement.WebElement (session=\"1301ee6f166db9aa1e4384aac2626e16\", element=\"4c5a0e66-89f6-49e6-baf6-671327f853bf\")>,\n",
       " <selenium.webdriver.remote.webelement.WebElement (session=\"1301ee6f166db9aa1e4384aac2626e16\", element=\"da470040-0e6e-4502-a088-b2da37462310\")>,\n",
       " <selenium.webdriver.remote.webelement.WebElement (session=\"1301ee6f166db9aa1e4384aac2626e16\", element=\"79334c7c-f664-4173-95a9-515dffa7a13b\")>,\n",
       " <selenium.webdriver.remote.webelement.WebElement (session=\"1301ee6f166db9aa1e4384aac2626e16\", element=\"de2aecd6-bfc2-4107-97ee-01c2374a60cc\")>,\n",
       " <selenium.webdriver.remote.webelement.WebElement (session=\"1301ee6f166db9aa1e4384aac2626e16\", element=\"ec1a28b2-7471-49b5-99b0-625201f244a3\")>,\n",
       " <selenium.webdriver.remote.webelement.WebElement (session=\"1301ee6f166db9aa1e4384aac2626e16\", element=\"98bace8c-4779-44ef-88d5-a8f11e3df7ad\")>,\n",
       " <selenium.webdriver.remote.webelement.WebElement (session=\"1301ee6f166db9aa1e4384aac2626e16\", element=\"a45a4fe0-d76e-48e3-adeb-b2f4fd665ab5\")>,\n",
       " <selenium.webdriver.remote.webelement.WebElement (session=\"1301ee6f166db9aa1e4384aac2626e16\", element=\"64dab4d5-2342-4170-9003-d351f02c4d69\")>,\n",
       " <selenium.webdriver.remote.webelement.WebElement (session=\"1301ee6f166db9aa1e4384aac2626e16\", element=\"af6e7a39-2ade-44f5-9609-0e923d65b70c\")>]"
      ]
     },
     "execution_count": 23,
     "metadata": {},
     "output_type": "execute_result"
    }
   ],
   "source": [
    "discounts=driver.find_elements_by_xpath(\"//div[@class='_3Ay6Sb']\")\n",
    "discounts"
   ]
  },
  {
   "cell_type": "code",
   "execution_count": 24,
   "id": "cb22864d",
   "metadata": {},
   "outputs": [
    {
     "data": {
      "text/plain": [
       "['67% off',\n",
       " '69% off',\n",
       " '88% off',\n",
       " '85% off',\n",
       " '36% off',\n",
       " '88% off',\n",
       " '89% off',\n",
       " '75% off',\n",
       " '79% off',\n",
       " '80% off',\n",
       " '84% off',\n",
       " '72% off',\n",
       " '77% off',\n",
       " '80% off',\n",
       " '81% off',\n",
       " '70% off',\n",
       " '73% off',\n",
       " '78% off',\n",
       " '88% off',\n",
       " '72% off',\n",
       " '73% off',\n",
       " '74% off',\n",
       " '62% off',\n",
       " '74% off',\n",
       " '68% off',\n",
       " '74% off',\n",
       " '61% off',\n",
       " '72% off',\n",
       " '76% off',\n",
       " '52% off',\n",
       " '73% off',\n",
       " '65% off',\n",
       " '80% off',\n",
       " '66% off',\n",
       " '15% off',\n",
       " '70% off',\n",
       " '85% off',\n",
       " '77% off',\n",
       " '78% off',\n",
       " '73% off']"
      ]
     },
     "execution_count": 24,
     "metadata": {},
     "output_type": "execute_result"
    }
   ],
   "source": [
    "discount=[]\n",
    "for i in discounts:\n",
    "    discount.append(i.text)\n",
    "discount    "
   ]
  },
  {
   "cell_type": "code",
   "execution_count": 28,
   "id": "8e97092c",
   "metadata": {},
   "outputs": [
    {
     "data": {
      "text/html": [
       "<div>\n",
       "<style scoped>\n",
       "    .dataframe tbody tr th:only-of-type {\n",
       "        vertical-align: middle;\n",
       "    }\n",
       "\n",
       "    .dataframe tbody tr th {\n",
       "        vertical-align: top;\n",
       "    }\n",
       "\n",
       "    .dataframe thead th {\n",
       "        text-align: right;\n",
       "    }\n",
       "</style>\n",
       "<table border=\"1\" class=\"dataframe\">\n",
       "  <thead>\n",
       "    <tr style=\"text-align: right;\">\n",
       "      <th></th>\n",
       "      <th>Brand</th>\n",
       "      <th>product description</th>\n",
       "      <th>price</th>\n",
       "      <th>Discount</th>\n",
       "    </tr>\n",
       "  </thead>\n",
       "  <tbody>\n",
       "    <tr>\n",
       "      <th>0</th>\n",
       "      <td>Singco India</td>\n",
       "      <td>UV Protection, Riding Glasses, Others Aviator,...</td>\n",
       "      <td>₹225</td>\n",
       "      <td>67% off</td>\n",
       "    </tr>\n",
       "    <tr>\n",
       "      <th>1</th>\n",
       "      <td>AISLIN</td>\n",
       "      <td>UV Protection, Gradient Round, Cat-eye Sunglas...</td>\n",
       "      <td>₹525</td>\n",
       "      <td>69% off</td>\n",
       "    </tr>\n",
       "    <tr>\n",
       "      <th>2</th>\n",
       "      <td>Elligator</td>\n",
       "      <td>UV Protection Round Sunglasses (54)</td>\n",
       "      <td>₹295</td>\n",
       "      <td>88% off</td>\n",
       "    </tr>\n",
       "    <tr>\n",
       "      <th>3</th>\n",
       "      <td>PIRASO</td>\n",
       "      <td>UV Protection Aviator Sunglasses (54)</td>\n",
       "      <td>₹237</td>\n",
       "      <td>85% off</td>\n",
       "    </tr>\n",
       "    <tr>\n",
       "      <th>4</th>\n",
       "      <td>Fastrack</td>\n",
       "      <td>Gradient, UV Protection Wayfarer Sunglasses (F...</td>\n",
       "      <td>₹509</td>\n",
       "      <td>36% off</td>\n",
       "    </tr>\n",
       "    <tr>\n",
       "      <th>5</th>\n",
       "      <td>SHAAH COLLECTIONS</td>\n",
       "      <td>UV Protection, Polarized, Mirrored Rectangular...</td>\n",
       "      <td>₹198</td>\n",
       "      <td>88% off</td>\n",
       "    </tr>\n",
       "    <tr>\n",
       "      <th>6</th>\n",
       "      <td>kingsunglasses</td>\n",
       "      <td>Mirrored, UV Protection Wayfarer Sunglasses (F...</td>\n",
       "      <td>₹284</td>\n",
       "      <td>89% off</td>\n",
       "    </tr>\n",
       "    <tr>\n",
       "      <th>7</th>\n",
       "      <td>AISLIN</td>\n",
       "      <td>Toughened Glass Lens, UV Protection Aviator Su...</td>\n",
       "      <td>₹890</td>\n",
       "      <td>75% off</td>\n",
       "    </tr>\n",
       "    <tr>\n",
       "      <th>8</th>\n",
       "      <td>ROZZETTA CRAFT</td>\n",
       "      <td>UV Protection, Gradient Rectangular Sunglasses...</td>\n",
       "      <td>₹404</td>\n",
       "      <td>79% off</td>\n",
       "    </tr>\n",
       "    <tr>\n",
       "      <th>9</th>\n",
       "      <td>PHENOMENAL</td>\n",
       "      <td>UV Protection Retro Square Sunglasses (Free Size)</td>\n",
       "      <td>₹399</td>\n",
       "      <td>80% off</td>\n",
       "    </tr>\n",
       "    <tr>\n",
       "      <th>10</th>\n",
       "      <td>Silver Kartz</td>\n",
       "      <td>UV Protection Wayfarer Sunglasses (Free Size)</td>\n",
       "      <td>₹233</td>\n",
       "      <td>84% off</td>\n",
       "    </tr>\n",
       "    <tr>\n",
       "      <th>11</th>\n",
       "      <td>AISLIN</td>\n",
       "      <td>Polarized, UV Protection Round Sunglasses (56)</td>\n",
       "      <td>₹1,185</td>\n",
       "      <td>72% off</td>\n",
       "    </tr>\n",
       "    <tr>\n",
       "      <th>12</th>\n",
       "      <td>hipe</td>\n",
       "      <td>UV Protection, Gradient, Mirrored, Riding Glas...</td>\n",
       "      <td>₹221</td>\n",
       "      <td>77% off</td>\n",
       "    </tr>\n",
       "    <tr>\n",
       "      <th>13</th>\n",
       "      <td>DEIXELS</td>\n",
       "      <td>UV Protection Aviator, Wayfarer Sunglasses (Fr...</td>\n",
       "      <td>₹229</td>\n",
       "      <td>80% off</td>\n",
       "    </tr>\n",
       "    <tr>\n",
       "      <th>14</th>\n",
       "      <td>Singco India</td>\n",
       "      <td>Riding Glasses, Others, UV Protection Wrap-aro...</td>\n",
       "      <td>₹309</td>\n",
       "      <td>81% off</td>\n",
       "    </tr>\n",
       "    <tr>\n",
       "      <th>15</th>\n",
       "      <td>AISLIN</td>\n",
       "      <td>UV Protection, Gradient Butterfly, Over-sized ...</td>\n",
       "      <td>₹630</td>\n",
       "      <td>70% off</td>\n",
       "    </tr>\n",
       "    <tr>\n",
       "      <th>16</th>\n",
       "      <td>Rich Club</td>\n",
       "      <td>UV Protection, Mirrored, Gradient Round Sungla...</td>\n",
       "      <td>₹215</td>\n",
       "      <td>73% off</td>\n",
       "    </tr>\n",
       "    <tr>\n",
       "      <th>17</th>\n",
       "      <td>HIPPON</td>\n",
       "      <td>UV Protection Wayfarer Sunglasses (55)</td>\n",
       "      <td>₹257</td>\n",
       "      <td>78% off</td>\n",
       "    </tr>\n",
       "    <tr>\n",
       "      <th>18</th>\n",
       "      <td>GANSTA</td>\n",
       "      <td>Night Vision, Riding Glasses Wayfarer Sunglass...</td>\n",
       "      <td>₹209</td>\n",
       "      <td>88% off</td>\n",
       "    </tr>\n",
       "    <tr>\n",
       "      <th>19</th>\n",
       "      <td>AISLIN</td>\n",
       "      <td>Polarized, UV Protection, Gradient Wayfarer, R...</td>\n",
       "      <td>₹1,185</td>\n",
       "      <td>72% off</td>\n",
       "    </tr>\n",
       "    <tr>\n",
       "      <th>20</th>\n",
       "      <td>SUNBEE</td>\n",
       "      <td>UV Protection, Polarized, Mirrored Wayfarer Su...</td>\n",
       "      <td>₹265</td>\n",
       "      <td>73% off</td>\n",
       "    </tr>\n",
       "    <tr>\n",
       "      <th>21</th>\n",
       "      <td>NuVew</td>\n",
       "      <td>UV Protection Aviator Sunglasses (58)</td>\n",
       "      <td>₹202</td>\n",
       "      <td>74% off</td>\n",
       "    </tr>\n",
       "    <tr>\n",
       "      <th>22</th>\n",
       "      <td>AISLIN</td>\n",
       "      <td>UV Protection, Gradient Butterfly, Retro Squar...</td>\n",
       "      <td>₹574</td>\n",
       "      <td>62% off</td>\n",
       "    </tr>\n",
       "    <tr>\n",
       "      <th>23</th>\n",
       "      <td>NuVew</td>\n",
       "      <td>UV Protection, Gradient Over-sized, Retro Squa...</td>\n",
       "      <td>₹395</td>\n",
       "      <td>74% off</td>\n",
       "    </tr>\n",
       "    <tr>\n",
       "      <th>24</th>\n",
       "      <td>ROYAL SON</td>\n",
       "      <td>UV Protection Rectangular Sunglasses (58)</td>\n",
       "      <td>₹474</td>\n",
       "      <td>68% off</td>\n",
       "    </tr>\n",
       "    <tr>\n",
       "      <th>25</th>\n",
       "      <td>Singco</td>\n",
       "      <td>Mirrored Aviator Sunglasses (53)</td>\n",
       "      <td>₹252</td>\n",
       "      <td>74% off</td>\n",
       "    </tr>\n",
       "    <tr>\n",
       "      <th>26</th>\n",
       "      <td>Cruze</td>\n",
       "      <td>UV Protection Aviator Sunglasses (Free Size)</td>\n",
       "      <td>₹499</td>\n",
       "      <td>61% off</td>\n",
       "    </tr>\n",
       "    <tr>\n",
       "      <th>27</th>\n",
       "      <td>AISLIN</td>\n",
       "      <td>UV Protection, Gradient Wayfarer, Retro Square...</td>\n",
       "      <td>₹469</td>\n",
       "      <td>72% off</td>\n",
       "    </tr>\n",
       "    <tr>\n",
       "      <th>28</th>\n",
       "      <td>SRPM</td>\n",
       "      <td>UV Protection Wayfarer Sunglasses (53)</td>\n",
       "      <td>₹230</td>\n",
       "      <td>76% off</td>\n",
       "    </tr>\n",
       "    <tr>\n",
       "      <th>29</th>\n",
       "      <td>IRUS by IDEE</td>\n",
       "      <td>Gradient Rectangular Sunglasses (56)</td>\n",
       "      <td>₹606</td>\n",
       "      <td>52% off</td>\n",
       "    </tr>\n",
       "    <tr>\n",
       "      <th>30</th>\n",
       "      <td>Badfella</td>\n",
       "      <td>Polarized, UV Protection Retro Square Sunglass...</td>\n",
       "      <td>₹269</td>\n",
       "      <td>73% off</td>\n",
       "    </tr>\n",
       "    <tr>\n",
       "      <th>31</th>\n",
       "      <td>AISLIN</td>\n",
       "      <td>UV Protection, Gradient Butterfly, Retro Squar...</td>\n",
       "      <td>₹525</td>\n",
       "      <td>65% off</td>\n",
       "    </tr>\n",
       "    <tr>\n",
       "      <th>32</th>\n",
       "      <td>elegante</td>\n",
       "      <td>Mirrored Round Sunglasses (Free Size)</td>\n",
       "      <td>₹399</td>\n",
       "      <td>80% off</td>\n",
       "    </tr>\n",
       "    <tr>\n",
       "      <th>33</th>\n",
       "      <td>PETER JONES</td>\n",
       "      <td>Night Vision, Riding Glasses Retro Square Sung...</td>\n",
       "      <td>₹399</td>\n",
       "      <td>66% off</td>\n",
       "    </tr>\n",
       "    <tr>\n",
       "      <th>34</th>\n",
       "      <td>Fastrack</td>\n",
       "      <td>UV Protection Wayfarer Sunglasses (Free Size)</td>\n",
       "      <td>₹758</td>\n",
       "      <td>15% off</td>\n",
       "    </tr>\n",
       "    <tr>\n",
       "      <th>35</th>\n",
       "      <td>AISLIN</td>\n",
       "      <td>UV Protection, Gradient Cat-eye Sunglasses (59)</td>\n",
       "      <td>₹1,027</td>\n",
       "      <td>70% off</td>\n",
       "    </tr>\n",
       "    <tr>\n",
       "      <th>36</th>\n",
       "      <td>PIRASO</td>\n",
       "      <td>UV Protection Aviator Sunglasses (54)</td>\n",
       "      <td>₹237</td>\n",
       "      <td>85% off</td>\n",
       "    </tr>\n",
       "    <tr>\n",
       "      <th>37</th>\n",
       "      <td>ROZZETTA CRAFT</td>\n",
       "      <td>UV Protection Retro Square Sunglasses (Free Size)</td>\n",
       "      <td>₹499</td>\n",
       "      <td>77% off</td>\n",
       "    </tr>\n",
       "    <tr>\n",
       "      <th>38</th>\n",
       "      <td>SHAAH COLLECTIONS</td>\n",
       "      <td>UV Protection, Polarized, Mirrored Rectangular...</td>\n",
       "      <td>₹215</td>\n",
       "      <td>78% off</td>\n",
       "    </tr>\n",
       "    <tr>\n",
       "      <th>39</th>\n",
       "      <td>AISLIN</td>\n",
       "      <td>UV Protection, Gradient Round Sunglasses (62)</td>\n",
       "      <td>₹1,079</td>\n",
       "      <td>73% off</td>\n",
       "    </tr>\n",
       "  </tbody>\n",
       "</table>\n",
       "</div>"
      ],
      "text/plain": [
       "                Brand                                product description  \\\n",
       "0        Singco India  UV Protection, Riding Glasses, Others Aviator,...   \n",
       "1              AISLIN  UV Protection, Gradient Round, Cat-eye Sunglas...   \n",
       "2           Elligator                UV Protection Round Sunglasses (54)   \n",
       "3              PIRASO              UV Protection Aviator Sunglasses (54)   \n",
       "4            Fastrack  Gradient, UV Protection Wayfarer Sunglasses (F...   \n",
       "5   SHAAH COLLECTIONS  UV Protection, Polarized, Mirrored Rectangular...   \n",
       "6      kingsunglasses  Mirrored, UV Protection Wayfarer Sunglasses (F...   \n",
       "7              AISLIN  Toughened Glass Lens, UV Protection Aviator Su...   \n",
       "8      ROZZETTA CRAFT  UV Protection, Gradient Rectangular Sunglasses...   \n",
       "9          PHENOMENAL  UV Protection Retro Square Sunglasses (Free Size)   \n",
       "10       Silver Kartz      UV Protection Wayfarer Sunglasses (Free Size)   \n",
       "11             AISLIN     Polarized, UV Protection Round Sunglasses (56)   \n",
       "12               hipe  UV Protection, Gradient, Mirrored, Riding Glas...   \n",
       "13            DEIXELS  UV Protection Aviator, Wayfarer Sunglasses (Fr...   \n",
       "14       Singco India  Riding Glasses, Others, UV Protection Wrap-aro...   \n",
       "15             AISLIN  UV Protection, Gradient Butterfly, Over-sized ...   \n",
       "16          Rich Club  UV Protection, Mirrored, Gradient Round Sungla...   \n",
       "17             HIPPON             UV Protection Wayfarer Sunglasses (55)   \n",
       "18             GANSTA  Night Vision, Riding Glasses Wayfarer Sunglass...   \n",
       "19             AISLIN  Polarized, UV Protection, Gradient Wayfarer, R...   \n",
       "20             SUNBEE  UV Protection, Polarized, Mirrored Wayfarer Su...   \n",
       "21              NuVew              UV Protection Aviator Sunglasses (58)   \n",
       "22             AISLIN  UV Protection, Gradient Butterfly, Retro Squar...   \n",
       "23              NuVew  UV Protection, Gradient Over-sized, Retro Squa...   \n",
       "24          ROYAL SON          UV Protection Rectangular Sunglasses (58)   \n",
       "25             Singco                   Mirrored Aviator Sunglasses (53)   \n",
       "26              Cruze       UV Protection Aviator Sunglasses (Free Size)   \n",
       "27             AISLIN  UV Protection, Gradient Wayfarer, Retro Square...   \n",
       "28               SRPM             UV Protection Wayfarer Sunglasses (53)   \n",
       "29       IRUS by IDEE               Gradient Rectangular Sunglasses (56)   \n",
       "30           Badfella  Polarized, UV Protection Retro Square Sunglass...   \n",
       "31             AISLIN  UV Protection, Gradient Butterfly, Retro Squar...   \n",
       "32           elegante              Mirrored Round Sunglasses (Free Size)   \n",
       "33        PETER JONES  Night Vision, Riding Glasses Retro Square Sung...   \n",
       "34           Fastrack      UV Protection Wayfarer Sunglasses (Free Size)   \n",
       "35             AISLIN    UV Protection, Gradient Cat-eye Sunglasses (59)   \n",
       "36             PIRASO              UV Protection Aviator Sunglasses (54)   \n",
       "37     ROZZETTA CRAFT  UV Protection Retro Square Sunglasses (Free Size)   \n",
       "38  SHAAH COLLECTIONS  UV Protection, Polarized, Mirrored Rectangular...   \n",
       "39             AISLIN      UV Protection, Gradient Round Sunglasses (62)   \n",
       "\n",
       "     price Discount  \n",
       "0     ₹225  67% off  \n",
       "1     ₹525  69% off  \n",
       "2     ₹295  88% off  \n",
       "3     ₹237  85% off  \n",
       "4     ₹509  36% off  \n",
       "5     ₹198  88% off  \n",
       "6     ₹284  89% off  \n",
       "7     ₹890  75% off  \n",
       "8     ₹404  79% off  \n",
       "9     ₹399  80% off  \n",
       "10    ₹233  84% off  \n",
       "11  ₹1,185  72% off  \n",
       "12    ₹221  77% off  \n",
       "13    ₹229  80% off  \n",
       "14    ₹309  81% off  \n",
       "15    ₹630  70% off  \n",
       "16    ₹215  73% off  \n",
       "17    ₹257  78% off  \n",
       "18    ₹209  88% off  \n",
       "19  ₹1,185  72% off  \n",
       "20    ₹265  73% off  \n",
       "21    ₹202  74% off  \n",
       "22    ₹574  62% off  \n",
       "23    ₹395  74% off  \n",
       "24    ₹474  68% off  \n",
       "25    ₹252  74% off  \n",
       "26    ₹499  61% off  \n",
       "27    ₹469  72% off  \n",
       "28    ₹230  76% off  \n",
       "29    ₹606  52% off  \n",
       "30    ₹269  73% off  \n",
       "31    ₹525  65% off  \n",
       "32    ₹399  80% off  \n",
       "33    ₹399  66% off  \n",
       "34    ₹758  15% off  \n",
       "35  ₹1,027  70% off  \n",
       "36    ₹237  85% off  \n",
       "37    ₹499  77% off  \n",
       "38    ₹215  78% off  \n",
       "39  ₹1,079  73% off  "
      ]
     },
     "execution_count": 28,
     "metadata": {},
     "output_type": "execute_result"
    }
   ],
   "source": [
    "sunglasses=pd.DataFrame({})\n",
    "sunglasses['Brand']=brand_name[0:100]\n",
    "sunglasses['product description']=product_description[0:100]\n",
    "sunglasses['price']=prices[0:100]\n",
    "sunglasses['Discount']=discount[0:100]\n",
    "sunglasses"
   ]
  },
  {
   "cell_type": "markdown",
   "id": "ed2ef833",
   "metadata": {},
   "source": [
    "# Q7: Scrape 100 reviews data from flipkart.com for iphone11 phone. You have to \n",
    "go the link: These are \n",
    "1. Rating \n",
    "2. Review_summary \n",
    "3. Full review\n",
    "You have to scrape this data for first 100 reviews"
   ]
  },
  {
   "cell_type": "code",
   "execution_count": 32,
   "id": "eba9451e",
   "metadata": {},
   "outputs": [],
   "source": [
    "url='https://www.flipkart.com/apple-iphone-11-black-64-gb-includes-earpods-power-adapter/p/itm0f37c2240b217?pid=MOBFKCTSVZAXUHGR&lid=LSTMOBFKCTSVZAXUHGREPBFGI&marketplace'\n",
    "driver.get(url)"
   ]
  },
  {
   "cell_type": "code",
   "execution_count": 35,
   "id": "3797ffcc",
   "metadata": {},
   "outputs": [
    {
     "data": {
      "text/plain": [
       "<selenium.webdriver.remote.webelement.WebElement (session=\"a0eea406c1df4b4ce33e84e8b205beef\", element=\"e0162a01-3229-43c9-ab0f-f29c20974940\")>"
      ]
     },
     "execution_count": 35,
     "metadata": {},
     "output_type": "execute_result"
    }
   ],
   "source": [
    "mobiles=driver.find_element_by_xpath(\"//input[@class='_3704LK']\")\n",
    "mobiles"
   ]
  },
  {
   "cell_type": "code",
   "execution_count": 37,
   "id": "aab4cd57",
   "metadata": {},
   "outputs": [],
   "source": [
    "mobiles.send_keys(\"iphone\")"
   ]
  },
  {
   "cell_type": "code",
   "execution_count": 38,
   "id": "e9b11af1",
   "metadata": {},
   "outputs": [],
   "source": [
    "search_bar=driver.find_element_by_xpath(\"//button[@class='L0Z3Pu']\")\n",
    "search_bar.click()"
   ]
  },
  {
   "cell_type": "code",
   "execution_count": 40,
   "id": "2507ec7b",
   "metadata": {},
   "outputs": [
    {
     "data": {
      "text/plain": [
       "[<selenium.webdriver.remote.webelement.WebElement (session=\"a0eea406c1df4b4ce33e84e8b205beef\", element=\"7d4b9d86-2a44-4176-98fb-3932100e7c0f\")>,\n",
       " <selenium.webdriver.remote.webelement.WebElement (session=\"a0eea406c1df4b4ce33e84e8b205beef\", element=\"562e4e42-954c-4b10-b08b-d4ca3d0e5eb2\")>,\n",
       " <selenium.webdriver.remote.webelement.WebElement (session=\"a0eea406c1df4b4ce33e84e8b205beef\", element=\"fe3589ca-b129-4349-b6bb-1a9d24371129\")>,\n",
       " <selenium.webdriver.remote.webelement.WebElement (session=\"a0eea406c1df4b4ce33e84e8b205beef\", element=\"07bafd1c-f417-48dd-b19f-60e514567bf5\")>,\n",
       " <selenium.webdriver.remote.webelement.WebElement (session=\"a0eea406c1df4b4ce33e84e8b205beef\", element=\"5dd82fc5-6ce4-413d-99dd-efcd92f7e7c7\")>,\n",
       " <selenium.webdriver.remote.webelement.WebElement (session=\"a0eea406c1df4b4ce33e84e8b205beef\", element=\"c0282eb4-17a9-49e7-a448-ffc8d8747c60\")>,\n",
       " <selenium.webdriver.remote.webelement.WebElement (session=\"a0eea406c1df4b4ce33e84e8b205beef\", element=\"ff0a525d-1ab5-4b3b-b344-7be7e66c77e2\")>,\n",
       " <selenium.webdriver.remote.webelement.WebElement (session=\"a0eea406c1df4b4ce33e84e8b205beef\", element=\"2d91fb46-dac5-41ed-a392-88235bbd25ed\")>,\n",
       " <selenium.webdriver.remote.webelement.WebElement (session=\"a0eea406c1df4b4ce33e84e8b205beef\", element=\"8f07311a-dfb7-46c5-8a59-043d8109a0e7\")>,\n",
       " <selenium.webdriver.remote.webelement.WebElement (session=\"a0eea406c1df4b4ce33e84e8b205beef\", element=\"7408929a-394c-4b90-8df2-d06cc913cffe\")>,\n",
       " <selenium.webdriver.remote.webelement.WebElement (session=\"a0eea406c1df4b4ce33e84e8b205beef\", element=\"171a8380-b5cf-4a4a-b244-2fa497b51463\")>,\n",
       " <selenium.webdriver.remote.webelement.WebElement (session=\"a0eea406c1df4b4ce33e84e8b205beef\", element=\"dd481c09-a8d0-4a99-a957-14f6924c04bb\")>,\n",
       " <selenium.webdriver.remote.webelement.WebElement (session=\"a0eea406c1df4b4ce33e84e8b205beef\", element=\"e64f7e9f-bd1e-4c54-9f9d-78e82161db99\")>,\n",
       " <selenium.webdriver.remote.webelement.WebElement (session=\"a0eea406c1df4b4ce33e84e8b205beef\", element=\"073d9732-627c-4056-bc03-f1f1bb05f2b5\")>,\n",
       " <selenium.webdriver.remote.webelement.WebElement (session=\"a0eea406c1df4b4ce33e84e8b205beef\", element=\"190ed3ab-879a-4278-9b2d-0d42821c9b3b\")>,\n",
       " <selenium.webdriver.remote.webelement.WebElement (session=\"a0eea406c1df4b4ce33e84e8b205beef\", element=\"22204b32-7bfe-4313-bcd3-7f10f3c212eb\")>,\n",
       " <selenium.webdriver.remote.webelement.WebElement (session=\"a0eea406c1df4b4ce33e84e8b205beef\", element=\"5c268041-5517-4a8a-bcdf-7cc55026451a\")>,\n",
       " <selenium.webdriver.remote.webelement.WebElement (session=\"a0eea406c1df4b4ce33e84e8b205beef\", element=\"f12b8cee-1bc9-4c17-bfaf-55c116d9f8f3\")>,\n",
       " <selenium.webdriver.remote.webelement.WebElement (session=\"a0eea406c1df4b4ce33e84e8b205beef\", element=\"6c8a05d5-12c6-404d-85d8-a8786b022e7d\")>,\n",
       " <selenium.webdriver.remote.webelement.WebElement (session=\"a0eea406c1df4b4ce33e84e8b205beef\", element=\"b99c1fcd-d6d1-47c2-b4d7-ee7e7e33e60d\")>,\n",
       " <selenium.webdriver.remote.webelement.WebElement (session=\"a0eea406c1df4b4ce33e84e8b205beef\", element=\"bb1cf595-a786-468a-8feb-7d28004e04b3\")>,\n",
       " <selenium.webdriver.remote.webelement.WebElement (session=\"a0eea406c1df4b4ce33e84e8b205beef\", element=\"7e389468-291b-4830-bc44-1bec4045dbf7\")>,\n",
       " <selenium.webdriver.remote.webelement.WebElement (session=\"a0eea406c1df4b4ce33e84e8b205beef\", element=\"9f4c44e4-8a64-48bb-923d-679ffa7e5837\")>,\n",
       " <selenium.webdriver.remote.webelement.WebElement (session=\"a0eea406c1df4b4ce33e84e8b205beef\", element=\"69364345-c490-4824-aa86-6e2b6882bbe0\")>]"
      ]
     },
     "execution_count": 40,
     "metadata": {},
     "output_type": "execute_result"
    }
   ],
   "source": [
    "rating=driver.find_elements_by_xpath(\"//div[@class='_3LWZlK']\")\n",
    "rating"
   ]
  },
  {
   "cell_type": "code",
   "execution_count": 41,
   "id": "c275a9b1",
   "metadata": {},
   "outputs": [
    {
     "data": {
      "text/plain": [
       "['4.6',\n",
       " '4.6',\n",
       " '4.6',\n",
       " '4.5',\n",
       " '4.6',\n",
       " '4.6',\n",
       " '4.5',\n",
       " '4.6',\n",
       " '4.6',\n",
       " '4.6',\n",
       " '4.5',\n",
       " '4.6',\n",
       " '4.6',\n",
       " '4.6',\n",
       " '4.5',\n",
       " '4.6',\n",
       " '4.5',\n",
       " '4.6',\n",
       " '4.5',\n",
       " '4.6',\n",
       " '4.6',\n",
       " '4.6',\n",
       " '4.6',\n",
       " '4.6']"
      ]
     },
     "execution_count": 41,
     "metadata": {},
     "output_type": "execute_result"
    }
   ],
   "source": [
    "Rating=[]\n",
    "for i in rating:\n",
    "    Rating.append(i.text)\n",
    "Rating    "
   ]
  },
  {
   "cell_type": "code",
   "execution_count": 56,
   "id": "086d414b",
   "metadata": {},
   "outputs": [
    {
     "data": {
      "text/plain": [
       "[<selenium.webdriver.remote.webelement.WebElement (session=\"a0eea406c1df4b4ce33e84e8b205beef\", element=\"11a5c60c-6866-47db-9f2a-e913379a45f8\")>,\n",
       " <selenium.webdriver.remote.webelement.WebElement (session=\"a0eea406c1df4b4ce33e84e8b205beef\", element=\"a6ef3165-2940-45f3-8c3d-278a46570525\")>,\n",
       " <selenium.webdriver.remote.webelement.WebElement (session=\"a0eea406c1df4b4ce33e84e8b205beef\", element=\"90210c5a-62b2-44ca-b6f1-6e857468e460\")>,\n",
       " <selenium.webdriver.remote.webelement.WebElement (session=\"a0eea406c1df4b4ce33e84e8b205beef\", element=\"5609af8b-4b98-429b-8d49-106cea7853e3\")>,\n",
       " <selenium.webdriver.remote.webelement.WebElement (session=\"a0eea406c1df4b4ce33e84e8b205beef\", element=\"f04bfe55-bcb0-4f46-bd2c-b7ec6dbf4ef1\")>,\n",
       " <selenium.webdriver.remote.webelement.WebElement (session=\"a0eea406c1df4b4ce33e84e8b205beef\", element=\"b4958e69-68e4-4fb7-ba99-d8573f336214\")>,\n",
       " <selenium.webdriver.remote.webelement.WebElement (session=\"a0eea406c1df4b4ce33e84e8b205beef\", element=\"cc040cdb-edcf-453e-b539-c15969d8c13a\")>,\n",
       " <selenium.webdriver.remote.webelement.WebElement (session=\"a0eea406c1df4b4ce33e84e8b205beef\", element=\"7f67d3b4-6742-4648-b47c-94bd431a76c1\")>,\n",
       " <selenium.webdriver.remote.webelement.WebElement (session=\"a0eea406c1df4b4ce33e84e8b205beef\", element=\"480c74fd-d96a-4f47-b4b6-1f6574e61fdf\")>,\n",
       " <selenium.webdriver.remote.webelement.WebElement (session=\"a0eea406c1df4b4ce33e84e8b205beef\", element=\"d5b35439-5431-42f4-b797-1b8a952e2dd4\")>,\n",
       " <selenium.webdriver.remote.webelement.WebElement (session=\"a0eea406c1df4b4ce33e84e8b205beef\", element=\"f587593e-cdaa-4304-9122-60878219097d\")>,\n",
       " <selenium.webdriver.remote.webelement.WebElement (session=\"a0eea406c1df4b4ce33e84e8b205beef\", element=\"2777727d-3e1d-4360-b16f-e76304b7651e\")>,\n",
       " <selenium.webdriver.remote.webelement.WebElement (session=\"a0eea406c1df4b4ce33e84e8b205beef\", element=\"2d399ecf-8a59-42f5-9c04-21b98780e183\")>,\n",
       " <selenium.webdriver.remote.webelement.WebElement (session=\"a0eea406c1df4b4ce33e84e8b205beef\", element=\"a1d89ed3-ed98-47bb-86c7-d5b984ecd876\")>,\n",
       " <selenium.webdriver.remote.webelement.WebElement (session=\"a0eea406c1df4b4ce33e84e8b205beef\", element=\"c8817b17-e9b0-4ace-866f-5510f3d94c10\")>,\n",
       " <selenium.webdriver.remote.webelement.WebElement (session=\"a0eea406c1df4b4ce33e84e8b205beef\", element=\"c4495272-736a-450e-ab92-c30bfb71aa31\")>,\n",
       " <selenium.webdriver.remote.webelement.WebElement (session=\"a0eea406c1df4b4ce33e84e8b205beef\", element=\"d9a4c0fb-aac3-46e7-b5d2-034c95f9f7a0\")>,\n",
       " <selenium.webdriver.remote.webelement.WebElement (session=\"a0eea406c1df4b4ce33e84e8b205beef\", element=\"74b06fcd-5a99-4d32-9013-03c6159627c8\")>,\n",
       " <selenium.webdriver.remote.webelement.WebElement (session=\"a0eea406c1df4b4ce33e84e8b205beef\", element=\"3e7b6d21-fdf9-4900-9b02-549b8a3032f3\")>,\n",
       " <selenium.webdriver.remote.webelement.WebElement (session=\"a0eea406c1df4b4ce33e84e8b205beef\", element=\"9e997908-d7df-4e68-ac07-674f28ba31a4\")>,\n",
       " <selenium.webdriver.remote.webelement.WebElement (session=\"a0eea406c1df4b4ce33e84e8b205beef\", element=\"bd668793-c0f3-461a-abd5-83e2560ba3b1\")>,\n",
       " <selenium.webdriver.remote.webelement.WebElement (session=\"a0eea406c1df4b4ce33e84e8b205beef\", element=\"a7ada056-9482-42de-ba20-7be5dd07addc\")>,\n",
       " <selenium.webdriver.remote.webelement.WebElement (session=\"a0eea406c1df4b4ce33e84e8b205beef\", element=\"a8d360f6-bb61-4e6c-9c43-909ae2e93ddb\")>,\n",
       " <selenium.webdriver.remote.webelement.WebElement (session=\"a0eea406c1df4b4ce33e84e8b205beef\", element=\"5a2a96e1-9ac9-4884-826f-da044dfb4128\")>]"
      ]
     },
     "execution_count": 56,
     "metadata": {},
     "output_type": "execute_result"
    }
   ],
   "source": [
    "review=driver.find_elements_by_xpath(\"//span[@class='_2_R_DZ']\")\n",
    "review"
   ]
  },
  {
   "cell_type": "code",
   "execution_count": 57,
   "id": "12098b26",
   "metadata": {},
   "outputs": [
    {
     "data": {
      "text/plain": [
       "['9,805 Ratings & 829 Reviews',\n",
       " '9,805 Ratings & 829 Reviews',\n",
       " '9,805 Ratings & 829 Reviews',\n",
       " '1,14,190 Ratings & 9,681 Reviews',\n",
       " '9,805 Ratings & 829 Reviews',\n",
       " '9,805 Ratings & 829 Reviews',\n",
       " '1,14,190 Ratings & 9,681 Reviews',\n",
       " '9,805 Ratings & 829 Reviews',\n",
       " '9,805 Ratings & 829 Reviews',\n",
       " '9,805 Ratings & 829 Reviews',\n",
       " '3,523 Ratings & 308 Reviews',\n",
       " '9,805 Ratings & 829 Reviews',\n",
       " '95,645 Ratings & 8,242 Reviews',\n",
       " '9,805 Ratings & 829 Reviews',\n",
       " '3,523 Ratings & 308 Reviews',\n",
       " '9,805 Ratings & 829 Reviews',\n",
       " '3,523 Ratings & 308 Reviews',\n",
       " '9,805 Ratings & 829 Reviews',\n",
       " '1,14,190 Ratings & 9,681 Reviews',\n",
       " '95,645 Ratings & 8,242 Reviews',\n",
       " '9,805 Ratings & 829 Reviews',\n",
       " '73,866 Ratings & 5,651 Reviews',\n",
       " '95,645 Ratings & 8,242 Reviews',\n",
       " '73,866 Ratings & 5,651 Reviews']"
      ]
     },
     "execution_count": 57,
     "metadata": {},
     "output_type": "execute_result"
    }
   ],
   "source": [
    "Reviews=[]\n",
    "for i in review:\n",
    "    Reviews.append(i.text)\n",
    "Reviews    "
   ]
  },
  {
   "cell_type": "code",
   "execution_count": 1,
   "id": "9702ad6a",
   "metadata": {},
   "outputs": [
    {
     "ename": "NameError",
     "evalue": "name 'pd' is not defined",
     "output_type": "error",
     "traceback": [
      "\u001b[1;31m---------------------------------------------------------------------------\u001b[0m",
      "\u001b[1;31mNameError\u001b[0m                                 Traceback (most recent call last)",
      "\u001b[1;32m<ipython-input-1-f7f5bed5549c>\u001b[0m in \u001b[0;36m<module>\u001b[1;34m\u001b[0m\n\u001b[1;32m----> 1\u001b[1;33m \u001b[0miphone\u001b[0m\u001b[1;33m=\u001b[0m\u001b[0mpd\u001b[0m\u001b[1;33m.\u001b[0m\u001b[0mDataFrame\u001b[0m\u001b[1;33m(\u001b[0m\u001b[1;33m{\u001b[0m\u001b[1;33m}\u001b[0m\u001b[1;33m)\u001b[0m\u001b[1;33m\u001b[0m\u001b[1;33m\u001b[0m\u001b[0m\n\u001b[0m",
      "\u001b[1;31mNameError\u001b[0m: name 'pd' is not defined"
     ]
    }
   ],
   "source": [
    "i"
   ]
  },
  {
   "cell_type": "markdown",
   "id": "a72abde6",
   "metadata": {},
   "source": [
    "# Q8: Scrape data for first 100 sneakers you find when you visit flipkart.com and \n",
    "search for “sneakers” in the search field.\n",
    "You have to scrape 4 attributes of each sneaker :\n",
    "1. Brand\n",
    "2. Product Description\n",
    "3. Price\n",
    "4. discount %"
   ]
  },
  {
   "cell_type": "code",
   "execution_count": 95,
   "id": "09124358",
   "metadata": {},
   "outputs": [],
   "source": [
    "url='https://www.myntra.com/shoes'\n",
    "driver.get(url)"
   ]
  },
  {
   "cell_type": "code",
   "execution_count": 90,
   "id": "554331ed",
   "metadata": {},
   "outputs": [
    {
     "data": {
      "text/plain": [
       "[]"
      ]
     },
     "execution_count": 90,
     "metadata": {},
     "output_type": "execute_result"
    }
   ],
   "source": [
    "company=driver.find_elements_by_xpath(\"//h\")\n",
    "company"
   ]
  },
  {
   "cell_type": "code",
   "execution_count": 96,
   "id": "ccf1135a",
   "metadata": {},
   "outputs": [
    {
     "data": {
      "text/plain": [
       "[<selenium.webdriver.remote.webelement.WebElement (session=\"5c530912c02b91b6db1afd6fd93626b6\", element=\"4aba3c41-0595-48fc-aa76-4666b6e54dcc\")>,\n",
       " <selenium.webdriver.remote.webelement.WebElement (session=\"5c530912c02b91b6db1afd6fd93626b6\", element=\"ed6c29ff-a7e1-472d-81db-5078889ff343\")>,\n",
       " <selenium.webdriver.remote.webelement.WebElement (session=\"5c530912c02b91b6db1afd6fd93626b6\", element=\"ed803704-a110-4105-9049-37a7a702d9dd\")>,\n",
       " <selenium.webdriver.remote.webelement.WebElement (session=\"5c530912c02b91b6db1afd6fd93626b6\", element=\"16a913d6-6563-4a47-87a9-b45a9b74d351\")>,\n",
       " <selenium.webdriver.remote.webelement.WebElement (session=\"5c530912c02b91b6db1afd6fd93626b6\", element=\"da676062-6fde-4f56-83fe-10be4bf422c6\")>,\n",
       " <selenium.webdriver.remote.webelement.WebElement (session=\"5c530912c02b91b6db1afd6fd93626b6\", element=\"4f115069-2c69-4dde-8fa4-69877a8a01dc\")>,\n",
       " <selenium.webdriver.remote.webelement.WebElement (session=\"5c530912c02b91b6db1afd6fd93626b6\", element=\"a6f7aa22-14d1-49f5-afc0-44abd6bf346e\")>,\n",
       " <selenium.webdriver.remote.webelement.WebElement (session=\"5c530912c02b91b6db1afd6fd93626b6\", element=\"c1821824-33a2-4c68-95fb-c9bbe17c86aa\")>,\n",
       " <selenium.webdriver.remote.webelement.WebElement (session=\"5c530912c02b91b6db1afd6fd93626b6\", element=\"9217ef82-d9e0-4929-8d28-9146808ccdb5\")>,\n",
       " <selenium.webdriver.remote.webelement.WebElement (session=\"5c530912c02b91b6db1afd6fd93626b6\", element=\"c072313b-c2f3-4ce7-8112-ebd3bbe794a0\")>,\n",
       " <selenium.webdriver.remote.webelement.WebElement (session=\"5c530912c02b91b6db1afd6fd93626b6\", element=\"bfe8724e-40f7-4cf8-81e5-b8c7c48d9965\")>,\n",
       " <selenium.webdriver.remote.webelement.WebElement (session=\"5c530912c02b91b6db1afd6fd93626b6\", element=\"3556a5cf-f1ab-4971-8911-3338f099c814\")>,\n",
       " <selenium.webdriver.remote.webelement.WebElement (session=\"5c530912c02b91b6db1afd6fd93626b6\", element=\"9f1b0378-5195-4b47-8380-5a018bba78de\")>,\n",
       " <selenium.webdriver.remote.webelement.WebElement (session=\"5c530912c02b91b6db1afd6fd93626b6\", element=\"e93c2865-39af-4b8c-a75a-fb7dab6a3784\")>,\n",
       " <selenium.webdriver.remote.webelement.WebElement (session=\"5c530912c02b91b6db1afd6fd93626b6\", element=\"5ee469b6-df3a-441d-b94a-9ed7778141a0\")>,\n",
       " <selenium.webdriver.remote.webelement.WebElement (session=\"5c530912c02b91b6db1afd6fd93626b6\", element=\"5be1097d-6527-437f-97fa-2c258e9059b8\")>,\n",
       " <selenium.webdriver.remote.webelement.WebElement (session=\"5c530912c02b91b6db1afd6fd93626b6\", element=\"485154d6-6392-44d2-8893-41e532e54aa6\")>,\n",
       " <selenium.webdriver.remote.webelement.WebElement (session=\"5c530912c02b91b6db1afd6fd93626b6\", element=\"a4b1291f-1666-450f-b08a-7c240a1b4d28\")>,\n",
       " <selenium.webdriver.remote.webelement.WebElement (session=\"5c530912c02b91b6db1afd6fd93626b6\", element=\"18ad3a28-1290-4a47-bcdc-f91f4350fa47\")>,\n",
       " <selenium.webdriver.remote.webelement.WebElement (session=\"5c530912c02b91b6db1afd6fd93626b6\", element=\"c93fbc54-bbe2-4c07-8e19-1d764bec7e1c\")>,\n",
       " <selenium.webdriver.remote.webelement.WebElement (session=\"5c530912c02b91b6db1afd6fd93626b6\", element=\"7660e49e-b4f7-4a31-a13e-858804b6fe18\")>,\n",
       " <selenium.webdriver.remote.webelement.WebElement (session=\"5c530912c02b91b6db1afd6fd93626b6\", element=\"5948cb53-8356-4c43-b3c8-3726e00041f6\")>,\n",
       " <selenium.webdriver.remote.webelement.WebElement (session=\"5c530912c02b91b6db1afd6fd93626b6\", element=\"16d5929b-a3b3-4adb-aab8-f689e2ee2f97\")>,\n",
       " <selenium.webdriver.remote.webelement.WebElement (session=\"5c530912c02b91b6db1afd6fd93626b6\", element=\"cd7a6b58-9080-4c7c-bd1c-4294bebec687\")>,\n",
       " <selenium.webdriver.remote.webelement.WebElement (session=\"5c530912c02b91b6db1afd6fd93626b6\", element=\"d0a6c9d7-2709-474d-8f75-c46a6632f0fa\")>,\n",
       " <selenium.webdriver.remote.webelement.WebElement (session=\"5c530912c02b91b6db1afd6fd93626b6\", element=\"976b8cea-3fb5-4104-a81e-49400d2ec6fe\")>,\n",
       " <selenium.webdriver.remote.webelement.WebElement (session=\"5c530912c02b91b6db1afd6fd93626b6\", element=\"9c3857be-a37a-4db2-9d8b-9582daf43081\")>,\n",
       " <selenium.webdriver.remote.webelement.WebElement (session=\"5c530912c02b91b6db1afd6fd93626b6\", element=\"853317e6-75a5-48f4-b181-c04f0bd4aade\")>,\n",
       " <selenium.webdriver.remote.webelement.WebElement (session=\"5c530912c02b91b6db1afd6fd93626b6\", element=\"9ecd7c32-8d3c-4d09-accf-89fe7b9d2cc8\")>,\n",
       " <selenium.webdriver.remote.webelement.WebElement (session=\"5c530912c02b91b6db1afd6fd93626b6\", element=\"bfe265f3-fb41-407f-a78d-c2a02d45b4c7\")>,\n",
       " <selenium.webdriver.remote.webelement.WebElement (session=\"5c530912c02b91b6db1afd6fd93626b6\", element=\"95270836-9fac-479d-9c9d-3b8661f03c07\")>,\n",
       " <selenium.webdriver.remote.webelement.WebElement (session=\"5c530912c02b91b6db1afd6fd93626b6\", element=\"9d8ba78c-dc04-41c8-9625-8fd3b9ecd278\")>,\n",
       " <selenium.webdriver.remote.webelement.WebElement (session=\"5c530912c02b91b6db1afd6fd93626b6\", element=\"f992e463-8cb7-417b-879d-468b501728b9\")>,\n",
       " <selenium.webdriver.remote.webelement.WebElement (session=\"5c530912c02b91b6db1afd6fd93626b6\", element=\"a72db1f7-8546-449b-8a49-c735cfa0eacc\")>,\n",
       " <selenium.webdriver.remote.webelement.WebElement (session=\"5c530912c02b91b6db1afd6fd93626b6\", element=\"048b3552-b07f-402b-ba8c-7913a5453807\")>,\n",
       " <selenium.webdriver.remote.webelement.WebElement (session=\"5c530912c02b91b6db1afd6fd93626b6\", element=\"2b0d8439-99c1-4046-b9f9-872d8d3dc1ac\")>,\n",
       " <selenium.webdriver.remote.webelement.WebElement (session=\"5c530912c02b91b6db1afd6fd93626b6\", element=\"59838cc5-4605-4996-ab58-d1ff952a9bb8\")>,\n",
       " <selenium.webdriver.remote.webelement.WebElement (session=\"5c530912c02b91b6db1afd6fd93626b6\", element=\"0ef8da3a-0eb9-4110-b45d-4668959b5fb1\")>,\n",
       " <selenium.webdriver.remote.webelement.WebElement (session=\"5c530912c02b91b6db1afd6fd93626b6\", element=\"333179c4-08d2-4aef-a05d-07ef8bc1d52a\")>,\n",
       " <selenium.webdriver.remote.webelement.WebElement (session=\"5c530912c02b91b6db1afd6fd93626b6\", element=\"bdd4c513-3db4-496d-a736-7d7994cfb640\")>,\n",
       " <selenium.webdriver.remote.webelement.WebElement (session=\"5c530912c02b91b6db1afd6fd93626b6\", element=\"2a9246e9-2662-401c-91b2-ddb91ab08854\")>,\n",
       " <selenium.webdriver.remote.webelement.WebElement (session=\"5c530912c02b91b6db1afd6fd93626b6\", element=\"08785858-8958-43cf-b911-f1485a52b6f7\")>,\n",
       " <selenium.webdriver.remote.webelement.WebElement (session=\"5c530912c02b91b6db1afd6fd93626b6\", element=\"4f7b976f-49a1-4a17-a8c6-40e25cb879cf\")>,\n",
       " <selenium.webdriver.remote.webelement.WebElement (session=\"5c530912c02b91b6db1afd6fd93626b6\", element=\"2d62376c-684a-49bd-a290-d134dd1dd1ab\")>,\n",
       " <selenium.webdriver.remote.webelement.WebElement (session=\"5c530912c02b91b6db1afd6fd93626b6\", element=\"00685a5b-e2fa-4787-9a30-3c186416ac92\")>,\n",
       " <selenium.webdriver.remote.webelement.WebElement (session=\"5c530912c02b91b6db1afd6fd93626b6\", element=\"ad1ca808-9d19-42a2-8333-b851da075e97\")>,\n",
       " <selenium.webdriver.remote.webelement.WebElement (session=\"5c530912c02b91b6db1afd6fd93626b6\", element=\"9a790479-314d-4b00-a5ff-182e17907848\")>,\n",
       " <selenium.webdriver.remote.webelement.WebElement (session=\"5c530912c02b91b6db1afd6fd93626b6\", element=\"4707af68-4cd6-42c7-9b10-dbffcad353d2\")>,\n",
       " <selenium.webdriver.remote.webelement.WebElement (session=\"5c530912c02b91b6db1afd6fd93626b6\", element=\"add5277f-de1a-4673-8ac7-1037717a08fd\")>,\n",
       " <selenium.webdriver.remote.webelement.WebElement (session=\"5c530912c02b91b6db1afd6fd93626b6\", element=\"c5cd9893-e793-4ed2-a850-0536232abe1a\")>]"
      ]
     },
     "execution_count": 96,
     "metadata": {},
     "output_type": "execute_result"
    }
   ],
   "source": [
    "company=driver.find_elements_by_xpath(\"//h3[@class='product-brand']\")\n",
    "company"
   ]
  },
  {
   "cell_type": "code",
   "execution_count": 97,
   "id": "ad604788",
   "metadata": {},
   "outputs": [
    {
     "data": {
      "text/plain": [
       "['Newfeel By Decathlon',\n",
       " 'H&M',\n",
       " 'Provogue',\n",
       " 'Allen Cooper',\n",
       " 'Alishtezia',\n",
       " 'Nike',\n",
       " 'Puma',\n",
       " 'Rocia',\n",
       " 'Sparx',\n",
       " 'Provogue',\n",
       " 'Roadster',\n",
       " 'U.S. Polo Assn.',\n",
       " 'Allen Cooper',\n",
       " 'Crew STREET',\n",
       " 'ALDO',\n",
       " 'Nike',\n",
       " 'MENGLER',\n",
       " 'Puma',\n",
       " 'ASIAN',\n",
       " 'ADIDAS',\n",
       " 'Nike',\n",
       " 'Eego Italy',\n",
       " 'Roadster',\n",
       " 'ZAPATOZ',\n",
       " 'H&M',\n",
       " 'ALDO',\n",
       " 'Woakers',\n",
       " 'Roadster',\n",
       " 'Mast & Harbour',\n",
       " 'ASIAN',\n",
       " 'ALDO',\n",
       " 'ZAPATOZ',\n",
       " 'H&M',\n",
       " 'Mast & Harbour',\n",
       " 'Roadster',\n",
       " 'Nike',\n",
       " 'ALDO',\n",
       " 'ADIDAS',\n",
       " 'Red Tape',\n",
       " 'Nike',\n",
       " 'HRX by Hrithik Roshan',\n",
       " 'Allen Cooper',\n",
       " 'Sparx',\n",
       " 'Campus',\n",
       " 'Gibelle',\n",
       " 'Reebok',\n",
       " 'ALDO',\n",
       " 'Rocia',\n",
       " 'Nike',\n",
       " 'H&M']"
      ]
     },
     "execution_count": 97,
     "metadata": {},
     "output_type": "execute_result"
    }
   ],
   "source": [
    "brand=[]\n",
    "for i in company:\n",
    "    brand.append(i.text)\n",
    "brand    "
   ]
  },
  {
   "cell_type": "code",
   "execution_count": 100,
   "id": "78fbc962",
   "metadata": {},
   "outputs": [
    {
     "data": {
      "text/plain": [
       "[<selenium.webdriver.remote.webelement.WebElement (session=\"5c530912c02b91b6db1afd6fd93626b6\", element=\"42e078e4-319d-47d6-ad12-3299e4589b5f\")>,\n",
       " <selenium.webdriver.remote.webelement.WebElement (session=\"5c530912c02b91b6db1afd6fd93626b6\", element=\"47182630-cefe-44e0-a066-55dae8a8a831\")>,\n",
       " <selenium.webdriver.remote.webelement.WebElement (session=\"5c530912c02b91b6db1afd6fd93626b6\", element=\"cbdbbfee-ab59-4be9-bf60-41f2ede3a5f4\")>,\n",
       " <selenium.webdriver.remote.webelement.WebElement (session=\"5c530912c02b91b6db1afd6fd93626b6\", element=\"2b3ce791-098b-47c4-97ac-40362e3147d6\")>,\n",
       " <selenium.webdriver.remote.webelement.WebElement (session=\"5c530912c02b91b6db1afd6fd93626b6\", element=\"89221bca-4d4c-4597-8b2d-fbcc792f94dd\")>,\n",
       " <selenium.webdriver.remote.webelement.WebElement (session=\"5c530912c02b91b6db1afd6fd93626b6\", element=\"d534f1d8-4317-4fa0-a812-aa89f582a797\")>,\n",
       " <selenium.webdriver.remote.webelement.WebElement (session=\"5c530912c02b91b6db1afd6fd93626b6\", element=\"6fb3abbb-e2c3-495b-bdba-7ac5cfdd0bc5\")>,\n",
       " <selenium.webdriver.remote.webelement.WebElement (session=\"5c530912c02b91b6db1afd6fd93626b6\", element=\"c70d229a-2181-4a91-bea7-3355eb1dd945\")>,\n",
       " <selenium.webdriver.remote.webelement.WebElement (session=\"5c530912c02b91b6db1afd6fd93626b6\", element=\"c4adb2da-87cb-4bfc-a95e-2282203edd48\")>,\n",
       " <selenium.webdriver.remote.webelement.WebElement (session=\"5c530912c02b91b6db1afd6fd93626b6\", element=\"dbc87293-a3dc-4d9e-9de4-ce27a653243a\")>,\n",
       " <selenium.webdriver.remote.webelement.WebElement (session=\"5c530912c02b91b6db1afd6fd93626b6\", element=\"c1603f51-f327-444e-8e34-c09931717745\")>,\n",
       " <selenium.webdriver.remote.webelement.WebElement (session=\"5c530912c02b91b6db1afd6fd93626b6\", element=\"a84b738c-927e-4690-8e43-8670160a7661\")>,\n",
       " <selenium.webdriver.remote.webelement.WebElement (session=\"5c530912c02b91b6db1afd6fd93626b6\", element=\"a19a01e7-b59a-4b0b-93b4-02cc26cbbee2\")>,\n",
       " <selenium.webdriver.remote.webelement.WebElement (session=\"5c530912c02b91b6db1afd6fd93626b6\", element=\"0893ce63-1f9c-4425-8046-e601aa448390\")>,\n",
       " <selenium.webdriver.remote.webelement.WebElement (session=\"5c530912c02b91b6db1afd6fd93626b6\", element=\"a90de2cb-2613-45c8-a52c-3dc96426b95f\")>,\n",
       " <selenium.webdriver.remote.webelement.WebElement (session=\"5c530912c02b91b6db1afd6fd93626b6\", element=\"48f57394-91e1-4887-85bf-1a299a009a48\")>,\n",
       " <selenium.webdriver.remote.webelement.WebElement (session=\"5c530912c02b91b6db1afd6fd93626b6\", element=\"48b86fb8-5b0b-4f17-8a99-52d06ab1b282\")>,\n",
       " <selenium.webdriver.remote.webelement.WebElement (session=\"5c530912c02b91b6db1afd6fd93626b6\", element=\"4052bdfb-3fba-4cba-9833-ffae9fe461bf\")>,\n",
       " <selenium.webdriver.remote.webelement.WebElement (session=\"5c530912c02b91b6db1afd6fd93626b6\", element=\"3bd248ed-cb17-4e90-bc6e-95a91239c60a\")>,\n",
       " <selenium.webdriver.remote.webelement.WebElement (session=\"5c530912c02b91b6db1afd6fd93626b6\", element=\"718563c1-737b-4cb4-9192-449bcba7eac0\")>,\n",
       " <selenium.webdriver.remote.webelement.WebElement (session=\"5c530912c02b91b6db1afd6fd93626b6\", element=\"c670f01a-0e3c-49f7-92c1-f2f866b272fe\")>,\n",
       " <selenium.webdriver.remote.webelement.WebElement (session=\"5c530912c02b91b6db1afd6fd93626b6\", element=\"06a0154f-36b0-4bb5-b9e3-8b8046e9a3d3\")>,\n",
       " <selenium.webdriver.remote.webelement.WebElement (session=\"5c530912c02b91b6db1afd6fd93626b6\", element=\"f710607a-daa1-4e55-8999-752d4ae5b9c6\")>,\n",
       " <selenium.webdriver.remote.webelement.WebElement (session=\"5c530912c02b91b6db1afd6fd93626b6\", element=\"8df479d3-e8b6-4c25-950a-70c8f535b91e\")>,\n",
       " <selenium.webdriver.remote.webelement.WebElement (session=\"5c530912c02b91b6db1afd6fd93626b6\", element=\"b76b008f-2a8c-4144-a450-97ce8060acaa\")>,\n",
       " <selenium.webdriver.remote.webelement.WebElement (session=\"5c530912c02b91b6db1afd6fd93626b6\", element=\"c5cadd0a-a31f-483e-9536-f87ff922f74e\")>,\n",
       " <selenium.webdriver.remote.webelement.WebElement (session=\"5c530912c02b91b6db1afd6fd93626b6\", element=\"d90c0f8b-0bcb-49fb-9ab4-13bf1e2b3837\")>,\n",
       " <selenium.webdriver.remote.webelement.WebElement (session=\"5c530912c02b91b6db1afd6fd93626b6\", element=\"dfbe3d6f-2aeb-4ae5-a280-639765b98915\")>,\n",
       " <selenium.webdriver.remote.webelement.WebElement (session=\"5c530912c02b91b6db1afd6fd93626b6\", element=\"3dfdbcfe-6155-45d4-9798-81c5b71c1049\")>,\n",
       " <selenium.webdriver.remote.webelement.WebElement (session=\"5c530912c02b91b6db1afd6fd93626b6\", element=\"080c6c61-621c-471c-a7b6-74e10381cf4c\")>,\n",
       " <selenium.webdriver.remote.webelement.WebElement (session=\"5c530912c02b91b6db1afd6fd93626b6\", element=\"9afc8cdd-7ec7-4c8b-966d-37281a5d107d\")>,\n",
       " <selenium.webdriver.remote.webelement.WebElement (session=\"5c530912c02b91b6db1afd6fd93626b6\", element=\"acfa635a-37fd-4c77-abbd-046939751a20\")>,\n",
       " <selenium.webdriver.remote.webelement.WebElement (session=\"5c530912c02b91b6db1afd6fd93626b6\", element=\"dd76fc9b-c2ee-4f4c-9fad-c7b0a1ad8fb9\")>,\n",
       " <selenium.webdriver.remote.webelement.WebElement (session=\"5c530912c02b91b6db1afd6fd93626b6\", element=\"ddba5b3e-2b68-438c-ae0e-f44845731832\")>,\n",
       " <selenium.webdriver.remote.webelement.WebElement (session=\"5c530912c02b91b6db1afd6fd93626b6\", element=\"1fcd1e53-e53e-43b1-a867-7477a285c072\")>,\n",
       " <selenium.webdriver.remote.webelement.WebElement (session=\"5c530912c02b91b6db1afd6fd93626b6\", element=\"750160b3-aa37-4e30-8258-e5173edec353\")>,\n",
       " <selenium.webdriver.remote.webelement.WebElement (session=\"5c530912c02b91b6db1afd6fd93626b6\", element=\"7aa1d3da-13fe-4b59-8ed7-3cebb0c44ca9\")>,\n",
       " <selenium.webdriver.remote.webelement.WebElement (session=\"5c530912c02b91b6db1afd6fd93626b6\", element=\"3afbe10b-4ccf-4937-8bfa-e8a5c24068cf\")>,\n",
       " <selenium.webdriver.remote.webelement.WebElement (session=\"5c530912c02b91b6db1afd6fd93626b6\", element=\"8c4014aa-1838-4c1a-a0d5-c692ca607545\")>,\n",
       " <selenium.webdriver.remote.webelement.WebElement (session=\"5c530912c02b91b6db1afd6fd93626b6\", element=\"f2979d18-747b-43ba-8d36-1b715d23f167\")>,\n",
       " <selenium.webdriver.remote.webelement.WebElement (session=\"5c530912c02b91b6db1afd6fd93626b6\", element=\"453c689d-b21f-42f8-a379-ee969793806a\")>,\n",
       " <selenium.webdriver.remote.webelement.WebElement (session=\"5c530912c02b91b6db1afd6fd93626b6\", element=\"5af7b4af-89c0-4b2b-ad48-d0e0e96646c6\")>,\n",
       " <selenium.webdriver.remote.webelement.WebElement (session=\"5c530912c02b91b6db1afd6fd93626b6\", element=\"904ef63c-fa0d-4dc2-9290-1ed4438fe406\")>,\n",
       " <selenium.webdriver.remote.webelement.WebElement (session=\"5c530912c02b91b6db1afd6fd93626b6\", element=\"371abc36-bfcf-40f4-816f-5ba821b329fb\")>,\n",
       " <selenium.webdriver.remote.webelement.WebElement (session=\"5c530912c02b91b6db1afd6fd93626b6\", element=\"a40363ba-32a5-49a1-9e67-bba1596128da\")>,\n",
       " <selenium.webdriver.remote.webelement.WebElement (session=\"5c530912c02b91b6db1afd6fd93626b6\", element=\"dc0e01f2-8177-4e9d-81a2-181b4462b335\")>,\n",
       " <selenium.webdriver.remote.webelement.WebElement (session=\"5c530912c02b91b6db1afd6fd93626b6\", element=\"423c256d-c41b-4d9f-a5e1-9ecda71f4b98\")>,\n",
       " <selenium.webdriver.remote.webelement.WebElement (session=\"5c530912c02b91b6db1afd6fd93626b6\", element=\"fb30c58c-ce16-4e8f-9fc8-af4710504be5\")>,\n",
       " <selenium.webdriver.remote.webelement.WebElement (session=\"5c530912c02b91b6db1afd6fd93626b6\", element=\"0ffbb2ed-1ade-462e-a437-c13b293804ff\")>,\n",
       " <selenium.webdriver.remote.webelement.WebElement (session=\"5c530912c02b91b6db1afd6fd93626b6\", element=\"74ac3aab-e447-48a5-8854-de39df84cfd9\")>]"
      ]
     },
     "execution_count": 100,
     "metadata": {},
     "output_type": "execute_result"
    }
   ],
   "source": [
    "product_desc=driver.find_elements_by_xpath(\"//h4[@class='product-product']\")\n",
    "product_desc"
   ]
  },
  {
   "cell_type": "code",
   "execution_count": 101,
   "id": "665dff89",
   "metadata": {},
   "outputs": [
    {
     "data": {
      "text/plain": [
       "['Men Walking Shoes',\n",
       " 'Men Espadrilles',\n",
       " 'Men Walking Sports Shoes',\n",
       " 'Men Walking Shoes',\n",
       " 'Women Colourblocked PU Sneakers',\n",
       " 'Men Renew Retaliation Shoes',\n",
       " 'Women Prowl Training Shoes',\n",
       " 'Women Wedges',\n",
       " 'Men SM-677 Running Shoes',\n",
       " 'Men Solid Loafers',\n",
       " 'Men Solid Sneakers',\n",
       " 'Men Textured Loafers',\n",
       " 'Men Solid Running Shoes',\n",
       " 'Men Running Shoes',\n",
       " 'Men Driving Shoes',\n",
       " 'Men ZOOM SPAN 3 Running Shoes',\n",
       " 'Men Walking Shoes',\n",
       " 'Men Velocity CoolAdapt Running',\n",
       " 'Men White Road Running Shoes',\n",
       " 'Men ZELT SL 2.0 M Running',\n",
       " 'Men React Infinity Runners',\n",
       " 'Men Trekking Shoes',\n",
       " 'Men Sneakers',\n",
       " 'Wedge Mules',\n",
       " 'Men Trainers',\n",
       " 'Men Sneakers',\n",
       " 'Men Running Shoes',\n",
       " 'Men Solid Sneakers',\n",
       " 'Men Woven Design Sneakers',\n",
       " 'Men Running Shoes',\n",
       " 'Men Driving Shoes',\n",
       " 'Women Solid Sneakers',\n",
       " 'Womens Platform trainers',\n",
       " 'Men Woven Design Sneakers',\n",
       " 'Men Slip-On Sneakers',\n",
       " 'Men FlexRun 2021 Running Shoes',\n",
       " 'Men Leather Loafers',\n",
       " 'Men Adi-Bounce Running Shoes',\n",
       " 'Men Walking Shoes',\n",
       " 'Men BLAZER Leather Sneakers',\n",
       " 'Men FlexStreet Athleisure Shoe',\n",
       " 'Men Walking Shoes',\n",
       " 'Men Running Shoes',\n",
       " 'Men Running Shoes',\n",
       " 'Women Mules',\n",
       " 'Men Druhan Slip-On Sneakers',\n",
       " 'Men Driving Shoes',\n",
       " 'Women Solid Pumps',\n",
       " 'Men Flex Run 2021 Running Shoe',\n",
       " 'Womens Braided mules']"
      ]
     },
     "execution_count": 101,
     "metadata": {},
     "output_type": "execute_result"
    }
   ],
   "source": [
    "product_description=[]\n",
    "for i in product_desc:\n",
    "    product_description.append(i.text)\n",
    "product_description    "
   ]
  },
  {
   "cell_type": "code",
   "execution_count": 107,
   "id": "99f78f30",
   "metadata": {},
   "outputs": [
    {
     "data": {
      "text/plain": [
       "[<selenium.webdriver.remote.webelement.WebElement (session=\"5c530912c02b91b6db1afd6fd93626b6\", element=\"455de9e3-a411-41c1-bb72-df49a3535410\")>,\n",
       " <selenium.webdriver.remote.webelement.WebElement (session=\"5c530912c02b91b6db1afd6fd93626b6\", element=\"b834776d-ac77-4359-a4b6-86b16c69f49a\")>,\n",
       " <selenium.webdriver.remote.webelement.WebElement (session=\"5c530912c02b91b6db1afd6fd93626b6\", element=\"90f889cf-1fdc-4022-8dba-2029717397df\")>,\n",
       " <selenium.webdriver.remote.webelement.WebElement (session=\"5c530912c02b91b6db1afd6fd93626b6\", element=\"9836098e-966d-43ef-8f5a-08b9fb2587bf\")>,\n",
       " <selenium.webdriver.remote.webelement.WebElement (session=\"5c530912c02b91b6db1afd6fd93626b6\", element=\"be16f35d-2d47-4f46-bb08-8abc2d2a7e86\")>,\n",
       " <selenium.webdriver.remote.webelement.WebElement (session=\"5c530912c02b91b6db1afd6fd93626b6\", element=\"8bec9367-d150-4cd9-a37b-577f6c003768\")>,\n",
       " <selenium.webdriver.remote.webelement.WebElement (session=\"5c530912c02b91b6db1afd6fd93626b6\", element=\"90036933-13e7-4e15-9961-4e4897b9f892\")>,\n",
       " <selenium.webdriver.remote.webelement.WebElement (session=\"5c530912c02b91b6db1afd6fd93626b6\", element=\"e402ac58-5e9c-4ba9-9083-825a6817792d\")>,\n",
       " <selenium.webdriver.remote.webelement.WebElement (session=\"5c530912c02b91b6db1afd6fd93626b6\", element=\"9d8c8230-de96-4e59-af9f-7b288a34988f\")>,\n",
       " <selenium.webdriver.remote.webelement.WebElement (session=\"5c530912c02b91b6db1afd6fd93626b6\", element=\"04a77e3b-24e0-4ff2-957f-cc5605f5194d\")>,\n",
       " <selenium.webdriver.remote.webelement.WebElement (session=\"5c530912c02b91b6db1afd6fd93626b6\", element=\"bc59efcd-79b7-4d39-bd81-b40f1d72b1b1\")>,\n",
       " <selenium.webdriver.remote.webelement.WebElement (session=\"5c530912c02b91b6db1afd6fd93626b6\", element=\"34bed34e-076b-41a8-b9e2-b114a8dae83d\")>,\n",
       " <selenium.webdriver.remote.webelement.WebElement (session=\"5c530912c02b91b6db1afd6fd93626b6\", element=\"d2032420-f78e-4e21-877f-f458557aa1e2\")>,\n",
       " <selenium.webdriver.remote.webelement.WebElement (session=\"5c530912c02b91b6db1afd6fd93626b6\", element=\"dac22eca-5a32-4fa3-9e4b-f9240d6c4154\")>,\n",
       " <selenium.webdriver.remote.webelement.WebElement (session=\"5c530912c02b91b6db1afd6fd93626b6\", element=\"52457882-bdf5-46d6-aa2a-0e503746685d\")>,\n",
       " <selenium.webdriver.remote.webelement.WebElement (session=\"5c530912c02b91b6db1afd6fd93626b6\", element=\"99de69bf-276f-405b-b07e-f191cb030cc2\")>,\n",
       " <selenium.webdriver.remote.webelement.WebElement (session=\"5c530912c02b91b6db1afd6fd93626b6\", element=\"ebfcf187-693b-45f8-8415-09e030eab32a\")>,\n",
       " <selenium.webdriver.remote.webelement.WebElement (session=\"5c530912c02b91b6db1afd6fd93626b6\", element=\"9a62affc-13fd-4c31-bd43-991d0df2cf31\")>,\n",
       " <selenium.webdriver.remote.webelement.WebElement (session=\"5c530912c02b91b6db1afd6fd93626b6\", element=\"aa385bf9-f8f7-4684-a7ac-af8e41b03c7f\")>,\n",
       " <selenium.webdriver.remote.webelement.WebElement (session=\"5c530912c02b91b6db1afd6fd93626b6\", element=\"abb02510-3d25-436e-b4f8-2909c1ff8557\")>,\n",
       " <selenium.webdriver.remote.webelement.WebElement (session=\"5c530912c02b91b6db1afd6fd93626b6\", element=\"c97fe02f-e601-43d1-843d-b278d5f057ce\")>,\n",
       " <selenium.webdriver.remote.webelement.WebElement (session=\"5c530912c02b91b6db1afd6fd93626b6\", element=\"ebfb8f4b-d86e-4203-82ba-8d27d1f8cf3d\")>,\n",
       " <selenium.webdriver.remote.webelement.WebElement (session=\"5c530912c02b91b6db1afd6fd93626b6\", element=\"33965499-a5be-4b80-9c2f-dda24c0558d9\")>,\n",
       " <selenium.webdriver.remote.webelement.WebElement (session=\"5c530912c02b91b6db1afd6fd93626b6\", element=\"9e3ba7f6-268d-4abd-8eca-2068acdc1e7d\")>,\n",
       " <selenium.webdriver.remote.webelement.WebElement (session=\"5c530912c02b91b6db1afd6fd93626b6\", element=\"cdc3da1f-3b9b-4a54-8e5c-fffe9215c0a0\")>,\n",
       " <selenium.webdriver.remote.webelement.WebElement (session=\"5c530912c02b91b6db1afd6fd93626b6\", element=\"8f5a46f2-31d5-4bf7-8a38-c1a538cc20cc\")>,\n",
       " <selenium.webdriver.remote.webelement.WebElement (session=\"5c530912c02b91b6db1afd6fd93626b6\", element=\"00d11710-3a2a-4b47-8f1b-4ab84790e86c\")>,\n",
       " <selenium.webdriver.remote.webelement.WebElement (session=\"5c530912c02b91b6db1afd6fd93626b6\", element=\"47595be1-5d72-411a-bc25-1927dd3b4dcb\")>,\n",
       " <selenium.webdriver.remote.webelement.WebElement (session=\"5c530912c02b91b6db1afd6fd93626b6\", element=\"a3c203a7-8955-4b85-a743-8dfcde9a2382\")>,\n",
       " <selenium.webdriver.remote.webelement.WebElement (session=\"5c530912c02b91b6db1afd6fd93626b6\", element=\"ebe0bb69-10a2-41da-a157-6a55c2b90e06\")>,\n",
       " <selenium.webdriver.remote.webelement.WebElement (session=\"5c530912c02b91b6db1afd6fd93626b6\", element=\"25f63aa9-78a5-48f7-8aec-d922215be241\")>,\n",
       " <selenium.webdriver.remote.webelement.WebElement (session=\"5c530912c02b91b6db1afd6fd93626b6\", element=\"c0d0849c-1def-4386-8e99-aedca427e6cf\")>,\n",
       " <selenium.webdriver.remote.webelement.WebElement (session=\"5c530912c02b91b6db1afd6fd93626b6\", element=\"b9032a7d-c393-42e6-8113-49e3c6462493\")>,\n",
       " <selenium.webdriver.remote.webelement.WebElement (session=\"5c530912c02b91b6db1afd6fd93626b6\", element=\"970b7ae8-db4b-4440-b465-e1d3436c53ac\")>,\n",
       " <selenium.webdriver.remote.webelement.WebElement (session=\"5c530912c02b91b6db1afd6fd93626b6\", element=\"59d34c65-280b-4c62-ad46-0ed53e937049\")>,\n",
       " <selenium.webdriver.remote.webelement.WebElement (session=\"5c530912c02b91b6db1afd6fd93626b6\", element=\"c76b651f-261a-47ab-942d-da0310c3e309\")>,\n",
       " <selenium.webdriver.remote.webelement.WebElement (session=\"5c530912c02b91b6db1afd6fd93626b6\", element=\"5ea9f650-5d9a-479a-acbc-31153cab965d\")>,\n",
       " <selenium.webdriver.remote.webelement.WebElement (session=\"5c530912c02b91b6db1afd6fd93626b6\", element=\"bd1b6fa3-d0b8-4638-a434-87b683b5a794\")>,\n",
       " <selenium.webdriver.remote.webelement.WebElement (session=\"5c530912c02b91b6db1afd6fd93626b6\", element=\"2e4cc408-0308-441d-ad08-c1340f7c34c1\")>,\n",
       " <selenium.webdriver.remote.webelement.WebElement (session=\"5c530912c02b91b6db1afd6fd93626b6\", element=\"c7edae87-c766-46ad-8a80-ebd528721878\")>,\n",
       " <selenium.webdriver.remote.webelement.WebElement (session=\"5c530912c02b91b6db1afd6fd93626b6\", element=\"e8b19b31-e439-49f3-85c3-d1170b2a095c\")>,\n",
       " <selenium.webdriver.remote.webelement.WebElement (session=\"5c530912c02b91b6db1afd6fd93626b6\", element=\"19a1483c-b9aa-4508-8fa4-a6f463359766\")>,\n",
       " <selenium.webdriver.remote.webelement.WebElement (session=\"5c530912c02b91b6db1afd6fd93626b6\", element=\"8088b5fe-0115-4000-9f20-3c2937a3cbc6\")>,\n",
       " <selenium.webdriver.remote.webelement.WebElement (session=\"5c530912c02b91b6db1afd6fd93626b6\", element=\"c2dae24b-4635-4780-8e90-4b17994fdd4e\")>,\n",
       " <selenium.webdriver.remote.webelement.WebElement (session=\"5c530912c02b91b6db1afd6fd93626b6\", element=\"5fcfc56c-0b10-4e40-a618-9c33c3c49f12\")>,\n",
       " <selenium.webdriver.remote.webelement.WebElement (session=\"5c530912c02b91b6db1afd6fd93626b6\", element=\"0f27576a-9e35-4d9f-84bd-afe07fc665d5\")>,\n",
       " <selenium.webdriver.remote.webelement.WebElement (session=\"5c530912c02b91b6db1afd6fd93626b6\", element=\"c2423814-f78c-46e0-b5d4-4ca966d5a940\")>,\n",
       " <selenium.webdriver.remote.webelement.WebElement (session=\"5c530912c02b91b6db1afd6fd93626b6\", element=\"adc6fa19-4175-4bcf-babe-4557cff0932e\")>,\n",
       " <selenium.webdriver.remote.webelement.WebElement (session=\"5c530912c02b91b6db1afd6fd93626b6\", element=\"89753ced-fa94-438d-9b06-c1ff10f242e5\")>,\n",
       " <selenium.webdriver.remote.webelement.WebElement (session=\"5c530912c02b91b6db1afd6fd93626b6\", element=\"641501b1-6d15-4d51-b38f-29e37259d528\")>]"
      ]
     },
     "execution_count": 107,
     "metadata": {},
     "output_type": "execute_result"
    }
   ],
   "source": [
    "prices=driver.find_elements_by_xpath(\"//div[@class='product-price']\")\n",
    "prices"
   ]
  },
  {
   "cell_type": "code",
   "execution_count": 108,
   "id": "b73e1235",
   "metadata": {},
   "outputs": [
    {
     "data": {
      "text/plain": [
       "['Rs. 899',\n",
       " 'Rs. 649Rs. 1299(50% OFF)',\n",
       " 'Rs. 848Rs. 3395(75% OFF)',\n",
       " 'Rs. 859Rs. 4295(80% OFF)',\n",
       " 'Rs. 799Rs. 1599(50% OFF)',\n",
       " 'Rs. 5995',\n",
       " 'Rs. 2399Rs. 3999(40% OFF)',\n",
       " 'Rs. 1752Rs. 2190(20% OFF)',\n",
       " 'Rs. 996Rs. 1049(5% OFF)',\n",
       " 'Rs. 799Rs. 3995(80% OFF)',\n",
       " 'Rs. 699Rs. 1999(65% OFF)',\n",
       " 'Rs. 2879Rs. 3599(20% OFF)',\n",
       " 'Rs. 859Rs. 4295(80% OFF)',\n",
       " 'Rs. 1329Rs. 3799(65% OFF)',\n",
       " 'Rs. 15999',\n",
       " 'Rs. 4676Rs. 7195(35% OFF)',\n",
       " 'Rs. 649Rs. 2499(74% OFF)',\n",
       " 'Rs. 7199Rs. 11999(40% OFF)',\n",
       " 'Rs. 1499Rs. 1999(Rs. 500 OFF)',\n",
       " 'Rs. 2399Rs. 4799(50% OFF)',\n",
       " 'Rs. 14495',\n",
       " 'Rs. 899Rs. 2599(Rs. 1700 OFF)',\n",
       " 'Rs. 1199Rs. 2999(60% OFF)',\n",
       " 'Rs. 679Rs. 999(32% OFF)',\n",
       " 'Rs. 1999',\n",
       " 'Rs. 9999',\n",
       " 'Rs. 681Rs. 3405(80% OFF)',\n",
       " 'Rs. 799Rs. 1999(60% OFF)',\n",
       " 'Rs. 1749Rs. 3499(50% OFF)',\n",
       " 'Rs. 849Rs. 999(Rs. 150 OFF)',\n",
       " 'Rs. 11999',\n",
       " 'Rs. 599Rs. 999(40% OFF)',\n",
       " 'Rs. 1499',\n",
       " 'Rs. 1749Rs. 3499(50% OFF)',\n",
       " 'Rs. 999Rs. 1999(50% OFF)',\n",
       " 'Rs. 6795',\n",
       " 'Rs. 15999',\n",
       " 'Rs. 1899Rs. 3799(50% OFF)',\n",
       " 'Rs. 1224Rs. 4899(75% OFF)',\n",
       " 'Rs. 5756Rs. 7195(20% OFF)',\n",
       " 'Rs. 2449Rs. 4899(50% OFF)',\n",
       " 'Rs. 859Rs. 4295(80% OFF)',\n",
       " 'Rs. 996Rs. 1049(5% OFF)',\n",
       " 'Rs. 1315Rs. 1399(6% OFF)',\n",
       " 'Rs. 489Rs. 999(51% OFF)',\n",
       " 'Rs. 2399Rs. 3999(40% OFF)',\n",
       " 'Rs. 11999',\n",
       " 'Rs. 2072Rs. 2590(20% OFF)',\n",
       " 'Rs. 6795',\n",
       " 'Rs. 1499']"
      ]
     },
     "execution_count": 108,
     "metadata": {},
     "output_type": "execute_result"
    }
   ],
   "source": [
    "price=[]\n",
    "for i in prices:\n",
    "    price.append(i.text)\n",
    "price    \n",
    "    "
   ]
  },
  {
   "cell_type": "code",
   "execution_count": 110,
   "id": "f8df3541",
   "metadata": {},
   "outputs": [
    {
     "data": {
      "text/html": [
       "<div>\n",
       "<style scoped>\n",
       "    .dataframe tbody tr th:only-of-type {\n",
       "        vertical-align: middle;\n",
       "    }\n",
       "\n",
       "    .dataframe tbody tr th {\n",
       "        vertical-align: top;\n",
       "    }\n",
       "\n",
       "    .dataframe thead th {\n",
       "        text-align: right;\n",
       "    }\n",
       "</style>\n",
       "<table border=\"1\" class=\"dataframe\">\n",
       "  <thead>\n",
       "    <tr style=\"text-align: right;\">\n",
       "      <th></th>\n",
       "      <th>Brand</th>\n",
       "      <th>product_description</th>\n",
       "      <th>price</th>\n",
       "    </tr>\n",
       "  </thead>\n",
       "  <tbody>\n",
       "    <tr>\n",
       "      <th>0</th>\n",
       "      <td>Newfeel By Decathlon</td>\n",
       "      <td>Men Walking Shoes</td>\n",
       "      <td>Rs. 899</td>\n",
       "    </tr>\n",
       "    <tr>\n",
       "      <th>1</th>\n",
       "      <td>H&amp;M</td>\n",
       "      <td>Men Espadrilles</td>\n",
       "      <td>Rs. 649Rs. 1299(50% OFF)</td>\n",
       "    </tr>\n",
       "    <tr>\n",
       "      <th>2</th>\n",
       "      <td>Provogue</td>\n",
       "      <td>Men Walking Sports Shoes</td>\n",
       "      <td>Rs. 848Rs. 3395(75% OFF)</td>\n",
       "    </tr>\n",
       "    <tr>\n",
       "      <th>3</th>\n",
       "      <td>Allen Cooper</td>\n",
       "      <td>Men Walking Shoes</td>\n",
       "      <td>Rs. 859Rs. 4295(80% OFF)</td>\n",
       "    </tr>\n",
       "    <tr>\n",
       "      <th>4</th>\n",
       "      <td>Alishtezia</td>\n",
       "      <td>Women Colourblocked PU Sneakers</td>\n",
       "      <td>Rs. 799Rs. 1599(50% OFF)</td>\n",
       "    </tr>\n",
       "    <tr>\n",
       "      <th>5</th>\n",
       "      <td>Nike</td>\n",
       "      <td>Men Renew Retaliation Shoes</td>\n",
       "      <td>Rs. 5995</td>\n",
       "    </tr>\n",
       "    <tr>\n",
       "      <th>6</th>\n",
       "      <td>Puma</td>\n",
       "      <td>Women Prowl Training Shoes</td>\n",
       "      <td>Rs. 2399Rs. 3999(40% OFF)</td>\n",
       "    </tr>\n",
       "    <tr>\n",
       "      <th>7</th>\n",
       "      <td>Rocia</td>\n",
       "      <td>Women Wedges</td>\n",
       "      <td>Rs. 1752Rs. 2190(20% OFF)</td>\n",
       "    </tr>\n",
       "    <tr>\n",
       "      <th>8</th>\n",
       "      <td>Sparx</td>\n",
       "      <td>Men SM-677 Running Shoes</td>\n",
       "      <td>Rs. 996Rs. 1049(5% OFF)</td>\n",
       "    </tr>\n",
       "    <tr>\n",
       "      <th>9</th>\n",
       "      <td>Provogue</td>\n",
       "      <td>Men Solid Loafers</td>\n",
       "      <td>Rs. 799Rs. 3995(80% OFF)</td>\n",
       "    </tr>\n",
       "    <tr>\n",
       "      <th>10</th>\n",
       "      <td>Roadster</td>\n",
       "      <td>Men Solid Sneakers</td>\n",
       "      <td>Rs. 699Rs. 1999(65% OFF)</td>\n",
       "    </tr>\n",
       "    <tr>\n",
       "      <th>11</th>\n",
       "      <td>U.S. Polo Assn.</td>\n",
       "      <td>Men Textured Loafers</td>\n",
       "      <td>Rs. 2879Rs. 3599(20% OFF)</td>\n",
       "    </tr>\n",
       "    <tr>\n",
       "      <th>12</th>\n",
       "      <td>Allen Cooper</td>\n",
       "      <td>Men Solid Running Shoes</td>\n",
       "      <td>Rs. 859Rs. 4295(80% OFF)</td>\n",
       "    </tr>\n",
       "    <tr>\n",
       "      <th>13</th>\n",
       "      <td>Crew STREET</td>\n",
       "      <td>Men Running Shoes</td>\n",
       "      <td>Rs. 1329Rs. 3799(65% OFF)</td>\n",
       "    </tr>\n",
       "    <tr>\n",
       "      <th>14</th>\n",
       "      <td>ALDO</td>\n",
       "      <td>Men Driving Shoes</td>\n",
       "      <td>Rs. 15999</td>\n",
       "    </tr>\n",
       "    <tr>\n",
       "      <th>15</th>\n",
       "      <td>Nike</td>\n",
       "      <td>Men ZOOM SPAN 3 Running Shoes</td>\n",
       "      <td>Rs. 4676Rs. 7195(35% OFF)</td>\n",
       "    </tr>\n",
       "    <tr>\n",
       "      <th>16</th>\n",
       "      <td>MENGLER</td>\n",
       "      <td>Men Walking Shoes</td>\n",
       "      <td>Rs. 649Rs. 2499(74% OFF)</td>\n",
       "    </tr>\n",
       "    <tr>\n",
       "      <th>17</th>\n",
       "      <td>Puma</td>\n",
       "      <td>Men Velocity CoolAdapt Running</td>\n",
       "      <td>Rs. 7199Rs. 11999(40% OFF)</td>\n",
       "    </tr>\n",
       "    <tr>\n",
       "      <th>18</th>\n",
       "      <td>ASIAN</td>\n",
       "      <td>Men White Road Running Shoes</td>\n",
       "      <td>Rs. 1499Rs. 1999(Rs. 500 OFF)</td>\n",
       "    </tr>\n",
       "    <tr>\n",
       "      <th>19</th>\n",
       "      <td>ADIDAS</td>\n",
       "      <td>Men ZELT SL 2.0 M Running</td>\n",
       "      <td>Rs. 2399Rs. 4799(50% OFF)</td>\n",
       "    </tr>\n",
       "  </tbody>\n",
       "</table>\n",
       "</div>"
      ],
      "text/plain": [
       "                   Brand              product_description  \\\n",
       "0   Newfeel By Decathlon                Men Walking Shoes   \n",
       "1                    H&M                  Men Espadrilles   \n",
       "2               Provogue         Men Walking Sports Shoes   \n",
       "3           Allen Cooper                Men Walking Shoes   \n",
       "4             Alishtezia  Women Colourblocked PU Sneakers   \n",
       "5                   Nike      Men Renew Retaliation Shoes   \n",
       "6                   Puma       Women Prowl Training Shoes   \n",
       "7                  Rocia                     Women Wedges   \n",
       "8                  Sparx         Men SM-677 Running Shoes   \n",
       "9               Provogue                Men Solid Loafers   \n",
       "10              Roadster               Men Solid Sneakers   \n",
       "11       U.S. Polo Assn.             Men Textured Loafers   \n",
       "12          Allen Cooper          Men Solid Running Shoes   \n",
       "13           Crew STREET                Men Running Shoes   \n",
       "14                  ALDO                Men Driving Shoes   \n",
       "15                  Nike    Men ZOOM SPAN 3 Running Shoes   \n",
       "16               MENGLER                Men Walking Shoes   \n",
       "17                  Puma   Men Velocity CoolAdapt Running   \n",
       "18                 ASIAN     Men White Road Running Shoes   \n",
       "19                ADIDAS        Men ZELT SL 2.0 M Running   \n",
       "\n",
       "                            price  \n",
       "0                         Rs. 899  \n",
       "1        Rs. 649Rs. 1299(50% OFF)  \n",
       "2        Rs. 848Rs. 3395(75% OFF)  \n",
       "3        Rs. 859Rs. 4295(80% OFF)  \n",
       "4        Rs. 799Rs. 1599(50% OFF)  \n",
       "5                        Rs. 5995  \n",
       "6       Rs. 2399Rs. 3999(40% OFF)  \n",
       "7       Rs. 1752Rs. 2190(20% OFF)  \n",
       "8         Rs. 996Rs. 1049(5% OFF)  \n",
       "9        Rs. 799Rs. 3995(80% OFF)  \n",
       "10       Rs. 699Rs. 1999(65% OFF)  \n",
       "11      Rs. 2879Rs. 3599(20% OFF)  \n",
       "12       Rs. 859Rs. 4295(80% OFF)  \n",
       "13      Rs. 1329Rs. 3799(65% OFF)  \n",
       "14                      Rs. 15999  \n",
       "15      Rs. 4676Rs. 7195(35% OFF)  \n",
       "16       Rs. 649Rs. 2499(74% OFF)  \n",
       "17     Rs. 7199Rs. 11999(40% OFF)  \n",
       "18  Rs. 1499Rs. 1999(Rs. 500 OFF)  \n",
       "19      Rs. 2399Rs. 4799(50% OFF)  "
      ]
     },
     "execution_count": 110,
     "metadata": {},
     "output_type": "execute_result"
    }
   ],
   "source": [
    "sneaker=pd.DataFrame({})\n",
    "sneaker['Brand']=brand[0:20]\n",
    "sneaker['product_description']=product_description[0:20]\n",
    "sneaker['price']=price[0:20]\n",
    "sneaker"
   ]
  },
  {
   "cell_type": "markdown",
   "id": "b060b726",
   "metadata": {},
   "source": [
    "# Q9: Go to the link - https://www.myntra.com/shoes\n",
    "Set Price filter to “Rs. 6649 to Rs. 13099” , Color filter to “Black”, as shown in \n",
    "the below image\n"
   ]
  },
  {
   "cell_type": "code",
   "execution_count": 115,
   "id": "29cc4a2e",
   "metadata": {},
   "outputs": [],
   "source": [
    "url=' https://www.myntra.com/shoes'\n",
    "driver.get(url)"
   ]
  },
  {
   "cell_type": "code",
   "execution_count": 117,
   "id": "c43057b3",
   "metadata": {},
   "outputs": [
    {
     "data": {
      "text/plain": [
       "[<selenium.webdriver.remote.webelement.WebElement (session=\"0d6082df2396b1905273759ecbd70612\", element=\"33df1beb-3e26-4609-b825-fb671749e744\")>,\n",
       " <selenium.webdriver.remote.webelement.WebElement (session=\"0d6082df2396b1905273759ecbd70612\", element=\"9bde021b-3aa6-4682-ae0d-296f6ff9e9cb\")>,\n",
       " <selenium.webdriver.remote.webelement.WebElement (session=\"0d6082df2396b1905273759ecbd70612\", element=\"f7a1ef19-db8b-4ba9-b14f-842e751dc6e7\")>,\n",
       " <selenium.webdriver.remote.webelement.WebElement (session=\"0d6082df2396b1905273759ecbd70612\", element=\"470eacd8-2a2f-4693-b90c-58cd40f8d95b\")>,\n",
       " <selenium.webdriver.remote.webelement.WebElement (session=\"0d6082df2396b1905273759ecbd70612\", element=\"9c565176-c86f-4ef9-81f3-324206357df0\")>,\n",
       " <selenium.webdriver.remote.webelement.WebElement (session=\"0d6082df2396b1905273759ecbd70612\", element=\"d2534e87-21b8-411f-9fc8-9059e127c6ce\")>,\n",
       " <selenium.webdriver.remote.webelement.WebElement (session=\"0d6082df2396b1905273759ecbd70612\", element=\"7ffa8431-3003-484f-9e44-1b961af0dd02\")>,\n",
       " <selenium.webdriver.remote.webelement.WebElement (session=\"0d6082df2396b1905273759ecbd70612\", element=\"a4bc19c1-8164-4fbc-a68f-2e57392c1d08\")>,\n",
       " <selenium.webdriver.remote.webelement.WebElement (session=\"0d6082df2396b1905273759ecbd70612\", element=\"fa2a8f79-b201-4ca6-9b27-ab8f105f612b\")>,\n",
       " <selenium.webdriver.remote.webelement.WebElement (session=\"0d6082df2396b1905273759ecbd70612\", element=\"25157946-b1e1-40c0-bb2a-dcbd8906f83c\")>,\n",
       " <selenium.webdriver.remote.webelement.WebElement (session=\"0d6082df2396b1905273759ecbd70612\", element=\"00f4141e-6c49-4a16-8695-ea57866d7370\")>,\n",
       " <selenium.webdriver.remote.webelement.WebElement (session=\"0d6082df2396b1905273759ecbd70612\", element=\"57465c6f-a2a1-49d7-bcde-ad0613819e1a\")>,\n",
       " <selenium.webdriver.remote.webelement.WebElement (session=\"0d6082df2396b1905273759ecbd70612\", element=\"ed2fba3a-c47d-4c9d-bae1-aecabedc6704\")>,\n",
       " <selenium.webdriver.remote.webelement.WebElement (session=\"0d6082df2396b1905273759ecbd70612\", element=\"c0f9a4d6-7e24-44de-b566-aa21da206ded\")>,\n",
       " <selenium.webdriver.remote.webelement.WebElement (session=\"0d6082df2396b1905273759ecbd70612\", element=\"856762e7-1951-44dd-8ebd-9e751f725e56\")>,\n",
       " <selenium.webdriver.remote.webelement.WebElement (session=\"0d6082df2396b1905273759ecbd70612\", element=\"cae3148d-ab2c-4182-9545-116a6b186245\")>,\n",
       " <selenium.webdriver.remote.webelement.WebElement (session=\"0d6082df2396b1905273759ecbd70612\", element=\"55944b9a-56ea-4e8c-b7b3-4a326dd2b343\")>,\n",
       " <selenium.webdriver.remote.webelement.WebElement (session=\"0d6082df2396b1905273759ecbd70612\", element=\"69f3132d-70d1-4878-bde5-31a57783e89e\")>,\n",
       " <selenium.webdriver.remote.webelement.WebElement (session=\"0d6082df2396b1905273759ecbd70612\", element=\"473ab3a4-7517-493a-a1f0-722d8b6f617c\")>,\n",
       " <selenium.webdriver.remote.webelement.WebElement (session=\"0d6082df2396b1905273759ecbd70612\", element=\"a30e9a47-1c22-47c3-97a5-6b78f87c6596\")>,\n",
       " <selenium.webdriver.remote.webelement.WebElement (session=\"0d6082df2396b1905273759ecbd70612\", element=\"f9f206fc-3c54-4362-9405-3426feb8f73a\")>,\n",
       " <selenium.webdriver.remote.webelement.WebElement (session=\"0d6082df2396b1905273759ecbd70612\", element=\"f266f22a-14b0-4b97-83fe-0cb1984fd979\")>,\n",
       " <selenium.webdriver.remote.webelement.WebElement (session=\"0d6082df2396b1905273759ecbd70612\", element=\"3e4be02b-49b1-4a9f-b360-d85f2edafc26\")>,\n",
       " <selenium.webdriver.remote.webelement.WebElement (session=\"0d6082df2396b1905273759ecbd70612\", element=\"1b16877c-1339-48ea-96a3-0c2946da4c07\")>,\n",
       " <selenium.webdriver.remote.webelement.WebElement (session=\"0d6082df2396b1905273759ecbd70612\", element=\"afccf4ce-0c86-46a9-bd64-4c19876b7d34\")>,\n",
       " <selenium.webdriver.remote.webelement.WebElement (session=\"0d6082df2396b1905273759ecbd70612\", element=\"b25a921e-2041-49d4-a421-c9a8ac8930f2\")>,\n",
       " <selenium.webdriver.remote.webelement.WebElement (session=\"0d6082df2396b1905273759ecbd70612\", element=\"1afb819e-f285-4fb6-8d2f-f2debe7ba7ba\")>,\n",
       " <selenium.webdriver.remote.webelement.WebElement (session=\"0d6082df2396b1905273759ecbd70612\", element=\"5a09411e-6ff9-4b44-8f04-7293e3051b5c\")>,\n",
       " <selenium.webdriver.remote.webelement.WebElement (session=\"0d6082df2396b1905273759ecbd70612\", element=\"4c572106-1eb9-40c6-9429-f3bab49ec952\")>,\n",
       " <selenium.webdriver.remote.webelement.WebElement (session=\"0d6082df2396b1905273759ecbd70612\", element=\"860d4102-7cc0-409e-b2f3-8d8d9bceb2ed\")>,\n",
       " <selenium.webdriver.remote.webelement.WebElement (session=\"0d6082df2396b1905273759ecbd70612\", element=\"70b8f5b1-8f06-4a12-8b0b-37104bf6eaca\")>,\n",
       " <selenium.webdriver.remote.webelement.WebElement (session=\"0d6082df2396b1905273759ecbd70612\", element=\"6b72f1cb-54da-431a-bea6-49da9a20fd9e\")>,\n",
       " <selenium.webdriver.remote.webelement.WebElement (session=\"0d6082df2396b1905273759ecbd70612\", element=\"9231ca03-49f7-469c-8ccb-8ce00ce634f9\")>,\n",
       " <selenium.webdriver.remote.webelement.WebElement (session=\"0d6082df2396b1905273759ecbd70612\", element=\"4a49a775-9aee-449e-9f14-945606b834e1\")>,\n",
       " <selenium.webdriver.remote.webelement.WebElement (session=\"0d6082df2396b1905273759ecbd70612\", element=\"c92bdd7c-a81d-4652-98dc-3d431f4e2da6\")>,\n",
       " <selenium.webdriver.remote.webelement.WebElement (session=\"0d6082df2396b1905273759ecbd70612\", element=\"effac338-fc2b-4fa9-9a80-7e80dd129fe8\")>,\n",
       " <selenium.webdriver.remote.webelement.WebElement (session=\"0d6082df2396b1905273759ecbd70612\", element=\"7a72d567-0a1f-44a3-ab69-b1741a1d3d77\")>,\n",
       " <selenium.webdriver.remote.webelement.WebElement (session=\"0d6082df2396b1905273759ecbd70612\", element=\"8f07f6bd-303a-4fe2-ad13-27fedad212b1\")>,\n",
       " <selenium.webdriver.remote.webelement.WebElement (session=\"0d6082df2396b1905273759ecbd70612\", element=\"d29a8048-7525-465f-97c9-226fbdaccb75\")>,\n",
       " <selenium.webdriver.remote.webelement.WebElement (session=\"0d6082df2396b1905273759ecbd70612\", element=\"1183bcde-2126-4507-be03-bfaa99b050a8\")>,\n",
       " <selenium.webdriver.remote.webelement.WebElement (session=\"0d6082df2396b1905273759ecbd70612\", element=\"be103076-60f5-4f2f-b2b9-6ae6218bb780\")>,\n",
       " <selenium.webdriver.remote.webelement.WebElement (session=\"0d6082df2396b1905273759ecbd70612\", element=\"3f35a014-c0aa-4f56-8023-0effa89c9619\")>,\n",
       " <selenium.webdriver.remote.webelement.WebElement (session=\"0d6082df2396b1905273759ecbd70612\", element=\"dd222c5a-3f0c-4a32-a2d8-b0bc5ad1ab71\")>,\n",
       " <selenium.webdriver.remote.webelement.WebElement (session=\"0d6082df2396b1905273759ecbd70612\", element=\"4a734fab-a8d1-4e6d-bd6a-045da5ef5395\")>,\n",
       " <selenium.webdriver.remote.webelement.WebElement (session=\"0d6082df2396b1905273759ecbd70612\", element=\"91054911-b3a5-4286-9060-4f6bf7a913ce\")>,\n",
       " <selenium.webdriver.remote.webelement.WebElement (session=\"0d6082df2396b1905273759ecbd70612\", element=\"00df138b-c6e9-411f-bed3-d7538aa7f56d\")>,\n",
       " <selenium.webdriver.remote.webelement.WebElement (session=\"0d6082df2396b1905273759ecbd70612\", element=\"f57456db-9b8d-497e-883f-bf52c7e3fd58\")>,\n",
       " <selenium.webdriver.remote.webelement.WebElement (session=\"0d6082df2396b1905273759ecbd70612\", element=\"6c769506-8ae9-4c98-a4ba-72b4470280cf\")>,\n",
       " <selenium.webdriver.remote.webelement.WebElement (session=\"0d6082df2396b1905273759ecbd70612\", element=\"a9209c46-761f-480b-9018-85ae0e2a1f3c\")>,\n",
       " <selenium.webdriver.remote.webelement.WebElement (session=\"0d6082df2396b1905273759ecbd70612\", element=\"ead26b3d-c2ae-4fc7-b92e-6146e1d9570b\")>]"
      ]
     },
     "execution_count": 117,
     "metadata": {},
     "output_type": "execute_result"
    }
   ],
   "source": [
    "company=driver.find_elements_by_xpath(\"//h3[@class='product-brand']\")\n",
    "company"
   ]
  },
  {
   "cell_type": "code",
   "execution_count": 120,
   "id": "ed7bdd39",
   "metadata": {},
   "outputs": [
    {
     "data": {
      "text/plain": [
       "['ALDO',\n",
       " 'ASICS',\n",
       " 'Nike',\n",
       " 'Nike',\n",
       " 'Geox',\n",
       " 'Hush Puppies',\n",
       " 'Puma',\n",
       " 'Puma',\n",
       " 'Nike',\n",
       " 'UNDER ARMOUR',\n",
       " 'FORCLAZ By Decathlon',\n",
       " 'Puma',\n",
       " 'Hush Puppies',\n",
       " 'Puma',\n",
       " 'Puma',\n",
       " 'UNDER ARMOUR',\n",
       " 'Puma',\n",
       " 'PUMA Hoops',\n",
       " 'Puma',\n",
       " 'PUMA Hoops',\n",
       " 'Puma',\n",
       " 'UNDER ARMOUR',\n",
       " 'Tommy Hilfiger',\n",
       " 'J.FONTINI',\n",
       " 'UNDER ARMOUR',\n",
       " 'ASICS',\n",
       " 'Puma',\n",
       " 'J.FONTINI',\n",
       " 'UNDER ARMOUR',\n",
       " 'Calvin Klein',\n",
       " 'ASICS',\n",
       " 'Hush Puppies',\n",
       " 'Geox',\n",
       " 'Hush Puppies',\n",
       " 'Puma',\n",
       " 'Bugatti',\n",
       " 'UNDER ARMOUR',\n",
       " 'ROSSO BRUNELLO',\n",
       " 'Geox',\n",
       " 'UNDER ARMOUR',\n",
       " 'Cole Haan',\n",
       " 'Hush Puppies',\n",
       " 'DAVINCHI',\n",
       " 'Geox',\n",
       " 'PUMA Motorsport',\n",
       " 'RARE RABBIT',\n",
       " 'Puma',\n",
       " 'Geox',\n",
       " 'Clarks',\n",
       " 'San Frissco']"
      ]
     },
     "execution_count": 120,
     "metadata": {},
     "output_type": "execute_result"
    }
   ],
   "source": [
    "brand=[]\n",
    "for i in company:\n",
    "    brand.append(i.text)\n",
    "brand    "
   ]
  },
  {
   "cell_type": "code",
   "execution_count": 119,
   "id": "5943790d",
   "metadata": {},
   "outputs": [
    {
     "data": {
      "text/plain": [
       "[<selenium.webdriver.remote.webelement.WebElement (session=\"0d6082df2396b1905273759ecbd70612\", element=\"b83059dd-ebac-4c8a-b70c-1f5097c0585b\")>,\n",
       " <selenium.webdriver.remote.webelement.WebElement (session=\"0d6082df2396b1905273759ecbd70612\", element=\"5a73e7ec-7418-486a-87e6-8a9ee09bc66d\")>,\n",
       " <selenium.webdriver.remote.webelement.WebElement (session=\"0d6082df2396b1905273759ecbd70612\", element=\"a76a3977-bbde-4bd7-8c48-a02f1452ee21\")>,\n",
       " <selenium.webdriver.remote.webelement.WebElement (session=\"0d6082df2396b1905273759ecbd70612\", element=\"69ffa972-b5bb-4c5b-b76a-a9b98f35ede7\")>,\n",
       " <selenium.webdriver.remote.webelement.WebElement (session=\"0d6082df2396b1905273759ecbd70612\", element=\"d6070a5c-defa-4793-9414-34cd27a70627\")>,\n",
       " <selenium.webdriver.remote.webelement.WebElement (session=\"0d6082df2396b1905273759ecbd70612\", element=\"d1aed4dc-3cae-4129-a748-f7eadc0d0918\")>,\n",
       " <selenium.webdriver.remote.webelement.WebElement (session=\"0d6082df2396b1905273759ecbd70612\", element=\"02bbd621-0d5a-4254-9718-109acd14e34c\")>,\n",
       " <selenium.webdriver.remote.webelement.WebElement (session=\"0d6082df2396b1905273759ecbd70612\", element=\"fdca53fe-bf5a-42b3-a4e1-3a67c6c3611d\")>,\n",
       " <selenium.webdriver.remote.webelement.WebElement (session=\"0d6082df2396b1905273759ecbd70612\", element=\"9343e9b8-7382-4b54-b1d0-47332fff0d1e\")>,\n",
       " <selenium.webdriver.remote.webelement.WebElement (session=\"0d6082df2396b1905273759ecbd70612\", element=\"279b94cb-cea2-449b-a212-b2240ca11216\")>,\n",
       " <selenium.webdriver.remote.webelement.WebElement (session=\"0d6082df2396b1905273759ecbd70612\", element=\"08d5f967-d943-4fc6-8c37-34c2226c6286\")>,\n",
       " <selenium.webdriver.remote.webelement.WebElement (session=\"0d6082df2396b1905273759ecbd70612\", element=\"76832137-986c-4b57-ad8f-c34856070ce1\")>,\n",
       " <selenium.webdriver.remote.webelement.WebElement (session=\"0d6082df2396b1905273759ecbd70612\", element=\"6f81a80a-9ae9-4429-97b6-2b3d4594a42f\")>,\n",
       " <selenium.webdriver.remote.webelement.WebElement (session=\"0d6082df2396b1905273759ecbd70612\", element=\"3992d217-407a-4bae-8a39-a6a14920647c\")>,\n",
       " <selenium.webdriver.remote.webelement.WebElement (session=\"0d6082df2396b1905273759ecbd70612\", element=\"1fa8f331-03b7-49e2-b46d-470dd3741427\")>,\n",
       " <selenium.webdriver.remote.webelement.WebElement (session=\"0d6082df2396b1905273759ecbd70612\", element=\"6734f627-60ae-4d18-a156-21c121ffbc5c\")>,\n",
       " <selenium.webdriver.remote.webelement.WebElement (session=\"0d6082df2396b1905273759ecbd70612\", element=\"35f9856e-b4a8-47ce-b92d-f007f317f49e\")>,\n",
       " <selenium.webdriver.remote.webelement.WebElement (session=\"0d6082df2396b1905273759ecbd70612\", element=\"f0a7b421-8ef6-40ef-903f-1e1607f11180\")>,\n",
       " <selenium.webdriver.remote.webelement.WebElement (session=\"0d6082df2396b1905273759ecbd70612\", element=\"f1b88d2b-24a2-4329-a4d6-a5cb3e5be1ee\")>,\n",
       " <selenium.webdriver.remote.webelement.WebElement (session=\"0d6082df2396b1905273759ecbd70612\", element=\"7da86ebd-ecdc-4b22-b72a-d7a4e7f3d22c\")>,\n",
       " <selenium.webdriver.remote.webelement.WebElement (session=\"0d6082df2396b1905273759ecbd70612\", element=\"54d6997d-b268-47a7-b2e1-4715a3317652\")>,\n",
       " <selenium.webdriver.remote.webelement.WebElement (session=\"0d6082df2396b1905273759ecbd70612\", element=\"8c8c4114-856f-4850-962f-a73b2beb9218\")>,\n",
       " <selenium.webdriver.remote.webelement.WebElement (session=\"0d6082df2396b1905273759ecbd70612\", element=\"4460d834-54e9-4543-9e1a-c4fb21653067\")>,\n",
       " <selenium.webdriver.remote.webelement.WebElement (session=\"0d6082df2396b1905273759ecbd70612\", element=\"2914e36b-0515-4bf5-9e39-f60fccb42555\")>,\n",
       " <selenium.webdriver.remote.webelement.WebElement (session=\"0d6082df2396b1905273759ecbd70612\", element=\"73ec0dae-f97c-469b-a595-f21557f74776\")>,\n",
       " <selenium.webdriver.remote.webelement.WebElement (session=\"0d6082df2396b1905273759ecbd70612\", element=\"93196def-85cf-4a46-a9c4-70bb16364517\")>,\n",
       " <selenium.webdriver.remote.webelement.WebElement (session=\"0d6082df2396b1905273759ecbd70612\", element=\"a050ddb5-3b88-4d1c-a26f-0cc7ccfd475b\")>,\n",
       " <selenium.webdriver.remote.webelement.WebElement (session=\"0d6082df2396b1905273759ecbd70612\", element=\"20d8bd1a-0226-4019-8841-a57a6c801935\")>,\n",
       " <selenium.webdriver.remote.webelement.WebElement (session=\"0d6082df2396b1905273759ecbd70612\", element=\"671cf968-592d-4853-a7b6-9d324f561c4b\")>,\n",
       " <selenium.webdriver.remote.webelement.WebElement (session=\"0d6082df2396b1905273759ecbd70612\", element=\"e1915260-abbc-49cd-954f-97a15ab4caa9\")>,\n",
       " <selenium.webdriver.remote.webelement.WebElement (session=\"0d6082df2396b1905273759ecbd70612\", element=\"40640bfb-c86f-4e78-bec4-e3d1e3d0f75e\")>,\n",
       " <selenium.webdriver.remote.webelement.WebElement (session=\"0d6082df2396b1905273759ecbd70612\", element=\"2030993e-d4c4-4caa-b4ba-ca2c0014a7bb\")>,\n",
       " <selenium.webdriver.remote.webelement.WebElement (session=\"0d6082df2396b1905273759ecbd70612\", element=\"fb644534-05ee-4f6a-8435-39713e65c6b7\")>,\n",
       " <selenium.webdriver.remote.webelement.WebElement (session=\"0d6082df2396b1905273759ecbd70612\", element=\"66b027cd-adee-43c2-aea5-b3c286a7acbe\")>,\n",
       " <selenium.webdriver.remote.webelement.WebElement (session=\"0d6082df2396b1905273759ecbd70612\", element=\"647d9f02-5a51-410f-8ea5-96fad379e30b\")>,\n",
       " <selenium.webdriver.remote.webelement.WebElement (session=\"0d6082df2396b1905273759ecbd70612\", element=\"c154519a-e46d-47e6-b62d-2bd3b38b1d2f\")>,\n",
       " <selenium.webdriver.remote.webelement.WebElement (session=\"0d6082df2396b1905273759ecbd70612\", element=\"4d757b25-3614-4fd0-be56-cf17f5ec65c3\")>,\n",
       " <selenium.webdriver.remote.webelement.WebElement (session=\"0d6082df2396b1905273759ecbd70612\", element=\"de93bf58-57b4-4d40-83f7-f2d049368fdd\")>,\n",
       " <selenium.webdriver.remote.webelement.WebElement (session=\"0d6082df2396b1905273759ecbd70612\", element=\"183ff4cf-6db2-4656-9f00-ddf2372381fa\")>,\n",
       " <selenium.webdriver.remote.webelement.WebElement (session=\"0d6082df2396b1905273759ecbd70612\", element=\"2b4c7b7f-9fc6-40e0-9d64-76a8e56723c6\")>,\n",
       " <selenium.webdriver.remote.webelement.WebElement (session=\"0d6082df2396b1905273759ecbd70612\", element=\"b277ad83-fc56-4b39-b9f1-230210ec5de8\")>,\n",
       " <selenium.webdriver.remote.webelement.WebElement (session=\"0d6082df2396b1905273759ecbd70612\", element=\"97bb0fe4-c003-476b-9b18-9121194ab727\")>,\n",
       " <selenium.webdriver.remote.webelement.WebElement (session=\"0d6082df2396b1905273759ecbd70612\", element=\"4e3cae31-bdcb-433a-89a7-3b6748bd89c3\")>,\n",
       " <selenium.webdriver.remote.webelement.WebElement (session=\"0d6082df2396b1905273759ecbd70612\", element=\"080eac30-1e38-43d9-97fd-6cf806df6ddb\")>,\n",
       " <selenium.webdriver.remote.webelement.WebElement (session=\"0d6082df2396b1905273759ecbd70612\", element=\"57d9d9c5-88cb-459f-b3ea-c11eb0b20861\")>,\n",
       " <selenium.webdriver.remote.webelement.WebElement (session=\"0d6082df2396b1905273759ecbd70612\", element=\"784c5050-2ec0-43e1-aff1-f8f8b14f46cc\")>,\n",
       " <selenium.webdriver.remote.webelement.WebElement (session=\"0d6082df2396b1905273759ecbd70612\", element=\"09eca53b-40c5-42e0-8eef-e8a788d43ac8\")>,\n",
       " <selenium.webdriver.remote.webelement.WebElement (session=\"0d6082df2396b1905273759ecbd70612\", element=\"d29c5f9a-9f90-4c63-94e1-8b0cd5772704\")>,\n",
       " <selenium.webdriver.remote.webelement.WebElement (session=\"0d6082df2396b1905273759ecbd70612\", element=\"dbd75b59-428a-4a7e-a7d5-0e5218aefed7\")>,\n",
       " <selenium.webdriver.remote.webelement.WebElement (session=\"0d6082df2396b1905273759ecbd70612\", element=\"dc193296-9bc3-40d2-9abb-fa7619744ea4\")>]"
      ]
     },
     "execution_count": 119,
     "metadata": {},
     "output_type": "execute_result"
    }
   ],
   "source": [
    "description=driver.find_elements_by_xpath(\"//h4[@class='product-product']\")\n",
    "description"
   ]
  },
  {
   "cell_type": "code",
   "execution_count": 121,
   "id": "0752cad1",
   "metadata": {},
   "outputs": [
    {
     "data": {
      "text/plain": [
       "['Men Driving Shoes',\n",
       " 'Men Tennis Shoes',\n",
       " 'Men Flex Run 2021 Running Shoe',\n",
       " 'Men Flex 2021 Running Shoes',\n",
       " 'Men Sneakers',\n",
       " 'Men Solid Leather Formal Slip-Ons',\n",
       " 'Men Cell Fraction Fade Running',\n",
       " 'Mesh Hybrid Fuego Running',\n",
       " \"Men BlazerLow '77 Sneakers\",\n",
       " 'Men Charged Commit 3 Training',\n",
       " 'TREKKING 100 Boots',\n",
       " 'Men Liberate Nitro Running',\n",
       " 'Men Solid Leather Formal Slip-Ons',\n",
       " 'Men BlackTraining or Gym Shoes',\n",
       " 'Women Deviate Nitro Running',\n",
       " 'GS SC 3Zero IV Basketball',\n",
       " 'Men Velocity Nitro Running',\n",
       " 'Unisex Clyde Basketball Shoes',\n",
       " 'Men FUSE Training Shoes',\n",
       " 'Unisex Clyde Basketball Shoes',\n",
       " 'Women Velocity Nitro Running',\n",
       " 'Women Charged Bandit 6 Running',\n",
       " 'Men Striped Leather Sneakers',\n",
       " 'Men Textured Leather Loafers',\n",
       " 'Men HOVR Sonic STRT Tech Shoes',\n",
       " 'Women GlideRide Running Shoes',\n",
       " 'Men Liberate NITRO Running',\n",
       " 'Men Solid Loafers',\n",
       " 'Women HOVR Sonic 4 FnRn',\n",
       " 'Men Loafers',\n",
       " 'Men Black Running Sports Shoes',\n",
       " 'Men Leather Slip-On Sneakers',\n",
       " 'Men Solid Sneakers',\n",
       " 'Men Formal Derbys',\n",
       " 'Men Black Shoes',\n",
       " 'Men Running Shoes',\n",
       " 'Women Charged Vantage ClrShft',\n",
       " 'Men Solid Leather Formal Monk Shoes',\n",
       " 'Men Semi-Formal Slip-Ons',\n",
       " 'Women Charged Assert 8 Running',\n",
       " 'Leather Sneakers',\n",
       " 'Men Solid Leather Formal Derbys',\n",
       " 'Men Textured Formal Leather Loafers',\n",
       " 'Men Textured Leather Driving Shoes',\n",
       " 'Unisex FerrariRS-Fast Sneakers',\n",
       " 'Men Leather Flat Boots',\n",
       " 'Men Hybrid Fuego Running Shoes',\n",
       " 'Men Leather Sneakers',\n",
       " 'Men Solid Formal Leather Derbys',\n",
       " 'Men Leather Loafers']"
      ]
     },
     "execution_count": 121,
     "metadata": {},
     "output_type": "execute_result"
    }
   ],
   "source": [
    "product_description=[]\n",
    "for i in description:\n",
    "    product_description.append(i.text)\n",
    "product_description    "
   ]
  },
  {
   "cell_type": "code",
   "execution_count": 123,
   "id": "df058ef6",
   "metadata": {},
   "outputs": [
    {
     "data": {
      "text/plain": [
       "[<selenium.webdriver.remote.webelement.WebElement (session=\"0d6082df2396b1905273759ecbd70612\", element=\"f0fa8342-6362-43f8-a5fd-1aed14847ce9\")>,\n",
       " <selenium.webdriver.remote.webelement.WebElement (session=\"0d6082df2396b1905273759ecbd70612\", element=\"a16c8afa-7e66-45e1-92a2-a95e65f41116\")>,\n",
       " <selenium.webdriver.remote.webelement.WebElement (session=\"0d6082df2396b1905273759ecbd70612\", element=\"6f5f64bd-67b3-4451-9e82-1104459800ef\")>,\n",
       " <selenium.webdriver.remote.webelement.WebElement (session=\"0d6082df2396b1905273759ecbd70612\", element=\"28bcfd32-48ae-418c-bc16-abc99f4da68a\")>,\n",
       " <selenium.webdriver.remote.webelement.WebElement (session=\"0d6082df2396b1905273759ecbd70612\", element=\"b5a9663c-96de-4a0d-8592-8745b9019383\")>,\n",
       " <selenium.webdriver.remote.webelement.WebElement (session=\"0d6082df2396b1905273759ecbd70612\", element=\"23b6754f-de8a-4212-86fc-29f0218ebf61\")>,\n",
       " <selenium.webdriver.remote.webelement.WebElement (session=\"0d6082df2396b1905273759ecbd70612\", element=\"d871fd7b-c9d5-468a-b260-e15bff542227\")>,\n",
       " <selenium.webdriver.remote.webelement.WebElement (session=\"0d6082df2396b1905273759ecbd70612\", element=\"5966ca40-b1de-4fcb-8560-cce05fecade7\")>,\n",
       " <selenium.webdriver.remote.webelement.WebElement (session=\"0d6082df2396b1905273759ecbd70612\", element=\"7b714a9f-6f21-4717-9d81-af2bea22a4eb\")>,\n",
       " <selenium.webdriver.remote.webelement.WebElement (session=\"0d6082df2396b1905273759ecbd70612\", element=\"48a1360b-fb3e-4871-82d2-553e347c98c5\")>,\n",
       " <selenium.webdriver.remote.webelement.WebElement (session=\"0d6082df2396b1905273759ecbd70612\", element=\"2b906be0-2f37-4a4a-a5e9-7a1943a17318\")>,\n",
       " <selenium.webdriver.remote.webelement.WebElement (session=\"0d6082df2396b1905273759ecbd70612\", element=\"50ef160f-cf1f-4491-88d7-a126509f3c0e\")>,\n",
       " <selenium.webdriver.remote.webelement.WebElement (session=\"0d6082df2396b1905273759ecbd70612\", element=\"2e435281-fb0d-4dcc-b60d-061399edae9e\")>,\n",
       " <selenium.webdriver.remote.webelement.WebElement (session=\"0d6082df2396b1905273759ecbd70612\", element=\"e5840bc6-5320-4070-bd9c-096a14b4f3fe\")>,\n",
       " <selenium.webdriver.remote.webelement.WebElement (session=\"0d6082df2396b1905273759ecbd70612\", element=\"d44518e2-98c2-40ed-abea-7aee1c73e1ab\")>,\n",
       " <selenium.webdriver.remote.webelement.WebElement (session=\"0d6082df2396b1905273759ecbd70612\", element=\"23be3738-1f83-4bf7-9ec1-dba7a5ab518c\")>,\n",
       " <selenium.webdriver.remote.webelement.WebElement (session=\"0d6082df2396b1905273759ecbd70612\", element=\"1ff67413-affa-4520-b63b-4d5c9c0f76af\")>,\n",
       " <selenium.webdriver.remote.webelement.WebElement (session=\"0d6082df2396b1905273759ecbd70612\", element=\"b1423a74-4dee-4846-b35c-c53ddaa10bbc\")>,\n",
       " <selenium.webdriver.remote.webelement.WebElement (session=\"0d6082df2396b1905273759ecbd70612\", element=\"d4c53061-31fd-4df7-9d2e-e5a193e05d8f\")>,\n",
       " <selenium.webdriver.remote.webelement.WebElement (session=\"0d6082df2396b1905273759ecbd70612\", element=\"e4233d14-ffc6-4a82-8d6a-dda000fd71f3\")>,\n",
       " <selenium.webdriver.remote.webelement.WebElement (session=\"0d6082df2396b1905273759ecbd70612\", element=\"b5342fc8-004f-4d49-b9ab-ede3c2143477\")>,\n",
       " <selenium.webdriver.remote.webelement.WebElement (session=\"0d6082df2396b1905273759ecbd70612\", element=\"9ecbdf6c-39af-412a-9271-cc70f5e7e39a\")>,\n",
       " <selenium.webdriver.remote.webelement.WebElement (session=\"0d6082df2396b1905273759ecbd70612\", element=\"f95f29ba-c871-4e1e-b6ee-0d852a34ac27\")>,\n",
       " <selenium.webdriver.remote.webelement.WebElement (session=\"0d6082df2396b1905273759ecbd70612\", element=\"457601b6-a7ac-4511-8c58-28c10ecd949f\")>,\n",
       " <selenium.webdriver.remote.webelement.WebElement (session=\"0d6082df2396b1905273759ecbd70612\", element=\"3617c528-21ac-4d4b-8b1f-a57d16501e9f\")>,\n",
       " <selenium.webdriver.remote.webelement.WebElement (session=\"0d6082df2396b1905273759ecbd70612\", element=\"252dd623-946a-4643-af8b-7486efefe68a\")>,\n",
       " <selenium.webdriver.remote.webelement.WebElement (session=\"0d6082df2396b1905273759ecbd70612\", element=\"b3097ec5-e4e6-46a2-8372-14eb998c7308\")>,\n",
       " <selenium.webdriver.remote.webelement.WebElement (session=\"0d6082df2396b1905273759ecbd70612\", element=\"67ad331c-21e0-47e6-89ce-8a3512b16820\")>,\n",
       " <selenium.webdriver.remote.webelement.WebElement (session=\"0d6082df2396b1905273759ecbd70612\", element=\"ecfd00bf-b6a9-45ff-8054-d05a4eb3be4f\")>,\n",
       " <selenium.webdriver.remote.webelement.WebElement (session=\"0d6082df2396b1905273759ecbd70612\", element=\"24ae423f-8015-424b-a161-415a1f06ec83\")>,\n",
       " <selenium.webdriver.remote.webelement.WebElement (session=\"0d6082df2396b1905273759ecbd70612\", element=\"65d8d3b9-a60a-4e9c-aff5-10e3ab9ce094\")>,\n",
       " <selenium.webdriver.remote.webelement.WebElement (session=\"0d6082df2396b1905273759ecbd70612\", element=\"2cef7d21-6bbf-490a-bcd8-0c796f2fa9f7\")>,\n",
       " <selenium.webdriver.remote.webelement.WebElement (session=\"0d6082df2396b1905273759ecbd70612\", element=\"da65d6c5-d942-4a29-ad76-370a0323ca09\")>,\n",
       " <selenium.webdriver.remote.webelement.WebElement (session=\"0d6082df2396b1905273759ecbd70612\", element=\"f34977e5-51ac-4812-8da3-0e2cae1433a2\")>,\n",
       " <selenium.webdriver.remote.webelement.WebElement (session=\"0d6082df2396b1905273759ecbd70612\", element=\"7005d744-e4dd-4a3a-837c-f7bb111e5ba6\")>,\n",
       " <selenium.webdriver.remote.webelement.WebElement (session=\"0d6082df2396b1905273759ecbd70612\", element=\"fbbd29ee-1de4-4787-ad4f-80a78c48ab8a\")>,\n",
       " <selenium.webdriver.remote.webelement.WebElement (session=\"0d6082df2396b1905273759ecbd70612\", element=\"05523857-8a1a-415d-a0e0-076746173f82\")>,\n",
       " <selenium.webdriver.remote.webelement.WebElement (session=\"0d6082df2396b1905273759ecbd70612\", element=\"710324c5-5a89-4535-be19-470225db5b95\")>,\n",
       " <selenium.webdriver.remote.webelement.WebElement (session=\"0d6082df2396b1905273759ecbd70612\", element=\"5d9f7372-3f75-4cc1-af0f-138ac8f213c6\")>,\n",
       " <selenium.webdriver.remote.webelement.WebElement (session=\"0d6082df2396b1905273759ecbd70612\", element=\"e13def4f-da0d-492f-b47c-b7a8bb7668ea\")>,\n",
       " <selenium.webdriver.remote.webelement.WebElement (session=\"0d6082df2396b1905273759ecbd70612\", element=\"eaccc992-dd3d-40c6-8e52-2ec787904092\")>,\n",
       " <selenium.webdriver.remote.webelement.WebElement (session=\"0d6082df2396b1905273759ecbd70612\", element=\"a8ffbf4a-5d03-4d0b-86a5-1ba19b7a7bbd\")>,\n",
       " <selenium.webdriver.remote.webelement.WebElement (session=\"0d6082df2396b1905273759ecbd70612\", element=\"91dd08c8-0512-402e-b1bc-86cd94815c68\")>,\n",
       " <selenium.webdriver.remote.webelement.WebElement (session=\"0d6082df2396b1905273759ecbd70612\", element=\"39be1d32-8ebf-4d24-9698-c638e5927dbc\")>,\n",
       " <selenium.webdriver.remote.webelement.WebElement (session=\"0d6082df2396b1905273759ecbd70612\", element=\"cdb400f2-6422-4a4f-8142-a09a26847a6d\")>,\n",
       " <selenium.webdriver.remote.webelement.WebElement (session=\"0d6082df2396b1905273759ecbd70612\", element=\"d06df6ce-367c-4498-81f0-2da475b4f4e8\")>,\n",
       " <selenium.webdriver.remote.webelement.WebElement (session=\"0d6082df2396b1905273759ecbd70612\", element=\"bbe2d7da-630e-4fb2-a800-8893d81ffb9f\")>,\n",
       " <selenium.webdriver.remote.webelement.WebElement (session=\"0d6082df2396b1905273759ecbd70612\", element=\"530ff6a1-e7dd-4315-97cb-ff2393fbb722\")>,\n",
       " <selenium.webdriver.remote.webelement.WebElement (session=\"0d6082df2396b1905273759ecbd70612\", element=\"053776f4-5629-471c-86f0-82cd6d1281cd\")>,\n",
       " <selenium.webdriver.remote.webelement.WebElement (session=\"0d6082df2396b1905273759ecbd70612\", element=\"1ba8295e-f989-427f-bc3e-383b43615a61\")>]"
      ]
     },
     "execution_count": 123,
     "metadata": {},
     "output_type": "execute_result"
    }
   ],
   "source": [
    "prices=driver.find_elements_by_xpath(\"//div[@class='product-price']\")\n",
    "prices                                     "
   ]
  },
  {
   "cell_type": "code",
   "execution_count": 124,
   "id": "0dfeb444",
   "metadata": {},
   "outputs": [
    {
     "data": {
      "text/plain": [
       "['Rs. 11999',\n",
       " 'Rs. 9999',\n",
       " 'Rs. 6795',\n",
       " 'Rs. 6795',\n",
       " 'Rs. 9999',\n",
       " 'Rs. 8999Rs. 9999(10% OFF)',\n",
       " 'Rs. 6999',\n",
       " 'Rs. 6999',\n",
       " 'Rs. 7195',\n",
       " 'Rs. 7999',\n",
       " 'Rs. 6999',\n",
       " 'Rs. 6799Rs. 9999(32% OFF)',\n",
       " 'Rs. 8099Rs. 8999(10% OFF)',\n",
       " 'Rs. 6999',\n",
       " 'Rs. 8249Rs. 14999(45% OFF)',\n",
       " 'Rs. 7499',\n",
       " 'Rs. 10999',\n",
       " 'Rs. 7149Rs. 10999(35% OFF)',\n",
       " 'Rs. 7999',\n",
       " 'Rs. 8999',\n",
       " 'Rs. 7149Rs. 10999(35% OFF)',\n",
       " 'Rs. 8999',\n",
       " 'Rs. 6839Rs. 7599(10% OFF)',\n",
       " 'Rs. 7990',\n",
       " 'Rs. 9999',\n",
       " 'Rs. 11199Rs. 13999(20% OFF)',\n",
       " 'Rs. 9999',\n",
       " 'Rs. 8990',\n",
       " 'Rs. 10999',\n",
       " 'Rs. 7199Rs. 8999(20% OFF)',\n",
       " 'Rs. 7999',\n",
       " 'Rs. 6999Rs. 9999(30% OFF)',\n",
       " 'Rs. 9999',\n",
       " 'Rs. 8999Rs. 9999(10% OFF)',\n",
       " 'Rs. 6999',\n",
       " 'Rs. 6799Rs. 8499(20% OFF)',\n",
       " 'Rs. 7999',\n",
       " 'Rs. 12999',\n",
       " 'Rs. 10999',\n",
       " 'Rs. 6999',\n",
       " 'Rs. 10999',\n",
       " 'Rs. 8999Rs. 9999(10% OFF)',\n",
       " 'Rs. 8990',\n",
       " 'Rs. 9999',\n",
       " 'Rs. 9999',\n",
       " 'Rs. 9999',\n",
       " 'Rs. 6999',\n",
       " 'Rs. 8249Rs. 10999(25% OFF)',\n",
       " 'Rs. 6999Rs. 9999(30% OFF)',\n",
       " 'Rs. 6747Rs. 14995(55% OFF)']"
      ]
     },
     "execution_count": 124,
     "metadata": {},
     "output_type": "execute_result"
    }
   ],
   "source": [
    "price=[]\n",
    "for i in prices:\n",
    "    price.append(i.text)\n",
    "price    "
   ]
  },
  {
   "cell_type": "code",
   "execution_count": 126,
   "id": "384b7db8",
   "metadata": {},
   "outputs": [
    {
     "data": {
      "text/html": [
       "<div>\n",
       "<style scoped>\n",
       "    .dataframe tbody tr th:only-of-type {\n",
       "        vertical-align: middle;\n",
       "    }\n",
       "\n",
       "    .dataframe tbody tr th {\n",
       "        vertical-align: top;\n",
       "    }\n",
       "\n",
       "    .dataframe thead th {\n",
       "        text-align: right;\n",
       "    }\n",
       "</style>\n",
       "<table border=\"1\" class=\"dataframe\">\n",
       "  <thead>\n",
       "    <tr style=\"text-align: right;\">\n",
       "      <th></th>\n",
       "      <th>Brand</th>\n",
       "      <th>product_description</th>\n",
       "      <th>price</th>\n",
       "    </tr>\n",
       "  </thead>\n",
       "  <tbody>\n",
       "    <tr>\n",
       "      <th>0</th>\n",
       "      <td>ALDO</td>\n",
       "      <td>Men Driving Shoes</td>\n",
       "      <td>Rs. 11999</td>\n",
       "    </tr>\n",
       "    <tr>\n",
       "      <th>1</th>\n",
       "      <td>ASICS</td>\n",
       "      <td>Men Tennis Shoes</td>\n",
       "      <td>Rs. 9999</td>\n",
       "    </tr>\n",
       "    <tr>\n",
       "      <th>2</th>\n",
       "      <td>Nike</td>\n",
       "      <td>Men Flex Run 2021 Running Shoe</td>\n",
       "      <td>Rs. 6795</td>\n",
       "    </tr>\n",
       "    <tr>\n",
       "      <th>3</th>\n",
       "      <td>Nike</td>\n",
       "      <td>Men Flex 2021 Running Shoes</td>\n",
       "      <td>Rs. 6795</td>\n",
       "    </tr>\n",
       "    <tr>\n",
       "      <th>4</th>\n",
       "      <td>Geox</td>\n",
       "      <td>Men Sneakers</td>\n",
       "      <td>Rs. 9999</td>\n",
       "    </tr>\n",
       "    <tr>\n",
       "      <th>5</th>\n",
       "      <td>Hush Puppies</td>\n",
       "      <td>Men Solid Leather Formal Slip-Ons</td>\n",
       "      <td>Rs. 8999Rs. 9999(10% OFF)</td>\n",
       "    </tr>\n",
       "    <tr>\n",
       "      <th>6</th>\n",
       "      <td>Puma</td>\n",
       "      <td>Men Cell Fraction Fade Running</td>\n",
       "      <td>Rs. 6999</td>\n",
       "    </tr>\n",
       "    <tr>\n",
       "      <th>7</th>\n",
       "      <td>Puma</td>\n",
       "      <td>Mesh Hybrid Fuego Running</td>\n",
       "      <td>Rs. 6999</td>\n",
       "    </tr>\n",
       "    <tr>\n",
       "      <th>8</th>\n",
       "      <td>Nike</td>\n",
       "      <td>Men BlazerLow '77 Sneakers</td>\n",
       "      <td>Rs. 7195</td>\n",
       "    </tr>\n",
       "    <tr>\n",
       "      <th>9</th>\n",
       "      <td>UNDER ARMOUR</td>\n",
       "      <td>Men Charged Commit 3 Training</td>\n",
       "      <td>Rs. 7999</td>\n",
       "    </tr>\n",
       "    <tr>\n",
       "      <th>10</th>\n",
       "      <td>FORCLAZ By Decathlon</td>\n",
       "      <td>TREKKING 100 Boots</td>\n",
       "      <td>Rs. 6999</td>\n",
       "    </tr>\n",
       "    <tr>\n",
       "      <th>11</th>\n",
       "      <td>Puma</td>\n",
       "      <td>Men Liberate Nitro Running</td>\n",
       "      <td>Rs. 6799Rs. 9999(32% OFF)</td>\n",
       "    </tr>\n",
       "    <tr>\n",
       "      <th>12</th>\n",
       "      <td>Hush Puppies</td>\n",
       "      <td>Men Solid Leather Formal Slip-Ons</td>\n",
       "      <td>Rs. 8099Rs. 8999(10% OFF)</td>\n",
       "    </tr>\n",
       "    <tr>\n",
       "      <th>13</th>\n",
       "      <td>Puma</td>\n",
       "      <td>Men BlackTraining or Gym Shoes</td>\n",
       "      <td>Rs. 6999</td>\n",
       "    </tr>\n",
       "    <tr>\n",
       "      <th>14</th>\n",
       "      <td>Puma</td>\n",
       "      <td>Women Deviate Nitro Running</td>\n",
       "      <td>Rs. 8249Rs. 14999(45% OFF)</td>\n",
       "    </tr>\n",
       "    <tr>\n",
       "      <th>15</th>\n",
       "      <td>UNDER ARMOUR</td>\n",
       "      <td>GS SC 3Zero IV Basketball</td>\n",
       "      <td>Rs. 7499</td>\n",
       "    </tr>\n",
       "    <tr>\n",
       "      <th>16</th>\n",
       "      <td>Puma</td>\n",
       "      <td>Men Velocity Nitro Running</td>\n",
       "      <td>Rs. 10999</td>\n",
       "    </tr>\n",
       "    <tr>\n",
       "      <th>17</th>\n",
       "      <td>PUMA Hoops</td>\n",
       "      <td>Unisex Clyde Basketball Shoes</td>\n",
       "      <td>Rs. 7149Rs. 10999(35% OFF)</td>\n",
       "    </tr>\n",
       "    <tr>\n",
       "      <th>18</th>\n",
       "      <td>Puma</td>\n",
       "      <td>Men FUSE Training Shoes</td>\n",
       "      <td>Rs. 7999</td>\n",
       "    </tr>\n",
       "    <tr>\n",
       "      <th>19</th>\n",
       "      <td>PUMA Hoops</td>\n",
       "      <td>Unisex Clyde Basketball Shoes</td>\n",
       "      <td>Rs. 8999</td>\n",
       "    </tr>\n",
       "  </tbody>\n",
       "</table>\n",
       "</div>"
      ],
      "text/plain": [
       "                   Brand                product_description  \\\n",
       "0                   ALDO                  Men Driving Shoes   \n",
       "1                  ASICS                   Men Tennis Shoes   \n",
       "2                   Nike     Men Flex Run 2021 Running Shoe   \n",
       "3                   Nike        Men Flex 2021 Running Shoes   \n",
       "4                   Geox                       Men Sneakers   \n",
       "5           Hush Puppies  Men Solid Leather Formal Slip-Ons   \n",
       "6                   Puma     Men Cell Fraction Fade Running   \n",
       "7                   Puma          Mesh Hybrid Fuego Running   \n",
       "8                   Nike         Men BlazerLow '77 Sneakers   \n",
       "9           UNDER ARMOUR      Men Charged Commit 3 Training   \n",
       "10  FORCLAZ By Decathlon                 TREKKING 100 Boots   \n",
       "11                  Puma         Men Liberate Nitro Running   \n",
       "12          Hush Puppies  Men Solid Leather Formal Slip-Ons   \n",
       "13                  Puma     Men BlackTraining or Gym Shoes   \n",
       "14                  Puma        Women Deviate Nitro Running   \n",
       "15          UNDER ARMOUR          GS SC 3Zero IV Basketball   \n",
       "16                  Puma         Men Velocity Nitro Running   \n",
       "17            PUMA Hoops      Unisex Clyde Basketball Shoes   \n",
       "18                  Puma            Men FUSE Training Shoes   \n",
       "19            PUMA Hoops      Unisex Clyde Basketball Shoes   \n",
       "\n",
       "                         price  \n",
       "0                    Rs. 11999  \n",
       "1                     Rs. 9999  \n",
       "2                     Rs. 6795  \n",
       "3                     Rs. 6795  \n",
       "4                     Rs. 9999  \n",
       "5    Rs. 8999Rs. 9999(10% OFF)  \n",
       "6                     Rs. 6999  \n",
       "7                     Rs. 6999  \n",
       "8                     Rs. 7195  \n",
       "9                     Rs. 7999  \n",
       "10                    Rs. 6999  \n",
       "11   Rs. 6799Rs. 9999(32% OFF)  \n",
       "12   Rs. 8099Rs. 8999(10% OFF)  \n",
       "13                    Rs. 6999  \n",
       "14  Rs. 8249Rs. 14999(45% OFF)  \n",
       "15                    Rs. 7499  \n",
       "16                   Rs. 10999  \n",
       "17  Rs. 7149Rs. 10999(35% OFF)  \n",
       "18                    Rs. 7999  \n",
       "19                    Rs. 8999  "
      ]
     },
     "execution_count": 126,
     "metadata": {},
     "output_type": "execute_result"
    }
   ],
   "source": [
    "shoes=pd.DataFrame({})\n",
    "shoes['Brand']=brand[0:20]\n",
    "shoes['product_description']=product_description[0:20]\n",
    "shoes['price']=price[0:20]\n",
    "shoes"
   ]
  },
  {
   "cell_type": "markdown",
   "id": "f63af731",
   "metadata": {},
   "source": [
    "# Q10: Go to webpage https://www.amazon.in/\n",
    " Enter “Laptop” in the search field and then click the search icon.\n",
    " Then set CPU Type filter to “Intel Core i7” and “Intel Core i9” as shown in the \n",
    "below image"
   ]
  },
  {
   "cell_type": "code",
   "execution_count": 28,
   "id": "c7da8b2a",
   "metadata": {},
   "outputs": [],
   "source": [
    "url='https://www.amazon.in/'\n",
    "driver.get(url)"
   ]
  },
  {
   "cell_type": "code",
   "execution_count": 29,
   "id": "72b3f5d7",
   "metadata": {},
   "outputs": [
    {
     "data": {
      "text/plain": [
       "<selenium.webdriver.remote.webelement.WebElement (session=\"39f45c0dfc7a84b43035a4ab10aae400\", element=\"eabbb372-e670-408d-ba97-935d0cb5b7fd\")>"
      ]
     },
     "execution_count": 29,
     "metadata": {},
     "output_type": "execute_result"
    }
   ],
   "source": [
    "search_laptop=driver.find_element_by_id('twotabsearchtextbox')\n",
    "search_laptop"
   ]
  },
  {
   "cell_type": "code",
   "execution_count": 30,
   "id": "09a0513f",
   "metadata": {},
   "outputs": [],
   "source": [
    "search_laptop.send_keys(\"laptop\")"
   ]
  },
  {
   "cell_type": "code",
   "execution_count": 31,
   "id": "14cc8565",
   "metadata": {},
   "outputs": [],
   "source": [
    "search_bar=driver.find_element_by_id('nav-search-submit-button')\n",
    "search_bar.click()"
   ]
  },
  {
   "cell_type": "code",
   "execution_count": 32,
   "id": "203753dc",
   "metadata": {},
   "outputs": [
    {
     "data": {
      "text/plain": [
       "[<selenium.webdriver.remote.webelement.WebElement (session=\"39f45c0dfc7a84b43035a4ab10aae400\", element=\"6586fe41-2545-4000-8ad4-ad32e3c44bce\")>,\n",
       " <selenium.webdriver.remote.webelement.WebElement (session=\"39f45c0dfc7a84b43035a4ab10aae400\", element=\"5525a2e4-558e-4526-be05-ae56030b0f26\")>,\n",
       " <selenium.webdriver.remote.webelement.WebElement (session=\"39f45c0dfc7a84b43035a4ab10aae400\", element=\"108def31-49b4-43dd-bcf3-ac5fa6a93e56\")>,\n",
       " <selenium.webdriver.remote.webelement.WebElement (session=\"39f45c0dfc7a84b43035a4ab10aae400\", element=\"49639fde-4e0e-4088-b65a-d98c41ca409a\")>,\n",
       " <selenium.webdriver.remote.webelement.WebElement (session=\"39f45c0dfc7a84b43035a4ab10aae400\", element=\"a5831f4b-4974-4605-a9d2-126eb2b0a032\")>,\n",
       " <selenium.webdriver.remote.webelement.WebElement (session=\"39f45c0dfc7a84b43035a4ab10aae400\", element=\"5fc1bfa6-fbd8-4a0c-b326-7d20170615b5\")>,\n",
       " <selenium.webdriver.remote.webelement.WebElement (session=\"39f45c0dfc7a84b43035a4ab10aae400\", element=\"beb25c94-fe8f-4ad5-9bb0-6553383f559b\")>,\n",
       " <selenium.webdriver.remote.webelement.WebElement (session=\"39f45c0dfc7a84b43035a4ab10aae400\", element=\"e504070c-61c2-400f-ac5f-8ee8a5b247be\")>,\n",
       " <selenium.webdriver.remote.webelement.WebElement (session=\"39f45c0dfc7a84b43035a4ab10aae400\", element=\"d9db962d-f1c5-4434-a85f-6c9f0e7ab7d0\")>,\n",
       " <selenium.webdriver.remote.webelement.WebElement (session=\"39f45c0dfc7a84b43035a4ab10aae400\", element=\"f19b9345-2ad8-4c8a-bb66-c52e1ffc5d0f\")>,\n",
       " <selenium.webdriver.remote.webelement.WebElement (session=\"39f45c0dfc7a84b43035a4ab10aae400\", element=\"56569060-cc0c-4f91-9989-e606215f20f1\")>,\n",
       " <selenium.webdriver.remote.webelement.WebElement (session=\"39f45c0dfc7a84b43035a4ab10aae400\", element=\"9dc920d6-dbd0-4e08-9b1f-509f492685dc\")>,\n",
       " <selenium.webdriver.remote.webelement.WebElement (session=\"39f45c0dfc7a84b43035a4ab10aae400\", element=\"fc49be61-0a67-4b45-aeb0-d0e3c4027ef1\")>,\n",
       " <selenium.webdriver.remote.webelement.WebElement (session=\"39f45c0dfc7a84b43035a4ab10aae400\", element=\"1759d025-2e32-4abe-8ca1-f02c2d23cc6b\")>,\n",
       " <selenium.webdriver.remote.webelement.WebElement (session=\"39f45c0dfc7a84b43035a4ab10aae400\", element=\"57e8468c-737e-49d4-bc47-06c2a176b59c\")>,\n",
       " <selenium.webdriver.remote.webelement.WebElement (session=\"39f45c0dfc7a84b43035a4ab10aae400\", element=\"a2afbe16-69ed-48c8-a075-14eb7395a4a4\")>,\n",
       " <selenium.webdriver.remote.webelement.WebElement (session=\"39f45c0dfc7a84b43035a4ab10aae400\", element=\"df146822-fb09-4e0e-aa97-b15a0ad11007\")>,\n",
       " <selenium.webdriver.remote.webelement.WebElement (session=\"39f45c0dfc7a84b43035a4ab10aae400\", element=\"64d40e3f-da94-426d-9dcd-e6c0198064de\")>,\n",
       " <selenium.webdriver.remote.webelement.WebElement (session=\"39f45c0dfc7a84b43035a4ab10aae400\", element=\"c82a58bc-953a-46ce-b00d-d46d89e51ebb\")>,\n",
       " <selenium.webdriver.remote.webelement.WebElement (session=\"39f45c0dfc7a84b43035a4ab10aae400\", element=\"0ae26136-a982-4611-aede-b3e3be4b5997\")>,\n",
       " <selenium.webdriver.remote.webelement.WebElement (session=\"39f45c0dfc7a84b43035a4ab10aae400\", element=\"d4fa3da1-b63f-4e8f-a11a-a121c1a304c4\")>,\n",
       " <selenium.webdriver.remote.webelement.WebElement (session=\"39f45c0dfc7a84b43035a4ab10aae400\", element=\"a7576197-f7e8-4310-829e-a61325f95407\")>]"
      ]
     },
     "execution_count": 32,
     "metadata": {},
     "output_type": "execute_result"
    }
   ],
   "source": [
    "name=driver.find_elements_by_xpath(\"//span[@class='a-size-medium a-color-base a-text-normal']\")\n",
    "name"
   ]
  },
  {
   "cell_type": "code",
   "execution_count": 34,
   "id": "0e200ba7",
   "metadata": {},
   "outputs": [
    {
     "data": {
      "text/plain": [
       "['LG Gram Ultra-Light 11th Gen Core i5,8 GB RAM, 512 GB SSD, Win-10, Iris Xe Graphics, 14-inches (35.56 cms), Thunderbolt 4, USC -C x 2 (with Power), 999 Grams 3 Yr Warranty (14Z90P-G.AJ55A2, Black)',\n",
       " 'Lenovo IdeaPad Slim 3 2021 11th Gen Intel Core i5 15.6\" (39.62cm) FHD Thin & Light Laptop (8GB/256GB SSD/Windows 10/MS Office/Backlit Keyboard/2 Year Warranty/Arctic Grey/1.65Kg), 82H80156IN',\n",
       " 'HP 15 AMD Athlon 15.6\" (39.62cms) HD Laptop (Silver-3050U/4GB/1TB/Win 10/MS Office/Jet Black/1.85kg), 15s-gy0001au',\n",
       " 'Dell Inspiron 15 (3501) 15.6\" (39.62cms) FHD Display, 11th Generation Intel Core i3-1115G4, 8GB RAM, 1 TB HDD, Windows (R) 10 Home, English Microsoft (R) O&S 2019, Black',\n",
       " 'HP 15 Intel Pentium Gold 6405U Processor Entry Level 39.62 cms(15.6-inch) FHD Laptop (4GB/1TB/Win 10/Jet Black/1.74kg), 15s-du1052tu',\n",
       " 'Lenovo IdeaPad Slim 3 AMD 3020e 15.6\" (39.63cm) HD Thin & Light Laptop (4GB/1TB HDD/Windows 10/AMD Radeon Graphics/Platinum Grey/1.85Kg), 81W100VFIN',\n",
       " 'Lenovo IdeaPad Slim 3 AMD Athlon Silver 3050U 15.6\" (39.63cm) HD Thin & Light Laptop (4GB/1TB HDD/Windows 10/AMD Radeon Graphics/Platinum Grey/1.85Kg), 81W100W9IN',\n",
       " 'HP 15 (2021) Thin & Light Ryzen 3-3250 Laptop, 8 GB RAM, 1TB HDD, 39.62 cms (15.6\") FHD Screen, Windows 10, MS Office (15s-gr0011AU)',\n",
       " 'HP 15 Thin & Light Ryzen 3-3250 Laptop, 4 GB RAM, 1TB HDD, 38.1 cms (15\") FHD Screen, Windows 10, MS Office (15s-gr0006au)',\n",
       " 'HP Chromebook 14-inch (35.56 cms) Thin & Light Touchscreen Laptop (Celeron N4020/4GB/64GB eMMC + 256GB Expandable Storage/Chrome OS/1.46 kgs Light/ Mineral Silver), 14a-na0003TU',\n",
       " 'Fujitsu UH-X 11th Gen Intel i7 Core 13.3” (33.78cm) FHD IPS 400Nits Thin and Light Laptop (16GB/512GB SSD/Win10/Office/Iris Xe Graphics/Backlit Kb/ Fingerprint Reader/Black/878gms), 4ZR1D67596',\n",
       " 'Lenovo IdeaPad Slim 3 2021 11th Gen Intel Core i3 15.6\" (39.62cm) FHD Thin & Light Laptop (8GB/512GB SSD/Windows 10/MS Office/2 Year Warranty/Arctic Grey/1.65Kg), 82H800U5IN',\n",
       " 'RDP ThinBook 1010 - Intel Celeron Quad Core Processor, 4GB RAM, 64GB Storage, Windows 10 Pro, 14.1” HD Screen',\n",
       " 'AVITA Essential Refresh NE14A2INC43A-MB 14-inch/35.56 cm(Intel Celeron-N4020/4GB/128GB SSD/Windows 10 Home/FHD/Integrated Graphics), Matt Black',\n",
       " 'Lenovo IdeaPad Slim 3 10th Gen Intel Core i3 15.6\" (39.63cm) FHD Thin & Light Laptop (8GB/1TB HDD/Windows 10/MS Office/Intel UHD Graphics/2 Year Warranty/Platinum Grey/1.7Kg), 81WB015GIN',\n",
       " 'HP Pavilion (2021) 11th Gen Core i5 Laptop, 16 GB RAM, 2GB NVIDIA Graphics, 512GB SSD, 15.6\"(39.62cms) FHD Screen, Windows 10, MS Office, Finger Print Reader, Alexa Built-in (15-eg0103TX)',\n",
       " 'ASUS Celeron Dual Core - (4 GB/1 TB HDD/Windows 10 Home) X515MA-BR004T Thin and Light Laptop (15.6 inch/39.6 cm, Transparent Silver, 1.80 Kg',\n",
       " 'Lenovo IdeaPad Slim 3 10th Gen Intel Core i3 14\" (35.56cm) FHD Thin & Light Laptop (8GB/256GB SSD/Windows 10/MS Office/Intel UHD Graphics/2 Year Warranty/Platinum Grey/1.5Kg), 81WA00K4IN',\n",
       " 'HP Notebook PC 245 G7 14\" (35.56cms) Laptop ATHLON-3050U/4GB/1TB/Windows 10 Home/ 1 Year Warranty (21Z04PA)',\n",
       " 'Lenovo IdeaPad Slim 5 AMD Ryzen 7 5700U 15.6\" (39.63cm) FHD IPS Thin & Light Laptop (16GB/512GB SSD/Windows 10/MS Office/Backlit Keyboard/Fingerprint Reader/Graphite Grey/1.66Kg), 82LN00A3IN',\n",
       " 'Lenovo IdeaPad Slim 3 (2021) | AMD Ryzen 5 |14\" FHD IPS |Thin and Light Laptop | 4-Side Narrow Bezel (8GB/512GB SSD/Win10/MS Office 2019/Backlit KB/Fingerprint Reader/Arctic Grey/1.41Kg), 82KT00BXIN',\n",
       " 'Lenovo IdeaPad Slim 5 11th Gen Intel Core i5 15.6\" (39.6cm) FHD IPS Thin & Light Laptop(8GB/1TB+256GB SSD/Windows 10/MS Office/Nvidia GeForce MX450/Fingerprint Reader/Graphite Grey/1.66Kg), 82FG010AIN']"
      ]
     },
     "execution_count": 34,
     "metadata": {},
     "output_type": "execute_result"
    }
   ],
   "source": [
    "title=[]\n",
    "for i in name:\n",
    "    title.append(i.text)\n",
    "title    "
   ]
  },
  {
   "cell_type": "code",
   "execution_count": 49,
   "id": "edead815",
   "metadata": {},
   "outputs": [
    {
     "data": {
      "text/plain": [
       "[<selenium.webdriver.remote.webelement.WebElement (session=\"39f45c0dfc7a84b43035a4ab10aae400\", element=\"2ece572f-5f1d-41c3-bbb0-5991e64a1666\")>,\n",
       " <selenium.webdriver.remote.webelement.WebElement (session=\"39f45c0dfc7a84b43035a4ab10aae400\", element=\"1c50ed27-da67-4b84-b10a-f6087669d8bd\")>,\n",
       " <selenium.webdriver.remote.webelement.WebElement (session=\"39f45c0dfc7a84b43035a4ab10aae400\", element=\"77dc20b8-263f-42ee-a988-9ac64807d476\")>,\n",
       " <selenium.webdriver.remote.webelement.WebElement (session=\"39f45c0dfc7a84b43035a4ab10aae400\", element=\"f60cbaa3-d8fd-41bc-b068-15d94f1ba54c\")>,\n",
       " <selenium.webdriver.remote.webelement.WebElement (session=\"39f45c0dfc7a84b43035a4ab10aae400\", element=\"04d390d2-5e02-49c8-be00-e14176862f5f\")>,\n",
       " <selenium.webdriver.remote.webelement.WebElement (session=\"39f45c0dfc7a84b43035a4ab10aae400\", element=\"08da6be9-399f-4ebe-ad65-1d2364b03eee\")>,\n",
       " <selenium.webdriver.remote.webelement.WebElement (session=\"39f45c0dfc7a84b43035a4ab10aae400\", element=\"d1ddcc84-4b20-4a5f-89da-f5403cff628a\")>,\n",
       " <selenium.webdriver.remote.webelement.WebElement (session=\"39f45c0dfc7a84b43035a4ab10aae400\", element=\"0c1323a0-5a44-464e-bd96-0355058427a3\")>,\n",
       " <selenium.webdriver.remote.webelement.WebElement (session=\"39f45c0dfc7a84b43035a4ab10aae400\", element=\"12b98cad-2cd4-4a5a-addb-6332acde8ad7\")>,\n",
       " <selenium.webdriver.remote.webelement.WebElement (session=\"39f45c0dfc7a84b43035a4ab10aae400\", element=\"f4028874-d258-4ab3-a7f3-7a7a4e54e3ef\")>,\n",
       " <selenium.webdriver.remote.webelement.WebElement (session=\"39f45c0dfc7a84b43035a4ab10aae400\", element=\"f3c7abb4-4c10-4c8a-9147-b6290c5a589e\")>,\n",
       " <selenium.webdriver.remote.webelement.WebElement (session=\"39f45c0dfc7a84b43035a4ab10aae400\", element=\"e7e21736-025c-407b-ac27-7ec49da6100d\")>,\n",
       " <selenium.webdriver.remote.webelement.WebElement (session=\"39f45c0dfc7a84b43035a4ab10aae400\", element=\"71b3893d-fed5-422b-8c09-4b20cbe76e25\")>,\n",
       " <selenium.webdriver.remote.webelement.WebElement (session=\"39f45c0dfc7a84b43035a4ab10aae400\", element=\"2323db67-6322-49f6-8f28-d65da542f8fd\")>,\n",
       " <selenium.webdriver.remote.webelement.WebElement (session=\"39f45c0dfc7a84b43035a4ab10aae400\", element=\"c5a2e347-2b6e-417c-a218-d8f30c82ad30\")>,\n",
       " <selenium.webdriver.remote.webelement.WebElement (session=\"39f45c0dfc7a84b43035a4ab10aae400\", element=\"79c26e23-89af-422a-b5bc-c7ad4a6aa89e\")>,\n",
       " <selenium.webdriver.remote.webelement.WebElement (session=\"39f45c0dfc7a84b43035a4ab10aae400\", element=\"ca2a0ddb-ba10-48b0-94a8-96f858d339b4\")>,\n",
       " <selenium.webdriver.remote.webelement.WebElement (session=\"39f45c0dfc7a84b43035a4ab10aae400\", element=\"65f67676-a2da-4edb-a43d-8098f560f2cc\")>,\n",
       " <selenium.webdriver.remote.webelement.WebElement (session=\"39f45c0dfc7a84b43035a4ab10aae400\", element=\"e2a62650-2a0e-406c-97e2-d380322446f6\")>,\n",
       " <selenium.webdriver.remote.webelement.WebElement (session=\"39f45c0dfc7a84b43035a4ab10aae400\", element=\"ba8c4b86-877d-4653-9dd5-882c70d9f942\")>,\n",
       " <selenium.webdriver.remote.webelement.WebElement (session=\"39f45c0dfc7a84b43035a4ab10aae400\", element=\"331fe716-aaf3-4050-855a-2a67fa809c97\")>,\n",
       " <selenium.webdriver.remote.webelement.WebElement (session=\"39f45c0dfc7a84b43035a4ab10aae400\", element=\"30e7b9c7-3b5b-4782-93f1-5c092e43bfe8\")>,\n",
       " <selenium.webdriver.remote.webelement.WebElement (session=\"39f45c0dfc7a84b43035a4ab10aae400\", element=\"485ac6c6-1681-4a58-ac96-c67e27bea7d4\")>,\n",
       " <selenium.webdriver.remote.webelement.WebElement (session=\"39f45c0dfc7a84b43035a4ab10aae400\", element=\"2a1df65a-b6e6-4fb6-a35b-6e6079633dd8\")>,\n",
       " <selenium.webdriver.remote.webelement.WebElement (session=\"39f45c0dfc7a84b43035a4ab10aae400\", element=\"b8ed75d0-065a-4f2b-9e2b-8ad10ce2ec06\")>,\n",
       " <selenium.webdriver.remote.webelement.WebElement (session=\"39f45c0dfc7a84b43035a4ab10aae400\", element=\"4a17ca81-68d9-4b2e-a60d-2a1305611914\")>]"
      ]
     },
     "execution_count": 49,
     "metadata": {},
     "output_type": "execute_result"
    }
   ],
   "source": [
    "price=driver.find_elements_by_xpath(\"//span[@class='a-price-whole']\")\n",
    "price\n"
   ]
  },
  {
   "cell_type": "code",
   "execution_count": 50,
   "id": "c39ee4b0",
   "metadata": {},
   "outputs": [
    {
     "data": {
      "text/plain": [
       "['95,990',\n",
       " '1,24,800',\n",
       " '77,990',\n",
       " '57,990',\n",
       " '95,990',\n",
       " '80,630',\n",
       " '94,000',\n",
       " '1,19,499',\n",
       " '52,999',\n",
       " '41,999',\n",
       " '1,01,910',\n",
       " '40,999',\n",
       " '44,999',\n",
       " '94,955',\n",
       " '39,999',\n",
       " '45,999',\n",
       " '47,999',\n",
       " '51,999',\n",
       " '41,999',\n",
       " '46,999',\n",
       " '63,999',\n",
       " '50,999',\n",
       " '73,990',\n",
       " '87,990',\n",
       " '45,999',\n",
       " '74,990']"
      ]
     },
     "execution_count": 50,
     "metadata": {},
     "output_type": "execute_result"
    }
   ],
   "source": [
    "prices=[]\n",
    "for i in price:\n",
    "    prices.append(i.text)\n",
    "prices    "
   ]
  },
  {
   "cell_type": "code",
   "execution_count": 53,
   "id": "3cd6e460",
   "metadata": {},
   "outputs": [
    {
     "data": {
      "text/html": [
       "<div>\n",
       "<style scoped>\n",
       "    .dataframe tbody tr th:only-of-type {\n",
       "        vertical-align: middle;\n",
       "    }\n",
       "\n",
       "    .dataframe tbody tr th {\n",
       "        vertical-align: top;\n",
       "    }\n",
       "\n",
       "    .dataframe thead th {\n",
       "        text-align: right;\n",
       "    }\n",
       "</style>\n",
       "<table border=\"1\" class=\"dataframe\">\n",
       "  <thead>\n",
       "    <tr style=\"text-align: right;\">\n",
       "      <th></th>\n",
       "      <th>Brand</th>\n",
       "      <th>price</th>\n",
       "    </tr>\n",
       "  </thead>\n",
       "  <tbody>\n",
       "    <tr>\n",
       "      <th>0</th>\n",
       "      <td>LG Gram Ultra-Light 11th Gen Core i5,8 GB RAM,...</td>\n",
       "      <td>95,990</td>\n",
       "    </tr>\n",
       "    <tr>\n",
       "      <th>1</th>\n",
       "      <td>Lenovo IdeaPad Slim 3 2021 11th Gen Intel Core...</td>\n",
       "      <td>1,24,800</td>\n",
       "    </tr>\n",
       "    <tr>\n",
       "      <th>2</th>\n",
       "      <td>HP 15 AMD Athlon 15.6\" (39.62cms) HD Laptop (S...</td>\n",
       "      <td>77,990</td>\n",
       "    </tr>\n",
       "    <tr>\n",
       "      <th>3</th>\n",
       "      <td>Dell Inspiron 15 (3501) 15.6\" (39.62cms) FHD D...</td>\n",
       "      <td>57,990</td>\n",
       "    </tr>\n",
       "    <tr>\n",
       "      <th>4</th>\n",
       "      <td>HP 15 Intel Pentium Gold 6405U Processor Entry...</td>\n",
       "      <td>95,990</td>\n",
       "    </tr>\n",
       "    <tr>\n",
       "      <th>5</th>\n",
       "      <td>Lenovo IdeaPad Slim 3 AMD 3020e 15.6\" (39.63cm...</td>\n",
       "      <td>80,630</td>\n",
       "    </tr>\n",
       "    <tr>\n",
       "      <th>6</th>\n",
       "      <td>Lenovo IdeaPad Slim 3 AMD Athlon Silver 3050U ...</td>\n",
       "      <td>94,000</td>\n",
       "    </tr>\n",
       "    <tr>\n",
       "      <th>7</th>\n",
       "      <td>HP 15 (2021) Thin &amp; Light Ryzen 3-3250 Laptop,...</td>\n",
       "      <td>1,19,499</td>\n",
       "    </tr>\n",
       "    <tr>\n",
       "      <th>8</th>\n",
       "      <td>HP 15 Thin &amp; Light Ryzen 3-3250 Laptop, 4 GB R...</td>\n",
       "      <td>52,999</td>\n",
       "    </tr>\n",
       "    <tr>\n",
       "      <th>9</th>\n",
       "      <td>HP Chromebook 14-inch (35.56 cms) Thin &amp; Light...</td>\n",
       "      <td>41,999</td>\n",
       "    </tr>\n",
       "  </tbody>\n",
       "</table>\n",
       "</div>"
      ],
      "text/plain": [
       "                                               Brand     price\n",
       "0  LG Gram Ultra-Light 11th Gen Core i5,8 GB RAM,...    95,990\n",
       "1  Lenovo IdeaPad Slim 3 2021 11th Gen Intel Core...  1,24,800\n",
       "2  HP 15 AMD Athlon 15.6\" (39.62cms) HD Laptop (S...    77,990\n",
       "3  Dell Inspiron 15 (3501) 15.6\" (39.62cms) FHD D...    57,990\n",
       "4  HP 15 Intel Pentium Gold 6405U Processor Entry...    95,990\n",
       "5  Lenovo IdeaPad Slim 3 AMD 3020e 15.6\" (39.63cm...    80,630\n",
       "6  Lenovo IdeaPad Slim 3 AMD Athlon Silver 3050U ...    94,000\n",
       "7  HP 15 (2021) Thin & Light Ryzen 3-3250 Laptop,...  1,19,499\n",
       "8  HP 15 Thin & Light Ryzen 3-3250 Laptop, 4 GB R...    52,999\n",
       "9  HP Chromebook 14-inch (35.56 cms) Thin & Light...    41,999"
      ]
     },
     "execution_count": 53,
     "metadata": {},
     "output_type": "execute_result"
    }
   ],
   "source": [
    "laptop=pd.DataFrame({})\n",
    "laptop['Brand']=title[0:10]\n",
    "laptop['price']=prices[0:10]\n",
    "laptop"
   ]
  },
  {
   "cell_type": "code",
   "execution_count": null,
   "id": "a5482d8e",
   "metadata": {},
   "outputs": [],
   "source": []
  }
 ],
 "metadata": {
  "kernelspec": {
   "display_name": "Python 3",
   "language": "python",
   "name": "python3"
  },
  "language_info": {
   "codemirror_mode": {
    "name": "ipython",
    "version": 3
   },
   "file_extension": ".py",
   "mimetype": "text/x-python",
   "name": "python",
   "nbconvert_exporter": "python",
   "pygments_lexer": "ipython3",
   "version": "3.8.8"
  }
 },
 "nbformat": 4,
 "nbformat_minor": 5
}
